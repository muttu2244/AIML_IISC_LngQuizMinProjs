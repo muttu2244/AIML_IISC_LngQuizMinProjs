{
  "nbformat": 4,
  "nbformat_minor": 0,
  "metadata": {
    "colab": {
      "provenance": [],
      "gpuType": "T4",
      "include_colab_link": true
    },
    "kernelspec": {
      "name": "python3",
      "display_name": "Python 3"
    },
    "language_info": {
      "name": "python"
    },
    "accelerator": "GPU",
    "widgets": {
      "application/vnd.jupyter.widget-state+json": {
        "c5bf40896d4d4e13bbf43cdd808d0547": {
          "model_module": "@jupyter-widgets/controls",
          "model_name": "HBoxModel",
          "model_module_version": "1.5.0",
          "state": {
            "_dom_classes": [],
            "_model_module": "@jupyter-widgets/controls",
            "_model_module_version": "1.5.0",
            "_model_name": "HBoxModel",
            "_view_count": null,
            "_view_module": "@jupyter-widgets/controls",
            "_view_module_version": "1.5.0",
            "_view_name": "HBoxView",
            "box_style": "",
            "children": [
              "IPY_MODEL_8729d9ab26e646b48d3fa830d6ada018",
              "IPY_MODEL_350eafe5295d4faba0d6e32dc5ea023b",
              "IPY_MODEL_0df5437093fb4cca968fb29f46a8b1cd"
            ],
            "layout": "IPY_MODEL_46c614d9852c4b93a16f5daaabc36fc8"
          }
        },
        "8729d9ab26e646b48d3fa830d6ada018": {
          "model_module": "@jupyter-widgets/controls",
          "model_name": "HTMLModel",
          "model_module_version": "1.5.0",
          "state": {
            "_dom_classes": [],
            "_model_module": "@jupyter-widgets/controls",
            "_model_module_version": "1.5.0",
            "_model_name": "HTMLModel",
            "_view_count": null,
            "_view_module": "@jupyter-widgets/controls",
            "_view_module_version": "1.5.0",
            "_view_name": "HTMLView",
            "description": "",
            "description_tooltip": null,
            "layout": "IPY_MODEL_5e118fb400cc4473881dafdd3e9c452a",
            "placeholder": "​",
            "style": "IPY_MODEL_6375cbcf129a4ea5af9a0d978835d50a",
            "value": "tokenizer_config.json: 100%"
          }
        },
        "350eafe5295d4faba0d6e32dc5ea023b": {
          "model_module": "@jupyter-widgets/controls",
          "model_name": "FloatProgressModel",
          "model_module_version": "1.5.0",
          "state": {
            "_dom_classes": [],
            "_model_module": "@jupyter-widgets/controls",
            "_model_module_version": "1.5.0",
            "_model_name": "FloatProgressModel",
            "_view_count": null,
            "_view_module": "@jupyter-widgets/controls",
            "_view_module_version": "1.5.0",
            "_view_name": "ProgressView",
            "bar_style": "success",
            "description": "",
            "description_tooltip": null,
            "layout": "IPY_MODEL_ff27dab980444022a2d119673832b320",
            "max": 48,
            "min": 0,
            "orientation": "horizontal",
            "style": "IPY_MODEL_0e997a33c54546bca49b954b18f6afbd",
            "value": 48
          }
        },
        "0df5437093fb4cca968fb29f46a8b1cd": {
          "model_module": "@jupyter-widgets/controls",
          "model_name": "HTMLModel",
          "model_module_version": "1.5.0",
          "state": {
            "_dom_classes": [],
            "_model_module": "@jupyter-widgets/controls",
            "_model_module_version": "1.5.0",
            "_model_name": "HTMLModel",
            "_view_count": null,
            "_view_module": "@jupyter-widgets/controls",
            "_view_module_version": "1.5.0",
            "_view_name": "HTMLView",
            "description": "",
            "description_tooltip": null,
            "layout": "IPY_MODEL_5de0112c3f2743fe9b3cdfd5fd4f6047",
            "placeholder": "​",
            "style": "IPY_MODEL_03e8b5b085d14b249ec3bb74b6377092",
            "value": " 48.0/48.0 [00:00&lt;00:00, 1.19kB/s]"
          }
        },
        "46c614d9852c4b93a16f5daaabc36fc8": {
          "model_module": "@jupyter-widgets/base",
          "model_name": "LayoutModel",
          "model_module_version": "1.2.0",
          "state": {
            "_model_module": "@jupyter-widgets/base",
            "_model_module_version": "1.2.0",
            "_model_name": "LayoutModel",
            "_view_count": null,
            "_view_module": "@jupyter-widgets/base",
            "_view_module_version": "1.2.0",
            "_view_name": "LayoutView",
            "align_content": null,
            "align_items": null,
            "align_self": null,
            "border": null,
            "bottom": null,
            "display": null,
            "flex": null,
            "flex_flow": null,
            "grid_area": null,
            "grid_auto_columns": null,
            "grid_auto_flow": null,
            "grid_auto_rows": null,
            "grid_column": null,
            "grid_gap": null,
            "grid_row": null,
            "grid_template_areas": null,
            "grid_template_columns": null,
            "grid_template_rows": null,
            "height": null,
            "justify_content": null,
            "justify_items": null,
            "left": null,
            "margin": null,
            "max_height": null,
            "max_width": null,
            "min_height": null,
            "min_width": null,
            "object_fit": null,
            "object_position": null,
            "order": null,
            "overflow": null,
            "overflow_x": null,
            "overflow_y": null,
            "padding": null,
            "right": null,
            "top": null,
            "visibility": null,
            "width": null
          }
        },
        "5e118fb400cc4473881dafdd3e9c452a": {
          "model_module": "@jupyter-widgets/base",
          "model_name": "LayoutModel",
          "model_module_version": "1.2.0",
          "state": {
            "_model_module": "@jupyter-widgets/base",
            "_model_module_version": "1.2.0",
            "_model_name": "LayoutModel",
            "_view_count": null,
            "_view_module": "@jupyter-widgets/base",
            "_view_module_version": "1.2.0",
            "_view_name": "LayoutView",
            "align_content": null,
            "align_items": null,
            "align_self": null,
            "border": null,
            "bottom": null,
            "display": null,
            "flex": null,
            "flex_flow": null,
            "grid_area": null,
            "grid_auto_columns": null,
            "grid_auto_flow": null,
            "grid_auto_rows": null,
            "grid_column": null,
            "grid_gap": null,
            "grid_row": null,
            "grid_template_areas": null,
            "grid_template_columns": null,
            "grid_template_rows": null,
            "height": null,
            "justify_content": null,
            "justify_items": null,
            "left": null,
            "margin": null,
            "max_height": null,
            "max_width": null,
            "min_height": null,
            "min_width": null,
            "object_fit": null,
            "object_position": null,
            "order": null,
            "overflow": null,
            "overflow_x": null,
            "overflow_y": null,
            "padding": null,
            "right": null,
            "top": null,
            "visibility": null,
            "width": null
          }
        },
        "6375cbcf129a4ea5af9a0d978835d50a": {
          "model_module": "@jupyter-widgets/controls",
          "model_name": "DescriptionStyleModel",
          "model_module_version": "1.5.0",
          "state": {
            "_model_module": "@jupyter-widgets/controls",
            "_model_module_version": "1.5.0",
            "_model_name": "DescriptionStyleModel",
            "_view_count": null,
            "_view_module": "@jupyter-widgets/base",
            "_view_module_version": "1.2.0",
            "_view_name": "StyleView",
            "description_width": ""
          }
        },
        "ff27dab980444022a2d119673832b320": {
          "model_module": "@jupyter-widgets/base",
          "model_name": "LayoutModel",
          "model_module_version": "1.2.0",
          "state": {
            "_model_module": "@jupyter-widgets/base",
            "_model_module_version": "1.2.0",
            "_model_name": "LayoutModel",
            "_view_count": null,
            "_view_module": "@jupyter-widgets/base",
            "_view_module_version": "1.2.0",
            "_view_name": "LayoutView",
            "align_content": null,
            "align_items": null,
            "align_self": null,
            "border": null,
            "bottom": null,
            "display": null,
            "flex": null,
            "flex_flow": null,
            "grid_area": null,
            "grid_auto_columns": null,
            "grid_auto_flow": null,
            "grid_auto_rows": null,
            "grid_column": null,
            "grid_gap": null,
            "grid_row": null,
            "grid_template_areas": null,
            "grid_template_columns": null,
            "grid_template_rows": null,
            "height": null,
            "justify_content": null,
            "justify_items": null,
            "left": null,
            "margin": null,
            "max_height": null,
            "max_width": null,
            "min_height": null,
            "min_width": null,
            "object_fit": null,
            "object_position": null,
            "order": null,
            "overflow": null,
            "overflow_x": null,
            "overflow_y": null,
            "padding": null,
            "right": null,
            "top": null,
            "visibility": null,
            "width": null
          }
        },
        "0e997a33c54546bca49b954b18f6afbd": {
          "model_module": "@jupyter-widgets/controls",
          "model_name": "ProgressStyleModel",
          "model_module_version": "1.5.0",
          "state": {
            "_model_module": "@jupyter-widgets/controls",
            "_model_module_version": "1.5.0",
            "_model_name": "ProgressStyleModel",
            "_view_count": null,
            "_view_module": "@jupyter-widgets/base",
            "_view_module_version": "1.2.0",
            "_view_name": "StyleView",
            "bar_color": null,
            "description_width": ""
          }
        },
        "5de0112c3f2743fe9b3cdfd5fd4f6047": {
          "model_module": "@jupyter-widgets/base",
          "model_name": "LayoutModel",
          "model_module_version": "1.2.0",
          "state": {
            "_model_module": "@jupyter-widgets/base",
            "_model_module_version": "1.2.0",
            "_model_name": "LayoutModel",
            "_view_count": null,
            "_view_module": "@jupyter-widgets/base",
            "_view_module_version": "1.2.0",
            "_view_name": "LayoutView",
            "align_content": null,
            "align_items": null,
            "align_self": null,
            "border": null,
            "bottom": null,
            "display": null,
            "flex": null,
            "flex_flow": null,
            "grid_area": null,
            "grid_auto_columns": null,
            "grid_auto_flow": null,
            "grid_auto_rows": null,
            "grid_column": null,
            "grid_gap": null,
            "grid_row": null,
            "grid_template_areas": null,
            "grid_template_columns": null,
            "grid_template_rows": null,
            "height": null,
            "justify_content": null,
            "justify_items": null,
            "left": null,
            "margin": null,
            "max_height": null,
            "max_width": null,
            "min_height": null,
            "min_width": null,
            "object_fit": null,
            "object_position": null,
            "order": null,
            "overflow": null,
            "overflow_x": null,
            "overflow_y": null,
            "padding": null,
            "right": null,
            "top": null,
            "visibility": null,
            "width": null
          }
        },
        "03e8b5b085d14b249ec3bb74b6377092": {
          "model_module": "@jupyter-widgets/controls",
          "model_name": "DescriptionStyleModel",
          "model_module_version": "1.5.0",
          "state": {
            "_model_module": "@jupyter-widgets/controls",
            "_model_module_version": "1.5.0",
            "_model_name": "DescriptionStyleModel",
            "_view_count": null,
            "_view_module": "@jupyter-widgets/base",
            "_view_module_version": "1.2.0",
            "_view_name": "StyleView",
            "description_width": ""
          }
        },
        "731ee048945c46568e1b7fd471248356": {
          "model_module": "@jupyter-widgets/controls",
          "model_name": "HBoxModel",
          "model_module_version": "1.5.0",
          "state": {
            "_dom_classes": [],
            "_model_module": "@jupyter-widgets/controls",
            "_model_module_version": "1.5.0",
            "_model_name": "HBoxModel",
            "_view_count": null,
            "_view_module": "@jupyter-widgets/controls",
            "_view_module_version": "1.5.0",
            "_view_name": "HBoxView",
            "box_style": "",
            "children": [
              "IPY_MODEL_77aacbfd8633492d86dc896de7e9b02f",
              "IPY_MODEL_6552021d995c4269a1d5f6484e81b66e",
              "IPY_MODEL_517e5368e3ed4564ab43da84d2446b44"
            ],
            "layout": "IPY_MODEL_51c287d91e4143d2983c35d2f7b173e4"
          }
        },
        "77aacbfd8633492d86dc896de7e9b02f": {
          "model_module": "@jupyter-widgets/controls",
          "model_name": "HTMLModel",
          "model_module_version": "1.5.0",
          "state": {
            "_dom_classes": [],
            "_model_module": "@jupyter-widgets/controls",
            "_model_module_version": "1.5.0",
            "_model_name": "HTMLModel",
            "_view_count": null,
            "_view_module": "@jupyter-widgets/controls",
            "_view_module_version": "1.5.0",
            "_view_name": "HTMLView",
            "description": "",
            "description_tooltip": null,
            "layout": "IPY_MODEL_ff61aed83e044ae7a7a549a4f873d633",
            "placeholder": "​",
            "style": "IPY_MODEL_0c8231e66e6b42f692488fc4470e271a",
            "value": "config.json: 100%"
          }
        },
        "6552021d995c4269a1d5f6484e81b66e": {
          "model_module": "@jupyter-widgets/controls",
          "model_name": "FloatProgressModel",
          "model_module_version": "1.5.0",
          "state": {
            "_dom_classes": [],
            "_model_module": "@jupyter-widgets/controls",
            "_model_module_version": "1.5.0",
            "_model_name": "FloatProgressModel",
            "_view_count": null,
            "_view_module": "@jupyter-widgets/controls",
            "_view_module_version": "1.5.0",
            "_view_name": "ProgressView",
            "bar_style": "success",
            "description": "",
            "description_tooltip": null,
            "layout": "IPY_MODEL_97d535a2e80b4e3cb6d13e11fda05139",
            "max": 483,
            "min": 0,
            "orientation": "horizontal",
            "style": "IPY_MODEL_b52aacd8132c43a09921a5a37521d6a9",
            "value": 483
          }
        },
        "517e5368e3ed4564ab43da84d2446b44": {
          "model_module": "@jupyter-widgets/controls",
          "model_name": "HTMLModel",
          "model_module_version": "1.5.0",
          "state": {
            "_dom_classes": [],
            "_model_module": "@jupyter-widgets/controls",
            "_model_module_version": "1.5.0",
            "_model_name": "HTMLModel",
            "_view_count": null,
            "_view_module": "@jupyter-widgets/controls",
            "_view_module_version": "1.5.0",
            "_view_name": "HTMLView",
            "description": "",
            "description_tooltip": null,
            "layout": "IPY_MODEL_c604f57ade3b4426875540184ffd7dd5",
            "placeholder": "​",
            "style": "IPY_MODEL_9974d211356f4f5391ae20d61a6a3ef3",
            "value": " 483/483 [00:00&lt;00:00, 7.33kB/s]"
          }
        },
        "51c287d91e4143d2983c35d2f7b173e4": {
          "model_module": "@jupyter-widgets/base",
          "model_name": "LayoutModel",
          "model_module_version": "1.2.0",
          "state": {
            "_model_module": "@jupyter-widgets/base",
            "_model_module_version": "1.2.0",
            "_model_name": "LayoutModel",
            "_view_count": null,
            "_view_module": "@jupyter-widgets/base",
            "_view_module_version": "1.2.0",
            "_view_name": "LayoutView",
            "align_content": null,
            "align_items": null,
            "align_self": null,
            "border": null,
            "bottom": null,
            "display": null,
            "flex": null,
            "flex_flow": null,
            "grid_area": null,
            "grid_auto_columns": null,
            "grid_auto_flow": null,
            "grid_auto_rows": null,
            "grid_column": null,
            "grid_gap": null,
            "grid_row": null,
            "grid_template_areas": null,
            "grid_template_columns": null,
            "grid_template_rows": null,
            "height": null,
            "justify_content": null,
            "justify_items": null,
            "left": null,
            "margin": null,
            "max_height": null,
            "max_width": null,
            "min_height": null,
            "min_width": null,
            "object_fit": null,
            "object_position": null,
            "order": null,
            "overflow": null,
            "overflow_x": null,
            "overflow_y": null,
            "padding": null,
            "right": null,
            "top": null,
            "visibility": null,
            "width": null
          }
        },
        "ff61aed83e044ae7a7a549a4f873d633": {
          "model_module": "@jupyter-widgets/base",
          "model_name": "LayoutModel",
          "model_module_version": "1.2.0",
          "state": {
            "_model_module": "@jupyter-widgets/base",
            "_model_module_version": "1.2.0",
            "_model_name": "LayoutModel",
            "_view_count": null,
            "_view_module": "@jupyter-widgets/base",
            "_view_module_version": "1.2.0",
            "_view_name": "LayoutView",
            "align_content": null,
            "align_items": null,
            "align_self": null,
            "border": null,
            "bottom": null,
            "display": null,
            "flex": null,
            "flex_flow": null,
            "grid_area": null,
            "grid_auto_columns": null,
            "grid_auto_flow": null,
            "grid_auto_rows": null,
            "grid_column": null,
            "grid_gap": null,
            "grid_row": null,
            "grid_template_areas": null,
            "grid_template_columns": null,
            "grid_template_rows": null,
            "height": null,
            "justify_content": null,
            "justify_items": null,
            "left": null,
            "margin": null,
            "max_height": null,
            "max_width": null,
            "min_height": null,
            "min_width": null,
            "object_fit": null,
            "object_position": null,
            "order": null,
            "overflow": null,
            "overflow_x": null,
            "overflow_y": null,
            "padding": null,
            "right": null,
            "top": null,
            "visibility": null,
            "width": null
          }
        },
        "0c8231e66e6b42f692488fc4470e271a": {
          "model_module": "@jupyter-widgets/controls",
          "model_name": "DescriptionStyleModel",
          "model_module_version": "1.5.0",
          "state": {
            "_model_module": "@jupyter-widgets/controls",
            "_model_module_version": "1.5.0",
            "_model_name": "DescriptionStyleModel",
            "_view_count": null,
            "_view_module": "@jupyter-widgets/base",
            "_view_module_version": "1.2.0",
            "_view_name": "StyleView",
            "description_width": ""
          }
        },
        "97d535a2e80b4e3cb6d13e11fda05139": {
          "model_module": "@jupyter-widgets/base",
          "model_name": "LayoutModel",
          "model_module_version": "1.2.0",
          "state": {
            "_model_module": "@jupyter-widgets/base",
            "_model_module_version": "1.2.0",
            "_model_name": "LayoutModel",
            "_view_count": null,
            "_view_module": "@jupyter-widgets/base",
            "_view_module_version": "1.2.0",
            "_view_name": "LayoutView",
            "align_content": null,
            "align_items": null,
            "align_self": null,
            "border": null,
            "bottom": null,
            "display": null,
            "flex": null,
            "flex_flow": null,
            "grid_area": null,
            "grid_auto_columns": null,
            "grid_auto_flow": null,
            "grid_auto_rows": null,
            "grid_column": null,
            "grid_gap": null,
            "grid_row": null,
            "grid_template_areas": null,
            "grid_template_columns": null,
            "grid_template_rows": null,
            "height": null,
            "justify_content": null,
            "justify_items": null,
            "left": null,
            "margin": null,
            "max_height": null,
            "max_width": null,
            "min_height": null,
            "min_width": null,
            "object_fit": null,
            "object_position": null,
            "order": null,
            "overflow": null,
            "overflow_x": null,
            "overflow_y": null,
            "padding": null,
            "right": null,
            "top": null,
            "visibility": null,
            "width": null
          }
        },
        "b52aacd8132c43a09921a5a37521d6a9": {
          "model_module": "@jupyter-widgets/controls",
          "model_name": "ProgressStyleModel",
          "model_module_version": "1.5.0",
          "state": {
            "_model_module": "@jupyter-widgets/controls",
            "_model_module_version": "1.5.0",
            "_model_name": "ProgressStyleModel",
            "_view_count": null,
            "_view_module": "@jupyter-widgets/base",
            "_view_module_version": "1.2.0",
            "_view_name": "StyleView",
            "bar_color": null,
            "description_width": ""
          }
        },
        "c604f57ade3b4426875540184ffd7dd5": {
          "model_module": "@jupyter-widgets/base",
          "model_name": "LayoutModel",
          "model_module_version": "1.2.0",
          "state": {
            "_model_module": "@jupyter-widgets/base",
            "_model_module_version": "1.2.0",
            "_model_name": "LayoutModel",
            "_view_count": null,
            "_view_module": "@jupyter-widgets/base",
            "_view_module_version": "1.2.0",
            "_view_name": "LayoutView",
            "align_content": null,
            "align_items": null,
            "align_self": null,
            "border": null,
            "bottom": null,
            "display": null,
            "flex": null,
            "flex_flow": null,
            "grid_area": null,
            "grid_auto_columns": null,
            "grid_auto_flow": null,
            "grid_auto_rows": null,
            "grid_column": null,
            "grid_gap": null,
            "grid_row": null,
            "grid_template_areas": null,
            "grid_template_columns": null,
            "grid_template_rows": null,
            "height": null,
            "justify_content": null,
            "justify_items": null,
            "left": null,
            "margin": null,
            "max_height": null,
            "max_width": null,
            "min_height": null,
            "min_width": null,
            "object_fit": null,
            "object_position": null,
            "order": null,
            "overflow": null,
            "overflow_x": null,
            "overflow_y": null,
            "padding": null,
            "right": null,
            "top": null,
            "visibility": null,
            "width": null
          }
        },
        "9974d211356f4f5391ae20d61a6a3ef3": {
          "model_module": "@jupyter-widgets/controls",
          "model_name": "DescriptionStyleModel",
          "model_module_version": "1.5.0",
          "state": {
            "_model_module": "@jupyter-widgets/controls",
            "_model_module_version": "1.5.0",
            "_model_name": "DescriptionStyleModel",
            "_view_count": null,
            "_view_module": "@jupyter-widgets/base",
            "_view_module_version": "1.2.0",
            "_view_name": "StyleView",
            "description_width": ""
          }
        },
        "00013146b44b49d8a1f61c397ad33400": {
          "model_module": "@jupyter-widgets/controls",
          "model_name": "HBoxModel",
          "model_module_version": "1.5.0",
          "state": {
            "_dom_classes": [],
            "_model_module": "@jupyter-widgets/controls",
            "_model_module_version": "1.5.0",
            "_model_name": "HBoxModel",
            "_view_count": null,
            "_view_module": "@jupyter-widgets/controls",
            "_view_module_version": "1.5.0",
            "_view_name": "HBoxView",
            "box_style": "",
            "children": [
              "IPY_MODEL_18af51c141e84c8dba74f07750e6fc33",
              "IPY_MODEL_ced4fa27620f47cda3cf0ed84e87cd7d",
              "IPY_MODEL_c3731de073a04feeb401a461a23ee4b7"
            ],
            "layout": "IPY_MODEL_5d4d68434cbe4e369664b3141bf10641"
          }
        },
        "18af51c141e84c8dba74f07750e6fc33": {
          "model_module": "@jupyter-widgets/controls",
          "model_name": "HTMLModel",
          "model_module_version": "1.5.0",
          "state": {
            "_dom_classes": [],
            "_model_module": "@jupyter-widgets/controls",
            "_model_module_version": "1.5.0",
            "_model_name": "HTMLModel",
            "_view_count": null,
            "_view_module": "@jupyter-widgets/controls",
            "_view_module_version": "1.5.0",
            "_view_name": "HTMLView",
            "description": "",
            "description_tooltip": null,
            "layout": "IPY_MODEL_ba743e0947e64188a7b2090a9b7bdd5b",
            "placeholder": "​",
            "style": "IPY_MODEL_7b58c4d8fc90497bae33708e162517b2",
            "value": "vocab.txt: 100%"
          }
        },
        "ced4fa27620f47cda3cf0ed84e87cd7d": {
          "model_module": "@jupyter-widgets/controls",
          "model_name": "FloatProgressModel",
          "model_module_version": "1.5.0",
          "state": {
            "_dom_classes": [],
            "_model_module": "@jupyter-widgets/controls",
            "_model_module_version": "1.5.0",
            "_model_name": "FloatProgressModel",
            "_view_count": null,
            "_view_module": "@jupyter-widgets/controls",
            "_view_module_version": "1.5.0",
            "_view_name": "ProgressView",
            "bar_style": "success",
            "description": "",
            "description_tooltip": null,
            "layout": "IPY_MODEL_98271dd7cddc4510a04023d75b3efb93",
            "max": 231508,
            "min": 0,
            "orientation": "horizontal",
            "style": "IPY_MODEL_c6f47a8740a64a35888bc560d385e5f2",
            "value": 231508
          }
        },
        "c3731de073a04feeb401a461a23ee4b7": {
          "model_module": "@jupyter-widgets/controls",
          "model_name": "HTMLModel",
          "model_module_version": "1.5.0",
          "state": {
            "_dom_classes": [],
            "_model_module": "@jupyter-widgets/controls",
            "_model_module_version": "1.5.0",
            "_model_name": "HTMLModel",
            "_view_count": null,
            "_view_module": "@jupyter-widgets/controls",
            "_view_module_version": "1.5.0",
            "_view_name": "HTMLView",
            "description": "",
            "description_tooltip": null,
            "layout": "IPY_MODEL_5fc27de23ff549e3ad560129766dca60",
            "placeholder": "​",
            "style": "IPY_MODEL_978085d6184041bb872067039d77ef2e",
            "value": " 232k/232k [00:00&lt;00:00, 3.06MB/s]"
          }
        },
        "5d4d68434cbe4e369664b3141bf10641": {
          "model_module": "@jupyter-widgets/base",
          "model_name": "LayoutModel",
          "model_module_version": "1.2.0",
          "state": {
            "_model_module": "@jupyter-widgets/base",
            "_model_module_version": "1.2.0",
            "_model_name": "LayoutModel",
            "_view_count": null,
            "_view_module": "@jupyter-widgets/base",
            "_view_module_version": "1.2.0",
            "_view_name": "LayoutView",
            "align_content": null,
            "align_items": null,
            "align_self": null,
            "border": null,
            "bottom": null,
            "display": null,
            "flex": null,
            "flex_flow": null,
            "grid_area": null,
            "grid_auto_columns": null,
            "grid_auto_flow": null,
            "grid_auto_rows": null,
            "grid_column": null,
            "grid_gap": null,
            "grid_row": null,
            "grid_template_areas": null,
            "grid_template_columns": null,
            "grid_template_rows": null,
            "height": null,
            "justify_content": null,
            "justify_items": null,
            "left": null,
            "margin": null,
            "max_height": null,
            "max_width": null,
            "min_height": null,
            "min_width": null,
            "object_fit": null,
            "object_position": null,
            "order": null,
            "overflow": null,
            "overflow_x": null,
            "overflow_y": null,
            "padding": null,
            "right": null,
            "top": null,
            "visibility": null,
            "width": null
          }
        },
        "ba743e0947e64188a7b2090a9b7bdd5b": {
          "model_module": "@jupyter-widgets/base",
          "model_name": "LayoutModel",
          "model_module_version": "1.2.0",
          "state": {
            "_model_module": "@jupyter-widgets/base",
            "_model_module_version": "1.2.0",
            "_model_name": "LayoutModel",
            "_view_count": null,
            "_view_module": "@jupyter-widgets/base",
            "_view_module_version": "1.2.0",
            "_view_name": "LayoutView",
            "align_content": null,
            "align_items": null,
            "align_self": null,
            "border": null,
            "bottom": null,
            "display": null,
            "flex": null,
            "flex_flow": null,
            "grid_area": null,
            "grid_auto_columns": null,
            "grid_auto_flow": null,
            "grid_auto_rows": null,
            "grid_column": null,
            "grid_gap": null,
            "grid_row": null,
            "grid_template_areas": null,
            "grid_template_columns": null,
            "grid_template_rows": null,
            "height": null,
            "justify_content": null,
            "justify_items": null,
            "left": null,
            "margin": null,
            "max_height": null,
            "max_width": null,
            "min_height": null,
            "min_width": null,
            "object_fit": null,
            "object_position": null,
            "order": null,
            "overflow": null,
            "overflow_x": null,
            "overflow_y": null,
            "padding": null,
            "right": null,
            "top": null,
            "visibility": null,
            "width": null
          }
        },
        "7b58c4d8fc90497bae33708e162517b2": {
          "model_module": "@jupyter-widgets/controls",
          "model_name": "DescriptionStyleModel",
          "model_module_version": "1.5.0",
          "state": {
            "_model_module": "@jupyter-widgets/controls",
            "_model_module_version": "1.5.0",
            "_model_name": "DescriptionStyleModel",
            "_view_count": null,
            "_view_module": "@jupyter-widgets/base",
            "_view_module_version": "1.2.0",
            "_view_name": "StyleView",
            "description_width": ""
          }
        },
        "98271dd7cddc4510a04023d75b3efb93": {
          "model_module": "@jupyter-widgets/base",
          "model_name": "LayoutModel",
          "model_module_version": "1.2.0",
          "state": {
            "_model_module": "@jupyter-widgets/base",
            "_model_module_version": "1.2.0",
            "_model_name": "LayoutModel",
            "_view_count": null,
            "_view_module": "@jupyter-widgets/base",
            "_view_module_version": "1.2.0",
            "_view_name": "LayoutView",
            "align_content": null,
            "align_items": null,
            "align_self": null,
            "border": null,
            "bottom": null,
            "display": null,
            "flex": null,
            "flex_flow": null,
            "grid_area": null,
            "grid_auto_columns": null,
            "grid_auto_flow": null,
            "grid_auto_rows": null,
            "grid_column": null,
            "grid_gap": null,
            "grid_row": null,
            "grid_template_areas": null,
            "grid_template_columns": null,
            "grid_template_rows": null,
            "height": null,
            "justify_content": null,
            "justify_items": null,
            "left": null,
            "margin": null,
            "max_height": null,
            "max_width": null,
            "min_height": null,
            "min_width": null,
            "object_fit": null,
            "object_position": null,
            "order": null,
            "overflow": null,
            "overflow_x": null,
            "overflow_y": null,
            "padding": null,
            "right": null,
            "top": null,
            "visibility": null,
            "width": null
          }
        },
        "c6f47a8740a64a35888bc560d385e5f2": {
          "model_module": "@jupyter-widgets/controls",
          "model_name": "ProgressStyleModel",
          "model_module_version": "1.5.0",
          "state": {
            "_model_module": "@jupyter-widgets/controls",
            "_model_module_version": "1.5.0",
            "_model_name": "ProgressStyleModel",
            "_view_count": null,
            "_view_module": "@jupyter-widgets/base",
            "_view_module_version": "1.2.0",
            "_view_name": "StyleView",
            "bar_color": null,
            "description_width": ""
          }
        },
        "5fc27de23ff549e3ad560129766dca60": {
          "model_module": "@jupyter-widgets/base",
          "model_name": "LayoutModel",
          "model_module_version": "1.2.0",
          "state": {
            "_model_module": "@jupyter-widgets/base",
            "_model_module_version": "1.2.0",
            "_model_name": "LayoutModel",
            "_view_count": null,
            "_view_module": "@jupyter-widgets/base",
            "_view_module_version": "1.2.0",
            "_view_name": "LayoutView",
            "align_content": null,
            "align_items": null,
            "align_self": null,
            "border": null,
            "bottom": null,
            "display": null,
            "flex": null,
            "flex_flow": null,
            "grid_area": null,
            "grid_auto_columns": null,
            "grid_auto_flow": null,
            "grid_auto_rows": null,
            "grid_column": null,
            "grid_gap": null,
            "grid_row": null,
            "grid_template_areas": null,
            "grid_template_columns": null,
            "grid_template_rows": null,
            "height": null,
            "justify_content": null,
            "justify_items": null,
            "left": null,
            "margin": null,
            "max_height": null,
            "max_width": null,
            "min_height": null,
            "min_width": null,
            "object_fit": null,
            "object_position": null,
            "order": null,
            "overflow": null,
            "overflow_x": null,
            "overflow_y": null,
            "padding": null,
            "right": null,
            "top": null,
            "visibility": null,
            "width": null
          }
        },
        "978085d6184041bb872067039d77ef2e": {
          "model_module": "@jupyter-widgets/controls",
          "model_name": "DescriptionStyleModel",
          "model_module_version": "1.5.0",
          "state": {
            "_model_module": "@jupyter-widgets/controls",
            "_model_module_version": "1.5.0",
            "_model_name": "DescriptionStyleModel",
            "_view_count": null,
            "_view_module": "@jupyter-widgets/base",
            "_view_module_version": "1.2.0",
            "_view_name": "StyleView",
            "description_width": ""
          }
        },
        "c55521457beb41098a99659aa3d7a3b6": {
          "model_module": "@jupyter-widgets/controls",
          "model_name": "HBoxModel",
          "model_module_version": "1.5.0",
          "state": {
            "_dom_classes": [],
            "_model_module": "@jupyter-widgets/controls",
            "_model_module_version": "1.5.0",
            "_model_name": "HBoxModel",
            "_view_count": null,
            "_view_module": "@jupyter-widgets/controls",
            "_view_module_version": "1.5.0",
            "_view_name": "HBoxView",
            "box_style": "",
            "children": [
              "IPY_MODEL_30a9281ade154ef5825fcc5126c44229",
              "IPY_MODEL_355c4b0f566b48e3b020b627f78b4ca4",
              "IPY_MODEL_f729061a6e68488988d32b047646d813"
            ],
            "layout": "IPY_MODEL_278641c3a2454e37ac921bf4bdb4e9d7"
          }
        },
        "30a9281ade154ef5825fcc5126c44229": {
          "model_module": "@jupyter-widgets/controls",
          "model_name": "HTMLModel",
          "model_module_version": "1.5.0",
          "state": {
            "_dom_classes": [],
            "_model_module": "@jupyter-widgets/controls",
            "_model_module_version": "1.5.0",
            "_model_name": "HTMLModel",
            "_view_count": null,
            "_view_module": "@jupyter-widgets/controls",
            "_view_module_version": "1.5.0",
            "_view_name": "HTMLView",
            "description": "",
            "description_tooltip": null,
            "layout": "IPY_MODEL_1159eb506a5d424db0a6a21e3783eabb",
            "placeholder": "​",
            "style": "IPY_MODEL_4a9549375faa441097009bcd76387a5f",
            "value": "tokenizer.json: 100%"
          }
        },
        "355c4b0f566b48e3b020b627f78b4ca4": {
          "model_module": "@jupyter-widgets/controls",
          "model_name": "FloatProgressModel",
          "model_module_version": "1.5.0",
          "state": {
            "_dom_classes": [],
            "_model_module": "@jupyter-widgets/controls",
            "_model_module_version": "1.5.0",
            "_model_name": "FloatProgressModel",
            "_view_count": null,
            "_view_module": "@jupyter-widgets/controls",
            "_view_module_version": "1.5.0",
            "_view_name": "ProgressView",
            "bar_style": "success",
            "description": "",
            "description_tooltip": null,
            "layout": "IPY_MODEL_ab79bc44d8524b58bc0c6112ac6b2110",
            "max": 466062,
            "min": 0,
            "orientation": "horizontal",
            "style": "IPY_MODEL_12aea2595d874d2b9046504a82247466",
            "value": 466062
          }
        },
        "f729061a6e68488988d32b047646d813": {
          "model_module": "@jupyter-widgets/controls",
          "model_name": "HTMLModel",
          "model_module_version": "1.5.0",
          "state": {
            "_dom_classes": [],
            "_model_module": "@jupyter-widgets/controls",
            "_model_module_version": "1.5.0",
            "_model_name": "HTMLModel",
            "_view_count": null,
            "_view_module": "@jupyter-widgets/controls",
            "_view_module_version": "1.5.0",
            "_view_name": "HTMLView",
            "description": "",
            "description_tooltip": null,
            "layout": "IPY_MODEL_66adbc6e5e6d4787b18056a64ce50ad4",
            "placeholder": "​",
            "style": "IPY_MODEL_8bc0681c55484c9caaa0e080f8deb3ba",
            "value": " 466k/466k [00:00&lt;00:00, 2.35MB/s]"
          }
        },
        "278641c3a2454e37ac921bf4bdb4e9d7": {
          "model_module": "@jupyter-widgets/base",
          "model_name": "LayoutModel",
          "model_module_version": "1.2.0",
          "state": {
            "_model_module": "@jupyter-widgets/base",
            "_model_module_version": "1.2.0",
            "_model_name": "LayoutModel",
            "_view_count": null,
            "_view_module": "@jupyter-widgets/base",
            "_view_module_version": "1.2.0",
            "_view_name": "LayoutView",
            "align_content": null,
            "align_items": null,
            "align_self": null,
            "border": null,
            "bottom": null,
            "display": null,
            "flex": null,
            "flex_flow": null,
            "grid_area": null,
            "grid_auto_columns": null,
            "grid_auto_flow": null,
            "grid_auto_rows": null,
            "grid_column": null,
            "grid_gap": null,
            "grid_row": null,
            "grid_template_areas": null,
            "grid_template_columns": null,
            "grid_template_rows": null,
            "height": null,
            "justify_content": null,
            "justify_items": null,
            "left": null,
            "margin": null,
            "max_height": null,
            "max_width": null,
            "min_height": null,
            "min_width": null,
            "object_fit": null,
            "object_position": null,
            "order": null,
            "overflow": null,
            "overflow_x": null,
            "overflow_y": null,
            "padding": null,
            "right": null,
            "top": null,
            "visibility": null,
            "width": null
          }
        },
        "1159eb506a5d424db0a6a21e3783eabb": {
          "model_module": "@jupyter-widgets/base",
          "model_name": "LayoutModel",
          "model_module_version": "1.2.0",
          "state": {
            "_model_module": "@jupyter-widgets/base",
            "_model_module_version": "1.2.0",
            "_model_name": "LayoutModel",
            "_view_count": null,
            "_view_module": "@jupyter-widgets/base",
            "_view_module_version": "1.2.0",
            "_view_name": "LayoutView",
            "align_content": null,
            "align_items": null,
            "align_self": null,
            "border": null,
            "bottom": null,
            "display": null,
            "flex": null,
            "flex_flow": null,
            "grid_area": null,
            "grid_auto_columns": null,
            "grid_auto_flow": null,
            "grid_auto_rows": null,
            "grid_column": null,
            "grid_gap": null,
            "grid_row": null,
            "grid_template_areas": null,
            "grid_template_columns": null,
            "grid_template_rows": null,
            "height": null,
            "justify_content": null,
            "justify_items": null,
            "left": null,
            "margin": null,
            "max_height": null,
            "max_width": null,
            "min_height": null,
            "min_width": null,
            "object_fit": null,
            "object_position": null,
            "order": null,
            "overflow": null,
            "overflow_x": null,
            "overflow_y": null,
            "padding": null,
            "right": null,
            "top": null,
            "visibility": null,
            "width": null
          }
        },
        "4a9549375faa441097009bcd76387a5f": {
          "model_module": "@jupyter-widgets/controls",
          "model_name": "DescriptionStyleModel",
          "model_module_version": "1.5.0",
          "state": {
            "_model_module": "@jupyter-widgets/controls",
            "_model_module_version": "1.5.0",
            "_model_name": "DescriptionStyleModel",
            "_view_count": null,
            "_view_module": "@jupyter-widgets/base",
            "_view_module_version": "1.2.0",
            "_view_name": "StyleView",
            "description_width": ""
          }
        },
        "ab79bc44d8524b58bc0c6112ac6b2110": {
          "model_module": "@jupyter-widgets/base",
          "model_name": "LayoutModel",
          "model_module_version": "1.2.0",
          "state": {
            "_model_module": "@jupyter-widgets/base",
            "_model_module_version": "1.2.0",
            "_model_name": "LayoutModel",
            "_view_count": null,
            "_view_module": "@jupyter-widgets/base",
            "_view_module_version": "1.2.0",
            "_view_name": "LayoutView",
            "align_content": null,
            "align_items": null,
            "align_self": null,
            "border": null,
            "bottom": null,
            "display": null,
            "flex": null,
            "flex_flow": null,
            "grid_area": null,
            "grid_auto_columns": null,
            "grid_auto_flow": null,
            "grid_auto_rows": null,
            "grid_column": null,
            "grid_gap": null,
            "grid_row": null,
            "grid_template_areas": null,
            "grid_template_columns": null,
            "grid_template_rows": null,
            "height": null,
            "justify_content": null,
            "justify_items": null,
            "left": null,
            "margin": null,
            "max_height": null,
            "max_width": null,
            "min_height": null,
            "min_width": null,
            "object_fit": null,
            "object_position": null,
            "order": null,
            "overflow": null,
            "overflow_x": null,
            "overflow_y": null,
            "padding": null,
            "right": null,
            "top": null,
            "visibility": null,
            "width": null
          }
        },
        "12aea2595d874d2b9046504a82247466": {
          "model_module": "@jupyter-widgets/controls",
          "model_name": "ProgressStyleModel",
          "model_module_version": "1.5.0",
          "state": {
            "_model_module": "@jupyter-widgets/controls",
            "_model_module_version": "1.5.0",
            "_model_name": "ProgressStyleModel",
            "_view_count": null,
            "_view_module": "@jupyter-widgets/base",
            "_view_module_version": "1.2.0",
            "_view_name": "StyleView",
            "bar_color": null,
            "description_width": ""
          }
        },
        "66adbc6e5e6d4787b18056a64ce50ad4": {
          "model_module": "@jupyter-widgets/base",
          "model_name": "LayoutModel",
          "model_module_version": "1.2.0",
          "state": {
            "_model_module": "@jupyter-widgets/base",
            "_model_module_version": "1.2.0",
            "_model_name": "LayoutModel",
            "_view_count": null,
            "_view_module": "@jupyter-widgets/base",
            "_view_module_version": "1.2.0",
            "_view_name": "LayoutView",
            "align_content": null,
            "align_items": null,
            "align_self": null,
            "border": null,
            "bottom": null,
            "display": null,
            "flex": null,
            "flex_flow": null,
            "grid_area": null,
            "grid_auto_columns": null,
            "grid_auto_flow": null,
            "grid_auto_rows": null,
            "grid_column": null,
            "grid_gap": null,
            "grid_row": null,
            "grid_template_areas": null,
            "grid_template_columns": null,
            "grid_template_rows": null,
            "height": null,
            "justify_content": null,
            "justify_items": null,
            "left": null,
            "margin": null,
            "max_height": null,
            "max_width": null,
            "min_height": null,
            "min_width": null,
            "object_fit": null,
            "object_position": null,
            "order": null,
            "overflow": null,
            "overflow_x": null,
            "overflow_y": null,
            "padding": null,
            "right": null,
            "top": null,
            "visibility": null,
            "width": null
          }
        },
        "8bc0681c55484c9caaa0e080f8deb3ba": {
          "model_module": "@jupyter-widgets/controls",
          "model_name": "DescriptionStyleModel",
          "model_module_version": "1.5.0",
          "state": {
            "_model_module": "@jupyter-widgets/controls",
            "_model_module_version": "1.5.0",
            "_model_name": "DescriptionStyleModel",
            "_view_count": null,
            "_view_module": "@jupyter-widgets/base",
            "_view_module_version": "1.2.0",
            "_view_name": "StyleView",
            "description_width": ""
          }
        },
        "847d0510f55040988d69c76d8a894b6f": {
          "model_module": "@jupyter-widgets/controls",
          "model_name": "HBoxModel",
          "model_module_version": "1.5.0",
          "state": {
            "_dom_classes": [],
            "_model_module": "@jupyter-widgets/controls",
            "_model_module_version": "1.5.0",
            "_model_name": "HBoxModel",
            "_view_count": null,
            "_view_module": "@jupyter-widgets/controls",
            "_view_module_version": "1.5.0",
            "_view_name": "HBoxView",
            "box_style": "",
            "children": [
              "IPY_MODEL_ed59cea49a9a4f388c8a105dae7300bb",
              "IPY_MODEL_ed3edf49bcdf47a6bc16aba2decc3d6e",
              "IPY_MODEL_9f1c2ed9420546ba979b80d31aa0ade0"
            ],
            "layout": "IPY_MODEL_9e546fe0463540419fa72260d196389f"
          }
        },
        "ed59cea49a9a4f388c8a105dae7300bb": {
          "model_module": "@jupyter-widgets/controls",
          "model_name": "HTMLModel",
          "model_module_version": "1.5.0",
          "state": {
            "_dom_classes": [],
            "_model_module": "@jupyter-widgets/controls",
            "_model_module_version": "1.5.0",
            "_model_name": "HTMLModel",
            "_view_count": null,
            "_view_module": "@jupyter-widgets/controls",
            "_view_module_version": "1.5.0",
            "_view_name": "HTMLView",
            "description": "",
            "description_tooltip": null,
            "layout": "IPY_MODEL_e05df0f2cad846bd9e22706104c644d1",
            "placeholder": "​",
            "style": "IPY_MODEL_95fc04c300b7470a9d246e771cc49bb8",
            "value": "Map: 100%"
          }
        },
        "ed3edf49bcdf47a6bc16aba2decc3d6e": {
          "model_module": "@jupyter-widgets/controls",
          "model_name": "FloatProgressModel",
          "model_module_version": "1.5.0",
          "state": {
            "_dom_classes": [],
            "_model_module": "@jupyter-widgets/controls",
            "_model_module_version": "1.5.0",
            "_model_name": "FloatProgressModel",
            "_view_count": null,
            "_view_module": "@jupyter-widgets/controls",
            "_view_module_version": "1.5.0",
            "_view_name": "ProgressView",
            "bar_style": "success",
            "description": "",
            "description_tooltip": null,
            "layout": "IPY_MODEL_12fb6f6c8fb247b68395944261651e21",
            "max": 694,
            "min": 0,
            "orientation": "horizontal",
            "style": "IPY_MODEL_8a192bd6545749a3bcb5a1f5808d76a3",
            "value": 694
          }
        },
        "9f1c2ed9420546ba979b80d31aa0ade0": {
          "model_module": "@jupyter-widgets/controls",
          "model_name": "HTMLModel",
          "model_module_version": "1.5.0",
          "state": {
            "_dom_classes": [],
            "_model_module": "@jupyter-widgets/controls",
            "_model_module_version": "1.5.0",
            "_model_name": "HTMLModel",
            "_view_count": null,
            "_view_module": "@jupyter-widgets/controls",
            "_view_module_version": "1.5.0",
            "_view_name": "HTMLView",
            "description": "",
            "description_tooltip": null,
            "layout": "IPY_MODEL_0128b8557ecd4bae93d818049aea2bbd",
            "placeholder": "​",
            "style": "IPY_MODEL_d581d54600164bdcb196510d2af1e6b7",
            "value": " 694/694 [00:01&lt;00:00, 381.26 examples/s]"
          }
        },
        "9e546fe0463540419fa72260d196389f": {
          "model_module": "@jupyter-widgets/base",
          "model_name": "LayoutModel",
          "model_module_version": "1.2.0",
          "state": {
            "_model_module": "@jupyter-widgets/base",
            "_model_module_version": "1.2.0",
            "_model_name": "LayoutModel",
            "_view_count": null,
            "_view_module": "@jupyter-widgets/base",
            "_view_module_version": "1.2.0",
            "_view_name": "LayoutView",
            "align_content": null,
            "align_items": null,
            "align_self": null,
            "border": null,
            "bottom": null,
            "display": null,
            "flex": null,
            "flex_flow": null,
            "grid_area": null,
            "grid_auto_columns": null,
            "grid_auto_flow": null,
            "grid_auto_rows": null,
            "grid_column": null,
            "grid_gap": null,
            "grid_row": null,
            "grid_template_areas": null,
            "grid_template_columns": null,
            "grid_template_rows": null,
            "height": null,
            "justify_content": null,
            "justify_items": null,
            "left": null,
            "margin": null,
            "max_height": null,
            "max_width": null,
            "min_height": null,
            "min_width": null,
            "object_fit": null,
            "object_position": null,
            "order": null,
            "overflow": null,
            "overflow_x": null,
            "overflow_y": null,
            "padding": null,
            "right": null,
            "top": null,
            "visibility": null,
            "width": null
          }
        },
        "e05df0f2cad846bd9e22706104c644d1": {
          "model_module": "@jupyter-widgets/base",
          "model_name": "LayoutModel",
          "model_module_version": "1.2.0",
          "state": {
            "_model_module": "@jupyter-widgets/base",
            "_model_module_version": "1.2.0",
            "_model_name": "LayoutModel",
            "_view_count": null,
            "_view_module": "@jupyter-widgets/base",
            "_view_module_version": "1.2.0",
            "_view_name": "LayoutView",
            "align_content": null,
            "align_items": null,
            "align_self": null,
            "border": null,
            "bottom": null,
            "display": null,
            "flex": null,
            "flex_flow": null,
            "grid_area": null,
            "grid_auto_columns": null,
            "grid_auto_flow": null,
            "grid_auto_rows": null,
            "grid_column": null,
            "grid_gap": null,
            "grid_row": null,
            "grid_template_areas": null,
            "grid_template_columns": null,
            "grid_template_rows": null,
            "height": null,
            "justify_content": null,
            "justify_items": null,
            "left": null,
            "margin": null,
            "max_height": null,
            "max_width": null,
            "min_height": null,
            "min_width": null,
            "object_fit": null,
            "object_position": null,
            "order": null,
            "overflow": null,
            "overflow_x": null,
            "overflow_y": null,
            "padding": null,
            "right": null,
            "top": null,
            "visibility": null,
            "width": null
          }
        },
        "95fc04c300b7470a9d246e771cc49bb8": {
          "model_module": "@jupyter-widgets/controls",
          "model_name": "DescriptionStyleModel",
          "model_module_version": "1.5.0",
          "state": {
            "_model_module": "@jupyter-widgets/controls",
            "_model_module_version": "1.5.0",
            "_model_name": "DescriptionStyleModel",
            "_view_count": null,
            "_view_module": "@jupyter-widgets/base",
            "_view_module_version": "1.2.0",
            "_view_name": "StyleView",
            "description_width": ""
          }
        },
        "12fb6f6c8fb247b68395944261651e21": {
          "model_module": "@jupyter-widgets/base",
          "model_name": "LayoutModel",
          "model_module_version": "1.2.0",
          "state": {
            "_model_module": "@jupyter-widgets/base",
            "_model_module_version": "1.2.0",
            "_model_name": "LayoutModel",
            "_view_count": null,
            "_view_module": "@jupyter-widgets/base",
            "_view_module_version": "1.2.0",
            "_view_name": "LayoutView",
            "align_content": null,
            "align_items": null,
            "align_self": null,
            "border": null,
            "bottom": null,
            "display": null,
            "flex": null,
            "flex_flow": null,
            "grid_area": null,
            "grid_auto_columns": null,
            "grid_auto_flow": null,
            "grid_auto_rows": null,
            "grid_column": null,
            "grid_gap": null,
            "grid_row": null,
            "grid_template_areas": null,
            "grid_template_columns": null,
            "grid_template_rows": null,
            "height": null,
            "justify_content": null,
            "justify_items": null,
            "left": null,
            "margin": null,
            "max_height": null,
            "max_width": null,
            "min_height": null,
            "min_width": null,
            "object_fit": null,
            "object_position": null,
            "order": null,
            "overflow": null,
            "overflow_x": null,
            "overflow_y": null,
            "padding": null,
            "right": null,
            "top": null,
            "visibility": null,
            "width": null
          }
        },
        "8a192bd6545749a3bcb5a1f5808d76a3": {
          "model_module": "@jupyter-widgets/controls",
          "model_name": "ProgressStyleModel",
          "model_module_version": "1.5.0",
          "state": {
            "_model_module": "@jupyter-widgets/controls",
            "_model_module_version": "1.5.0",
            "_model_name": "ProgressStyleModel",
            "_view_count": null,
            "_view_module": "@jupyter-widgets/base",
            "_view_module_version": "1.2.0",
            "_view_name": "StyleView",
            "bar_color": null,
            "description_width": ""
          }
        },
        "0128b8557ecd4bae93d818049aea2bbd": {
          "model_module": "@jupyter-widgets/base",
          "model_name": "LayoutModel",
          "model_module_version": "1.2.0",
          "state": {
            "_model_module": "@jupyter-widgets/base",
            "_model_module_version": "1.2.0",
            "_model_name": "LayoutModel",
            "_view_count": null,
            "_view_module": "@jupyter-widgets/base",
            "_view_module_version": "1.2.0",
            "_view_name": "LayoutView",
            "align_content": null,
            "align_items": null,
            "align_self": null,
            "border": null,
            "bottom": null,
            "display": null,
            "flex": null,
            "flex_flow": null,
            "grid_area": null,
            "grid_auto_columns": null,
            "grid_auto_flow": null,
            "grid_auto_rows": null,
            "grid_column": null,
            "grid_gap": null,
            "grid_row": null,
            "grid_template_areas": null,
            "grid_template_columns": null,
            "grid_template_rows": null,
            "height": null,
            "justify_content": null,
            "justify_items": null,
            "left": null,
            "margin": null,
            "max_height": null,
            "max_width": null,
            "min_height": null,
            "min_width": null,
            "object_fit": null,
            "object_position": null,
            "order": null,
            "overflow": null,
            "overflow_x": null,
            "overflow_y": null,
            "padding": null,
            "right": null,
            "top": null,
            "visibility": null,
            "width": null
          }
        },
        "d581d54600164bdcb196510d2af1e6b7": {
          "model_module": "@jupyter-widgets/controls",
          "model_name": "DescriptionStyleModel",
          "model_module_version": "1.5.0",
          "state": {
            "_model_module": "@jupyter-widgets/controls",
            "_model_module_version": "1.5.0",
            "_model_name": "DescriptionStyleModel",
            "_view_count": null,
            "_view_module": "@jupyter-widgets/base",
            "_view_module_version": "1.2.0",
            "_view_name": "StyleView",
            "description_width": ""
          }
        },
        "dcee907883634aeba48fb1d3f83de79b": {
          "model_module": "@jupyter-widgets/controls",
          "model_name": "HBoxModel",
          "model_module_version": "1.5.0",
          "state": {
            "_dom_classes": [],
            "_model_module": "@jupyter-widgets/controls",
            "_model_module_version": "1.5.0",
            "_model_name": "HBoxModel",
            "_view_count": null,
            "_view_module": "@jupyter-widgets/controls",
            "_view_module_version": "1.5.0",
            "_view_name": "HBoxView",
            "box_style": "",
            "children": [
              "IPY_MODEL_8c07a8eb5d934ca0bb584866cfc4fa24",
              "IPY_MODEL_493d4de0dd4b4b648679fb832774ba7f",
              "IPY_MODEL_31287de70c2b4ba38ad6a8372a9fc478"
            ],
            "layout": "IPY_MODEL_c5e2636714a24e2fb8936ef34b8c5e0a"
          }
        },
        "8c07a8eb5d934ca0bb584866cfc4fa24": {
          "model_module": "@jupyter-widgets/controls",
          "model_name": "HTMLModel",
          "model_module_version": "1.5.0",
          "state": {
            "_dom_classes": [],
            "_model_module": "@jupyter-widgets/controls",
            "_model_module_version": "1.5.0",
            "_model_name": "HTMLModel",
            "_view_count": null,
            "_view_module": "@jupyter-widgets/controls",
            "_view_module_version": "1.5.0",
            "_view_name": "HTMLView",
            "description": "",
            "description_tooltip": null,
            "layout": "IPY_MODEL_41235997b6bc40af9dad4122661dc4a9",
            "placeholder": "​",
            "style": "IPY_MODEL_954e2d515db546c4b4cb5f56ab2c5d4e",
            "value": "Map: 100%"
          }
        },
        "493d4de0dd4b4b648679fb832774ba7f": {
          "model_module": "@jupyter-widgets/controls",
          "model_name": "FloatProgressModel",
          "model_module_version": "1.5.0",
          "state": {
            "_dom_classes": [],
            "_model_module": "@jupyter-widgets/controls",
            "_model_module_version": "1.5.0",
            "_model_name": "FloatProgressModel",
            "_view_count": null,
            "_view_module": "@jupyter-widgets/controls",
            "_view_module_version": "1.5.0",
            "_view_name": "ProgressView",
            "bar_style": "success",
            "description": "",
            "description_tooltip": null,
            "layout": "IPY_MODEL_1c536447b22f49d68522fd9b66a1607c",
            "max": 145,
            "min": 0,
            "orientation": "horizontal",
            "style": "IPY_MODEL_4a35512c3c3e400d942bc83ee8a0decd",
            "value": 145
          }
        },
        "31287de70c2b4ba38ad6a8372a9fc478": {
          "model_module": "@jupyter-widgets/controls",
          "model_name": "HTMLModel",
          "model_module_version": "1.5.0",
          "state": {
            "_dom_classes": [],
            "_model_module": "@jupyter-widgets/controls",
            "_model_module_version": "1.5.0",
            "_model_name": "HTMLModel",
            "_view_count": null,
            "_view_module": "@jupyter-widgets/controls",
            "_view_module_version": "1.5.0",
            "_view_name": "HTMLView",
            "description": "",
            "description_tooltip": null,
            "layout": "IPY_MODEL_cf9810b729044257bfb4fd4763f4166e",
            "placeholder": "​",
            "style": "IPY_MODEL_dda0ccf8d0804f7cab1701b7802297e7",
            "value": " 145/145 [00:00&lt;00:00, 398.99 examples/s]"
          }
        },
        "c5e2636714a24e2fb8936ef34b8c5e0a": {
          "model_module": "@jupyter-widgets/base",
          "model_name": "LayoutModel",
          "model_module_version": "1.2.0",
          "state": {
            "_model_module": "@jupyter-widgets/base",
            "_model_module_version": "1.2.0",
            "_model_name": "LayoutModel",
            "_view_count": null,
            "_view_module": "@jupyter-widgets/base",
            "_view_module_version": "1.2.0",
            "_view_name": "LayoutView",
            "align_content": null,
            "align_items": null,
            "align_self": null,
            "border": null,
            "bottom": null,
            "display": null,
            "flex": null,
            "flex_flow": null,
            "grid_area": null,
            "grid_auto_columns": null,
            "grid_auto_flow": null,
            "grid_auto_rows": null,
            "grid_column": null,
            "grid_gap": null,
            "grid_row": null,
            "grid_template_areas": null,
            "grid_template_columns": null,
            "grid_template_rows": null,
            "height": null,
            "justify_content": null,
            "justify_items": null,
            "left": null,
            "margin": null,
            "max_height": null,
            "max_width": null,
            "min_height": null,
            "min_width": null,
            "object_fit": null,
            "object_position": null,
            "order": null,
            "overflow": null,
            "overflow_x": null,
            "overflow_y": null,
            "padding": null,
            "right": null,
            "top": null,
            "visibility": null,
            "width": null
          }
        },
        "41235997b6bc40af9dad4122661dc4a9": {
          "model_module": "@jupyter-widgets/base",
          "model_name": "LayoutModel",
          "model_module_version": "1.2.0",
          "state": {
            "_model_module": "@jupyter-widgets/base",
            "_model_module_version": "1.2.0",
            "_model_name": "LayoutModel",
            "_view_count": null,
            "_view_module": "@jupyter-widgets/base",
            "_view_module_version": "1.2.0",
            "_view_name": "LayoutView",
            "align_content": null,
            "align_items": null,
            "align_self": null,
            "border": null,
            "bottom": null,
            "display": null,
            "flex": null,
            "flex_flow": null,
            "grid_area": null,
            "grid_auto_columns": null,
            "grid_auto_flow": null,
            "grid_auto_rows": null,
            "grid_column": null,
            "grid_gap": null,
            "grid_row": null,
            "grid_template_areas": null,
            "grid_template_columns": null,
            "grid_template_rows": null,
            "height": null,
            "justify_content": null,
            "justify_items": null,
            "left": null,
            "margin": null,
            "max_height": null,
            "max_width": null,
            "min_height": null,
            "min_width": null,
            "object_fit": null,
            "object_position": null,
            "order": null,
            "overflow": null,
            "overflow_x": null,
            "overflow_y": null,
            "padding": null,
            "right": null,
            "top": null,
            "visibility": null,
            "width": null
          }
        },
        "954e2d515db546c4b4cb5f56ab2c5d4e": {
          "model_module": "@jupyter-widgets/controls",
          "model_name": "DescriptionStyleModel",
          "model_module_version": "1.5.0",
          "state": {
            "_model_module": "@jupyter-widgets/controls",
            "_model_module_version": "1.5.0",
            "_model_name": "DescriptionStyleModel",
            "_view_count": null,
            "_view_module": "@jupyter-widgets/base",
            "_view_module_version": "1.2.0",
            "_view_name": "StyleView",
            "description_width": ""
          }
        },
        "1c536447b22f49d68522fd9b66a1607c": {
          "model_module": "@jupyter-widgets/base",
          "model_name": "LayoutModel",
          "model_module_version": "1.2.0",
          "state": {
            "_model_module": "@jupyter-widgets/base",
            "_model_module_version": "1.2.0",
            "_model_name": "LayoutModel",
            "_view_count": null,
            "_view_module": "@jupyter-widgets/base",
            "_view_module_version": "1.2.0",
            "_view_name": "LayoutView",
            "align_content": null,
            "align_items": null,
            "align_self": null,
            "border": null,
            "bottom": null,
            "display": null,
            "flex": null,
            "flex_flow": null,
            "grid_area": null,
            "grid_auto_columns": null,
            "grid_auto_flow": null,
            "grid_auto_rows": null,
            "grid_column": null,
            "grid_gap": null,
            "grid_row": null,
            "grid_template_areas": null,
            "grid_template_columns": null,
            "grid_template_rows": null,
            "height": null,
            "justify_content": null,
            "justify_items": null,
            "left": null,
            "margin": null,
            "max_height": null,
            "max_width": null,
            "min_height": null,
            "min_width": null,
            "object_fit": null,
            "object_position": null,
            "order": null,
            "overflow": null,
            "overflow_x": null,
            "overflow_y": null,
            "padding": null,
            "right": null,
            "top": null,
            "visibility": null,
            "width": null
          }
        },
        "4a35512c3c3e400d942bc83ee8a0decd": {
          "model_module": "@jupyter-widgets/controls",
          "model_name": "ProgressStyleModel",
          "model_module_version": "1.5.0",
          "state": {
            "_model_module": "@jupyter-widgets/controls",
            "_model_module_version": "1.5.0",
            "_model_name": "ProgressStyleModel",
            "_view_count": null,
            "_view_module": "@jupyter-widgets/base",
            "_view_module_version": "1.2.0",
            "_view_name": "StyleView",
            "bar_color": null,
            "description_width": ""
          }
        },
        "cf9810b729044257bfb4fd4763f4166e": {
          "model_module": "@jupyter-widgets/base",
          "model_name": "LayoutModel",
          "model_module_version": "1.2.0",
          "state": {
            "_model_module": "@jupyter-widgets/base",
            "_model_module_version": "1.2.0",
            "_model_name": "LayoutModel",
            "_view_count": null,
            "_view_module": "@jupyter-widgets/base",
            "_view_module_version": "1.2.0",
            "_view_name": "LayoutView",
            "align_content": null,
            "align_items": null,
            "align_self": null,
            "border": null,
            "bottom": null,
            "display": null,
            "flex": null,
            "flex_flow": null,
            "grid_area": null,
            "grid_auto_columns": null,
            "grid_auto_flow": null,
            "grid_auto_rows": null,
            "grid_column": null,
            "grid_gap": null,
            "grid_row": null,
            "grid_template_areas": null,
            "grid_template_columns": null,
            "grid_template_rows": null,
            "height": null,
            "justify_content": null,
            "justify_items": null,
            "left": null,
            "margin": null,
            "max_height": null,
            "max_width": null,
            "min_height": null,
            "min_width": null,
            "object_fit": null,
            "object_position": null,
            "order": null,
            "overflow": null,
            "overflow_x": null,
            "overflow_y": null,
            "padding": null,
            "right": null,
            "top": null,
            "visibility": null,
            "width": null
          }
        },
        "dda0ccf8d0804f7cab1701b7802297e7": {
          "model_module": "@jupyter-widgets/controls",
          "model_name": "DescriptionStyleModel",
          "model_module_version": "1.5.0",
          "state": {
            "_model_module": "@jupyter-widgets/controls",
            "_model_module_version": "1.5.0",
            "_model_name": "DescriptionStyleModel",
            "_view_count": null,
            "_view_module": "@jupyter-widgets/base",
            "_view_module_version": "1.2.0",
            "_view_name": "StyleView",
            "description_width": ""
          }
        },
        "ec561577eec842078cc0cce8516fce03": {
          "model_module": "@jupyter-widgets/controls",
          "model_name": "HBoxModel",
          "model_module_version": "1.5.0",
          "state": {
            "_dom_classes": [],
            "_model_module": "@jupyter-widgets/controls",
            "_model_module_version": "1.5.0",
            "_model_name": "HBoxModel",
            "_view_count": null,
            "_view_module": "@jupyter-widgets/controls",
            "_view_module_version": "1.5.0",
            "_view_name": "HBoxView",
            "box_style": "",
            "children": [
              "IPY_MODEL_dde77034b4d5411c8c9f3de5e1c076fe",
              "IPY_MODEL_45a51e23c45e4816884465cfc9f6fdc1",
              "IPY_MODEL_ee9d5a1821444664b7f878eea2f3f119"
            ],
            "layout": "IPY_MODEL_78d7920a406a422db521c8b5eeedbe68"
          }
        },
        "dde77034b4d5411c8c9f3de5e1c076fe": {
          "model_module": "@jupyter-widgets/controls",
          "model_name": "HTMLModel",
          "model_module_version": "1.5.0",
          "state": {
            "_dom_classes": [],
            "_model_module": "@jupyter-widgets/controls",
            "_model_module_version": "1.5.0",
            "_model_name": "HTMLModel",
            "_view_count": null,
            "_view_module": "@jupyter-widgets/controls",
            "_view_module_version": "1.5.0",
            "_view_name": "HTMLView",
            "description": "",
            "description_tooltip": null,
            "layout": "IPY_MODEL_0af4b4343c834012817a352724ed550c",
            "placeholder": "​",
            "style": "IPY_MODEL_9458ba7e735349a1a89ba29b5d61ce5a",
            "value": "Map: 100%"
          }
        },
        "45a51e23c45e4816884465cfc9f6fdc1": {
          "model_module": "@jupyter-widgets/controls",
          "model_name": "FloatProgressModel",
          "model_module_version": "1.5.0",
          "state": {
            "_dom_classes": [],
            "_model_module": "@jupyter-widgets/controls",
            "_model_module_version": "1.5.0",
            "_model_name": "FloatProgressModel",
            "_view_count": null,
            "_view_module": "@jupyter-widgets/controls",
            "_view_module_version": "1.5.0",
            "_view_name": "ProgressView",
            "bar_style": "success",
            "description": "",
            "description_tooltip": null,
            "layout": "IPY_MODEL_81c029d4bf6c4851822b4aa718069aee",
            "max": 694,
            "min": 0,
            "orientation": "horizontal",
            "style": "IPY_MODEL_1e3bf0d41e164a6bb10ea13d7ff1859d",
            "value": 694
          }
        },
        "ee9d5a1821444664b7f878eea2f3f119": {
          "model_module": "@jupyter-widgets/controls",
          "model_name": "HTMLModel",
          "model_module_version": "1.5.0",
          "state": {
            "_dom_classes": [],
            "_model_module": "@jupyter-widgets/controls",
            "_model_module_version": "1.5.0",
            "_model_name": "HTMLModel",
            "_view_count": null,
            "_view_module": "@jupyter-widgets/controls",
            "_view_module_version": "1.5.0",
            "_view_name": "HTMLView",
            "description": "",
            "description_tooltip": null,
            "layout": "IPY_MODEL_061d3e4efb2c4892a14370692ee167bb",
            "placeholder": "​",
            "style": "IPY_MODEL_fd968bb825564d94a20b21d8bf44234d",
            "value": " 694/694 [00:01&lt;00:00, 449.35 examples/s]"
          }
        },
        "78d7920a406a422db521c8b5eeedbe68": {
          "model_module": "@jupyter-widgets/base",
          "model_name": "LayoutModel",
          "model_module_version": "1.2.0",
          "state": {
            "_model_module": "@jupyter-widgets/base",
            "_model_module_version": "1.2.0",
            "_model_name": "LayoutModel",
            "_view_count": null,
            "_view_module": "@jupyter-widgets/base",
            "_view_module_version": "1.2.0",
            "_view_name": "LayoutView",
            "align_content": null,
            "align_items": null,
            "align_self": null,
            "border": null,
            "bottom": null,
            "display": null,
            "flex": null,
            "flex_flow": null,
            "grid_area": null,
            "grid_auto_columns": null,
            "grid_auto_flow": null,
            "grid_auto_rows": null,
            "grid_column": null,
            "grid_gap": null,
            "grid_row": null,
            "grid_template_areas": null,
            "grid_template_columns": null,
            "grid_template_rows": null,
            "height": null,
            "justify_content": null,
            "justify_items": null,
            "left": null,
            "margin": null,
            "max_height": null,
            "max_width": null,
            "min_height": null,
            "min_width": null,
            "object_fit": null,
            "object_position": null,
            "order": null,
            "overflow": null,
            "overflow_x": null,
            "overflow_y": null,
            "padding": null,
            "right": null,
            "top": null,
            "visibility": null,
            "width": null
          }
        },
        "0af4b4343c834012817a352724ed550c": {
          "model_module": "@jupyter-widgets/base",
          "model_name": "LayoutModel",
          "model_module_version": "1.2.0",
          "state": {
            "_model_module": "@jupyter-widgets/base",
            "_model_module_version": "1.2.0",
            "_model_name": "LayoutModel",
            "_view_count": null,
            "_view_module": "@jupyter-widgets/base",
            "_view_module_version": "1.2.0",
            "_view_name": "LayoutView",
            "align_content": null,
            "align_items": null,
            "align_self": null,
            "border": null,
            "bottom": null,
            "display": null,
            "flex": null,
            "flex_flow": null,
            "grid_area": null,
            "grid_auto_columns": null,
            "grid_auto_flow": null,
            "grid_auto_rows": null,
            "grid_column": null,
            "grid_gap": null,
            "grid_row": null,
            "grid_template_areas": null,
            "grid_template_columns": null,
            "grid_template_rows": null,
            "height": null,
            "justify_content": null,
            "justify_items": null,
            "left": null,
            "margin": null,
            "max_height": null,
            "max_width": null,
            "min_height": null,
            "min_width": null,
            "object_fit": null,
            "object_position": null,
            "order": null,
            "overflow": null,
            "overflow_x": null,
            "overflow_y": null,
            "padding": null,
            "right": null,
            "top": null,
            "visibility": null,
            "width": null
          }
        },
        "9458ba7e735349a1a89ba29b5d61ce5a": {
          "model_module": "@jupyter-widgets/controls",
          "model_name": "DescriptionStyleModel",
          "model_module_version": "1.5.0",
          "state": {
            "_model_module": "@jupyter-widgets/controls",
            "_model_module_version": "1.5.0",
            "_model_name": "DescriptionStyleModel",
            "_view_count": null,
            "_view_module": "@jupyter-widgets/base",
            "_view_module_version": "1.2.0",
            "_view_name": "StyleView",
            "description_width": ""
          }
        },
        "81c029d4bf6c4851822b4aa718069aee": {
          "model_module": "@jupyter-widgets/base",
          "model_name": "LayoutModel",
          "model_module_version": "1.2.0",
          "state": {
            "_model_module": "@jupyter-widgets/base",
            "_model_module_version": "1.2.0",
            "_model_name": "LayoutModel",
            "_view_count": null,
            "_view_module": "@jupyter-widgets/base",
            "_view_module_version": "1.2.0",
            "_view_name": "LayoutView",
            "align_content": null,
            "align_items": null,
            "align_self": null,
            "border": null,
            "bottom": null,
            "display": null,
            "flex": null,
            "flex_flow": null,
            "grid_area": null,
            "grid_auto_columns": null,
            "grid_auto_flow": null,
            "grid_auto_rows": null,
            "grid_column": null,
            "grid_gap": null,
            "grid_row": null,
            "grid_template_areas": null,
            "grid_template_columns": null,
            "grid_template_rows": null,
            "height": null,
            "justify_content": null,
            "justify_items": null,
            "left": null,
            "margin": null,
            "max_height": null,
            "max_width": null,
            "min_height": null,
            "min_width": null,
            "object_fit": null,
            "object_position": null,
            "order": null,
            "overflow": null,
            "overflow_x": null,
            "overflow_y": null,
            "padding": null,
            "right": null,
            "top": null,
            "visibility": null,
            "width": null
          }
        },
        "1e3bf0d41e164a6bb10ea13d7ff1859d": {
          "model_module": "@jupyter-widgets/controls",
          "model_name": "ProgressStyleModel",
          "model_module_version": "1.5.0",
          "state": {
            "_model_module": "@jupyter-widgets/controls",
            "_model_module_version": "1.5.0",
            "_model_name": "ProgressStyleModel",
            "_view_count": null,
            "_view_module": "@jupyter-widgets/base",
            "_view_module_version": "1.2.0",
            "_view_name": "StyleView",
            "bar_color": null,
            "description_width": ""
          }
        },
        "061d3e4efb2c4892a14370692ee167bb": {
          "model_module": "@jupyter-widgets/base",
          "model_name": "LayoutModel",
          "model_module_version": "1.2.0",
          "state": {
            "_model_module": "@jupyter-widgets/base",
            "_model_module_version": "1.2.0",
            "_model_name": "LayoutModel",
            "_view_count": null,
            "_view_module": "@jupyter-widgets/base",
            "_view_module_version": "1.2.0",
            "_view_name": "LayoutView",
            "align_content": null,
            "align_items": null,
            "align_self": null,
            "border": null,
            "bottom": null,
            "display": null,
            "flex": null,
            "flex_flow": null,
            "grid_area": null,
            "grid_auto_columns": null,
            "grid_auto_flow": null,
            "grid_auto_rows": null,
            "grid_column": null,
            "grid_gap": null,
            "grid_row": null,
            "grid_template_areas": null,
            "grid_template_columns": null,
            "grid_template_rows": null,
            "height": null,
            "justify_content": null,
            "justify_items": null,
            "left": null,
            "margin": null,
            "max_height": null,
            "max_width": null,
            "min_height": null,
            "min_width": null,
            "object_fit": null,
            "object_position": null,
            "order": null,
            "overflow": null,
            "overflow_x": null,
            "overflow_y": null,
            "padding": null,
            "right": null,
            "top": null,
            "visibility": null,
            "width": null
          }
        },
        "fd968bb825564d94a20b21d8bf44234d": {
          "model_module": "@jupyter-widgets/controls",
          "model_name": "DescriptionStyleModel",
          "model_module_version": "1.5.0",
          "state": {
            "_model_module": "@jupyter-widgets/controls",
            "_model_module_version": "1.5.0",
            "_model_name": "DescriptionStyleModel",
            "_view_count": null,
            "_view_module": "@jupyter-widgets/base",
            "_view_module_version": "1.2.0",
            "_view_name": "StyleView",
            "description_width": ""
          }
        },
        "a9a13b04fd824897aed19d47b315898e": {
          "model_module": "@jupyter-widgets/controls",
          "model_name": "HBoxModel",
          "model_module_version": "1.5.0",
          "state": {
            "_dom_classes": [],
            "_model_module": "@jupyter-widgets/controls",
            "_model_module_version": "1.5.0",
            "_model_name": "HBoxModel",
            "_view_count": null,
            "_view_module": "@jupyter-widgets/controls",
            "_view_module_version": "1.5.0",
            "_view_name": "HBoxView",
            "box_style": "",
            "children": [
              "IPY_MODEL_62750b5495794170a7b0dc5ef058dd17",
              "IPY_MODEL_41db5ced37114977b3b05384effe3956",
              "IPY_MODEL_a198e858e659484aa713ec65bb4bcf28"
            ],
            "layout": "IPY_MODEL_33179a73b4e745c793997ed30e5495c5"
          }
        },
        "62750b5495794170a7b0dc5ef058dd17": {
          "model_module": "@jupyter-widgets/controls",
          "model_name": "HTMLModel",
          "model_module_version": "1.5.0",
          "state": {
            "_dom_classes": [],
            "_model_module": "@jupyter-widgets/controls",
            "_model_module_version": "1.5.0",
            "_model_name": "HTMLModel",
            "_view_count": null,
            "_view_module": "@jupyter-widgets/controls",
            "_view_module_version": "1.5.0",
            "_view_name": "HTMLView",
            "description": "",
            "description_tooltip": null,
            "layout": "IPY_MODEL_5c9dd9afc7fa4ca5b8edf6bb1aa378ae",
            "placeholder": "​",
            "style": "IPY_MODEL_770247736ad9458b91739a969dad278e",
            "value": "model.safetensors: 100%"
          }
        },
        "41db5ced37114977b3b05384effe3956": {
          "model_module": "@jupyter-widgets/controls",
          "model_name": "FloatProgressModel",
          "model_module_version": "1.5.0",
          "state": {
            "_dom_classes": [],
            "_model_module": "@jupyter-widgets/controls",
            "_model_module_version": "1.5.0",
            "_model_name": "FloatProgressModel",
            "_view_count": null,
            "_view_module": "@jupyter-widgets/controls",
            "_view_module_version": "1.5.0",
            "_view_name": "ProgressView",
            "bar_style": "success",
            "description": "",
            "description_tooltip": null,
            "layout": "IPY_MODEL_8d69899879c34f8095df2a94a0e3ef69",
            "max": 267954768,
            "min": 0,
            "orientation": "horizontal",
            "style": "IPY_MODEL_c271d92118c3428896911f9b7eae2e4c",
            "value": 267954768
          }
        },
        "a198e858e659484aa713ec65bb4bcf28": {
          "model_module": "@jupyter-widgets/controls",
          "model_name": "HTMLModel",
          "model_module_version": "1.5.0",
          "state": {
            "_dom_classes": [],
            "_model_module": "@jupyter-widgets/controls",
            "_model_module_version": "1.5.0",
            "_model_name": "HTMLModel",
            "_view_count": null,
            "_view_module": "@jupyter-widgets/controls",
            "_view_module_version": "1.5.0",
            "_view_name": "HTMLView",
            "description": "",
            "description_tooltip": null,
            "layout": "IPY_MODEL_f3f5717e04dc4b81ad32780c895344ac",
            "placeholder": "​",
            "style": "IPY_MODEL_916680a749314edcb204eb3e27544375",
            "value": " 268M/268M [00:02&lt;00:00, 141MB/s]"
          }
        },
        "33179a73b4e745c793997ed30e5495c5": {
          "model_module": "@jupyter-widgets/base",
          "model_name": "LayoutModel",
          "model_module_version": "1.2.0",
          "state": {
            "_model_module": "@jupyter-widgets/base",
            "_model_module_version": "1.2.0",
            "_model_name": "LayoutModel",
            "_view_count": null,
            "_view_module": "@jupyter-widgets/base",
            "_view_module_version": "1.2.0",
            "_view_name": "LayoutView",
            "align_content": null,
            "align_items": null,
            "align_self": null,
            "border": null,
            "bottom": null,
            "display": null,
            "flex": null,
            "flex_flow": null,
            "grid_area": null,
            "grid_auto_columns": null,
            "grid_auto_flow": null,
            "grid_auto_rows": null,
            "grid_column": null,
            "grid_gap": null,
            "grid_row": null,
            "grid_template_areas": null,
            "grid_template_columns": null,
            "grid_template_rows": null,
            "height": null,
            "justify_content": null,
            "justify_items": null,
            "left": null,
            "margin": null,
            "max_height": null,
            "max_width": null,
            "min_height": null,
            "min_width": null,
            "object_fit": null,
            "object_position": null,
            "order": null,
            "overflow": null,
            "overflow_x": null,
            "overflow_y": null,
            "padding": null,
            "right": null,
            "top": null,
            "visibility": null,
            "width": null
          }
        },
        "5c9dd9afc7fa4ca5b8edf6bb1aa378ae": {
          "model_module": "@jupyter-widgets/base",
          "model_name": "LayoutModel",
          "model_module_version": "1.2.0",
          "state": {
            "_model_module": "@jupyter-widgets/base",
            "_model_module_version": "1.2.0",
            "_model_name": "LayoutModel",
            "_view_count": null,
            "_view_module": "@jupyter-widgets/base",
            "_view_module_version": "1.2.0",
            "_view_name": "LayoutView",
            "align_content": null,
            "align_items": null,
            "align_self": null,
            "border": null,
            "bottom": null,
            "display": null,
            "flex": null,
            "flex_flow": null,
            "grid_area": null,
            "grid_auto_columns": null,
            "grid_auto_flow": null,
            "grid_auto_rows": null,
            "grid_column": null,
            "grid_gap": null,
            "grid_row": null,
            "grid_template_areas": null,
            "grid_template_columns": null,
            "grid_template_rows": null,
            "height": null,
            "justify_content": null,
            "justify_items": null,
            "left": null,
            "margin": null,
            "max_height": null,
            "max_width": null,
            "min_height": null,
            "min_width": null,
            "object_fit": null,
            "object_position": null,
            "order": null,
            "overflow": null,
            "overflow_x": null,
            "overflow_y": null,
            "padding": null,
            "right": null,
            "top": null,
            "visibility": null,
            "width": null
          }
        },
        "770247736ad9458b91739a969dad278e": {
          "model_module": "@jupyter-widgets/controls",
          "model_name": "DescriptionStyleModel",
          "model_module_version": "1.5.0",
          "state": {
            "_model_module": "@jupyter-widgets/controls",
            "_model_module_version": "1.5.0",
            "_model_name": "DescriptionStyleModel",
            "_view_count": null,
            "_view_module": "@jupyter-widgets/base",
            "_view_module_version": "1.2.0",
            "_view_name": "StyleView",
            "description_width": ""
          }
        },
        "8d69899879c34f8095df2a94a0e3ef69": {
          "model_module": "@jupyter-widgets/base",
          "model_name": "LayoutModel",
          "model_module_version": "1.2.0",
          "state": {
            "_model_module": "@jupyter-widgets/base",
            "_model_module_version": "1.2.0",
            "_model_name": "LayoutModel",
            "_view_count": null,
            "_view_module": "@jupyter-widgets/base",
            "_view_module_version": "1.2.0",
            "_view_name": "LayoutView",
            "align_content": null,
            "align_items": null,
            "align_self": null,
            "border": null,
            "bottom": null,
            "display": null,
            "flex": null,
            "flex_flow": null,
            "grid_area": null,
            "grid_auto_columns": null,
            "grid_auto_flow": null,
            "grid_auto_rows": null,
            "grid_column": null,
            "grid_gap": null,
            "grid_row": null,
            "grid_template_areas": null,
            "grid_template_columns": null,
            "grid_template_rows": null,
            "height": null,
            "justify_content": null,
            "justify_items": null,
            "left": null,
            "margin": null,
            "max_height": null,
            "max_width": null,
            "min_height": null,
            "min_width": null,
            "object_fit": null,
            "object_position": null,
            "order": null,
            "overflow": null,
            "overflow_x": null,
            "overflow_y": null,
            "padding": null,
            "right": null,
            "top": null,
            "visibility": null,
            "width": null
          }
        },
        "c271d92118c3428896911f9b7eae2e4c": {
          "model_module": "@jupyter-widgets/controls",
          "model_name": "ProgressStyleModel",
          "model_module_version": "1.5.0",
          "state": {
            "_model_module": "@jupyter-widgets/controls",
            "_model_module_version": "1.5.0",
            "_model_name": "ProgressStyleModel",
            "_view_count": null,
            "_view_module": "@jupyter-widgets/base",
            "_view_module_version": "1.2.0",
            "_view_name": "StyleView",
            "bar_color": null,
            "description_width": ""
          }
        },
        "f3f5717e04dc4b81ad32780c895344ac": {
          "model_module": "@jupyter-widgets/base",
          "model_name": "LayoutModel",
          "model_module_version": "1.2.0",
          "state": {
            "_model_module": "@jupyter-widgets/base",
            "_model_module_version": "1.2.0",
            "_model_name": "LayoutModel",
            "_view_count": null,
            "_view_module": "@jupyter-widgets/base",
            "_view_module_version": "1.2.0",
            "_view_name": "LayoutView",
            "align_content": null,
            "align_items": null,
            "align_self": null,
            "border": null,
            "bottom": null,
            "display": null,
            "flex": null,
            "flex_flow": null,
            "grid_area": null,
            "grid_auto_columns": null,
            "grid_auto_flow": null,
            "grid_auto_rows": null,
            "grid_column": null,
            "grid_gap": null,
            "grid_row": null,
            "grid_template_areas": null,
            "grid_template_columns": null,
            "grid_template_rows": null,
            "height": null,
            "justify_content": null,
            "justify_items": null,
            "left": null,
            "margin": null,
            "max_height": null,
            "max_width": null,
            "min_height": null,
            "min_width": null,
            "object_fit": null,
            "object_position": null,
            "order": null,
            "overflow": null,
            "overflow_x": null,
            "overflow_y": null,
            "padding": null,
            "right": null,
            "top": null,
            "visibility": null,
            "width": null
          }
        },
        "916680a749314edcb204eb3e27544375": {
          "model_module": "@jupyter-widgets/controls",
          "model_name": "DescriptionStyleModel",
          "model_module_version": "1.5.0",
          "state": {
            "_model_module": "@jupyter-widgets/controls",
            "_model_module_version": "1.5.0",
            "_model_name": "DescriptionStyleModel",
            "_view_count": null,
            "_view_module": "@jupyter-widgets/base",
            "_view_module_version": "1.2.0",
            "_view_name": "StyleView",
            "description_width": ""
          }
        }
      }
    }
  },
  "cells": [
    {
      "cell_type": "markdown",
      "metadata": {
        "id": "view-in-github",
        "colab_type": "text"
      },
      "source": [
        "<a href=\"https://colab.research.google.com/github/aisha-partha/AIMLOps-MiniProjects/blob/mp6/M5_NB_MiniProject_1_ResumeClassification_Using_Bert_Final.ipynb\" target=\"_parent\"><img src=\"https://colab.research.google.com/assets/colab-badge.svg\" alt=\"Open In Colab\"/></a>"
      ]
    },
    {
      "cell_type": "markdown",
      "metadata": {
        "id": "gOQv69UdcrIK"
      },
      "source": [
        "# Advanced Certification Programme in AI and MLOps\n",
        "## A programme by IISc and TalentSprint\n",
        "### Mini-Project 1: Resume Classification"
      ]
    },
    {
      "cell_type": "markdown",
      "metadata": {
        "id": "sNCzT95pcrIN"
      },
      "source": [
        "## Learning Objectives"
      ]
    },
    {
      "cell_type": "markdown",
      "metadata": {
        "id": "IMBrLtAtcrIO"
      },
      "source": [
        "At the end of the mini-project, you will be able to :\n",
        "\n",
        "* perform data preprocessing, EDA on the resume dataset\n",
        "* fine-tune Bert model for resume classification"
      ]
    },
    {
      "cell_type": "markdown",
      "metadata": {
        "id": "v6Xda9CM9el9"
      },
      "source": [
        "## Dataset Description"
      ]
    },
    {
      "cell_type": "markdown",
      "metadata": {
        "id": "VeRfk4Sb9h0r"
      },
      "source": [
        "The data is in CSV format, with two features: Category, and Resume.\n",
        "\n",
        "**Category** -  Industry sector to which the resume belongs to, and\n",
        "\n",
        "**Resume** - The complete CV (text) of the candidate."
      ]
    },
    {
      "cell_type": "markdown",
      "metadata": {
        "id": "R7ZV5ryMP07f"
      },
      "source": [
        "##  Grading = 10 Points"
      ]
    },
    {
      "cell_type": "markdown",
      "metadata": {
        "id": "4Pped-3NPaDV"
      },
      "source": [
        "## Information"
      ]
    },
    {
      "cell_type": "markdown",
      "metadata": {
        "id": "QuxYf07d62Oo"
      },
      "source": [
        "Companies often receive thousands of resumes for each job posting and employ dedicated screening officers to screen qualified candidates. Finding suitable candidates for an open role from a database of 1000s of resumes can be a tough task. Automated resume categorization can speeden the candidate selection process. Such automation can really ease the tedious process of fair screening and shortlisting the right candidates and aid quick decisionmaking.\n",
        "\n",
        "To learn more about this, click [here](https://www.sciencedirect.com/science/article/pii/S187705092030750X)."
      ]
    },
    {
      "cell_type": "markdown",
      "source": [
        "**Problem Statement:** Fine-tune a pre-trained Bert model for resume classification.\n",
        "\n",
        "*For fine-tuning Bert, refer to the demo session on 'HuggingFace platform' held on 17 Aug.*"
      ],
      "metadata": {
        "id": "uvvyWAPhkvm8"
      }
    },
    {
      "cell_type": "markdown",
      "source": [
        "### Install dependencies\n",
        "\n",
        "After installing the below dependencies ***Restart the session/runtime***."
      ],
      "metadata": {
        "id": "lNKEGvMEIK5f"
      }
    },
    {
      "cell_type": "code",
      "source": [
        "!pip -q uninstall pyarrow -y\n",
        "!pip -q install pyarrow==15.0.2\n",
        "!pip -q install datasets\n",
        "!pip -q install accelerate\n",
        "!pip -q install transformers"
      ],
      "metadata": {
        "id": "ejNC4T4_A0GN",
        "colab": {
          "base_uri": "https://localhost:8080/"
        },
        "outputId": "75714749-2a0c-41cc-8983-1393aa29fb70"
      },
      "execution_count": null,
      "outputs": [
        {
          "output_type": "stream",
          "name": "stdout",
          "text": [
            "\u001b[2K   \u001b[90m━━━━━━━━━━━━━━━━━━━━━━━━━━━━━━━━━━━━━━━━\u001b[0m \u001b[32m38.3/38.3 MB\u001b[0m \u001b[31m10.3 MB/s\u001b[0m eta \u001b[36m0:00:00\u001b[0m\n",
            "\u001b[?25h\u001b[31mERROR: pip's dependency resolver does not currently take into account all the packages that are installed. This behaviour is the source of the following dependency conflicts.\n",
            "cudf-cu12 24.4.1 requires pyarrow<15.0.0a0,>=14.0.1, but you have pyarrow 15.0.2 which is incompatible.\u001b[0m\u001b[31m\n",
            "\u001b[2K   \u001b[90m━━━━━━━━━━━━━━━━━━━━━━━━━━━━━━━━━━━━━━━━\u001b[0m \u001b[32m527.3/527.3 kB\u001b[0m \u001b[31m18.2 MB/s\u001b[0m eta \u001b[36m0:00:00\u001b[0m\n",
            "\u001b[2K   \u001b[90m━━━━━━━━━━━━━━━━━━━━━━━━━━━━━━━━━━━━━━━━\u001b[0m \u001b[32m116.3/116.3 kB\u001b[0m \u001b[31m9.9 MB/s\u001b[0m eta \u001b[36m0:00:00\u001b[0m\n",
            "\u001b[2K   \u001b[90m━━━━━━━━━━━━━━━━━━━━━━━━━━━━━━━━━━━━━━━━\u001b[0m \u001b[32m134.8/134.8 kB\u001b[0m \u001b[31m10.9 MB/s\u001b[0m eta \u001b[36m0:00:00\u001b[0m\n",
            "\u001b[2K   \u001b[90m━━━━━━━━━━━━━━━━━━━━━━━━━━━━━━━━━━━━━━━━\u001b[0m \u001b[32m194.1/194.1 kB\u001b[0m \u001b[31m14.2 MB/s\u001b[0m eta \u001b[36m0:00:00\u001b[0m\n",
            "\u001b[?25h"
          ]
        }
      ]
    },
    {
      "cell_type": "markdown",
      "source": [
        "### <font color=\"#990000\">Restart Session/Runtime</font>"
      ],
      "metadata": {
        "id": "sTBUGx6zfgsJ"
      }
    },
    {
      "cell_type": "markdown",
      "source": [
        "### Import required packages"
      ],
      "metadata": {
        "id": "HdoX5Go6IhCE"
      }
    },
    {
      "cell_type": "code",
      "metadata": {
        "id": "5t0FQjPs8o4s",
        "colab": {
          "base_uri": "https://localhost:8080/"
        },
        "outputId": "95c9fb01-37ec-4916-f92a-90827c2f338c"
      },
      "source": [
        "from datasets import Dataset, DatasetDict\n",
        "\n",
        "from transformers import AutoTokenizer\n",
        "from transformers import AutoModelForSequenceClassification\n",
        "from transformers import TrainingArguments\n",
        "from transformers import Trainer\n",
        "from transformers import pipeline\n",
        "\n",
        "import numpy as np\n",
        "import pandas as pd\n",
        "import seaborn as sns\n",
        "import matplotlib.pyplot as plt\n",
        "from matplotlib.gridspec import GridSpec\n",
        "\n",
        "from sklearn.model_selection import train_test_split\n",
        "from sklearn.preprocessing import LabelEncoder\n",
        "\n",
        "import nltk\n",
        "nltk.download('stopwords')\n",
        "nltk.download('punkt')\n",
        "from nltk.corpus import stopwords\n",
        "\n",
        "import warnings\n",
        "warnings.filterwarnings('ignore')"
      ],
      "execution_count": null,
      "outputs": [
        {
          "output_type": "stream",
          "name": "stderr",
          "text": [
            "[nltk_data] Downloading package stopwords to /root/nltk_data...\n",
            "[nltk_data]   Unzipping corpora/stopwords.zip.\n",
            "[nltk_data] Downloading package punkt to /root/nltk_data...\n",
            "[nltk_data]   Unzipping tokenizers/punkt.zip.\n"
          ]
        }
      ]
    },
    {
      "cell_type": "markdown",
      "metadata": {
        "id": "standing-zimbabwe"
      },
      "source": [
        "### Downloading the data"
      ]
    },
    {
      "cell_type": "code",
      "metadata": {
        "id": "universal-jonathan",
        "scrolled": true,
        "cellView": "form",
        "colab": {
          "base_uri": "https://localhost:8080/"
        },
        "outputId": "21c24a61-b619-46a4-ae43-e165ea715b8c"
      },
      "source": [
        "#@title Download the data\n",
        "!wget -qq https://cdn.iisc.talentsprint.com/CDS/Datasets/UpdatedResumeDataSet.csv\n",
        "!ls | grep '.csv'"
      ],
      "execution_count": null,
      "outputs": [
        {
          "output_type": "stream",
          "name": "stdout",
          "text": [
            "UpdatedResumeDataSet.csv\n"
          ]
        }
      ]
    },
    {
      "cell_type": "markdown",
      "metadata": {
        "id": "T3FkLI6wcaat"
      },
      "source": [
        "**Exercise 1: Read the UpdatedResumeDataset.csv dataset [0.5 Mark]**\n",
        "\n",
        "**Hint:** pd.read_csv( , encoding='utf-8')"
      ]
    },
    {
      "cell_type": "code",
      "metadata": {
        "id": "eIu-AOsB9GfD"
      },
      "source": [
        "# Read the dataset\n",
        "# YOUR CODE HERE\n",
        "data = pd.read_csv('/content/UpdatedResumeDataSet.csv', encoding ='utf-8')"
      ],
      "execution_count": null,
      "outputs": []
    },
    {
      "cell_type": "markdown",
      "metadata": {
        "id": "QvddL7X69NiB"
      },
      "source": [
        "### Pre-processing and EDA"
      ]
    },
    {
      "cell_type": "markdown",
      "metadata": {
        "id": "EA1d25HrzTGW"
      },
      "source": [
        "**Exercise 2: Display  all the categories of resumes and their counts in the dataset [0.5 Mark]**\n",
        "\n"
      ]
    },
    {
      "cell_type": "code",
      "metadata": {
        "id": "C92ji6ZV9MWs",
        "colab": {
          "base_uri": "https://localhost:8080/",
          "height": 112
        },
        "outputId": "4f28f3bb-d9ac-4b33-af34-9239ac970946"
      },
      "source": [
        "# Display the distinct categories of resume\n",
        "# YOUR CODE HERE\n",
        "data.head(2)"
      ],
      "execution_count": null,
      "outputs": [
        {
          "output_type": "execute_result",
          "data": {
            "text/plain": [
              "       Category                                             Resume\n",
              "0  Data Science  Skills * Programming Languages: Python (pandas...\n",
              "1  Data Science  Education Details \\r\\nMay 2013 to May 2017 B.E..."
            ],
            "text/html": [
              "\n",
              "  <div id=\"df-c264d751-33e1-46da-a8bb-59ca6ad8c816\" class=\"colab-df-container\">\n",
              "    <div>\n",
              "<style scoped>\n",
              "    .dataframe tbody tr th:only-of-type {\n",
              "        vertical-align: middle;\n",
              "    }\n",
              "\n",
              "    .dataframe tbody tr th {\n",
              "        vertical-align: top;\n",
              "    }\n",
              "\n",
              "    .dataframe thead th {\n",
              "        text-align: right;\n",
              "    }\n",
              "</style>\n",
              "<table border=\"1\" class=\"dataframe\">\n",
              "  <thead>\n",
              "    <tr style=\"text-align: right;\">\n",
              "      <th></th>\n",
              "      <th>Category</th>\n",
              "      <th>Resume</th>\n",
              "    </tr>\n",
              "  </thead>\n",
              "  <tbody>\n",
              "    <tr>\n",
              "      <th>0</th>\n",
              "      <td>Data Science</td>\n",
              "      <td>Skills * Programming Languages: Python (pandas...</td>\n",
              "    </tr>\n",
              "    <tr>\n",
              "      <th>1</th>\n",
              "      <td>Data Science</td>\n",
              "      <td>Education Details \\r\\nMay 2013 to May 2017 B.E...</td>\n",
              "    </tr>\n",
              "  </tbody>\n",
              "</table>\n",
              "</div>\n",
              "    <div class=\"colab-df-buttons\">\n",
              "\n",
              "  <div class=\"colab-df-container\">\n",
              "    <button class=\"colab-df-convert\" onclick=\"convertToInteractive('df-c264d751-33e1-46da-a8bb-59ca6ad8c816')\"\n",
              "            title=\"Convert this dataframe to an interactive table.\"\n",
              "            style=\"display:none;\">\n",
              "\n",
              "  <svg xmlns=\"http://www.w3.org/2000/svg\" height=\"24px\" viewBox=\"0 -960 960 960\">\n",
              "    <path d=\"M120-120v-720h720v720H120Zm60-500h600v-160H180v160Zm220 220h160v-160H400v160Zm0 220h160v-160H400v160ZM180-400h160v-160H180v160Zm440 0h160v-160H620v160ZM180-180h160v-160H180v160Zm440 0h160v-160H620v160Z\"/>\n",
              "  </svg>\n",
              "    </button>\n",
              "\n",
              "  <style>\n",
              "    .colab-df-container {\n",
              "      display:flex;\n",
              "      gap: 12px;\n",
              "    }\n",
              "\n",
              "    .colab-df-convert {\n",
              "      background-color: #E8F0FE;\n",
              "      border: none;\n",
              "      border-radius: 50%;\n",
              "      cursor: pointer;\n",
              "      display: none;\n",
              "      fill: #1967D2;\n",
              "      height: 32px;\n",
              "      padding: 0 0 0 0;\n",
              "      width: 32px;\n",
              "    }\n",
              "\n",
              "    .colab-df-convert:hover {\n",
              "      background-color: #E2EBFA;\n",
              "      box-shadow: 0px 1px 2px rgba(60, 64, 67, 0.3), 0px 1px 3px 1px rgba(60, 64, 67, 0.15);\n",
              "      fill: #174EA6;\n",
              "    }\n",
              "\n",
              "    .colab-df-buttons div {\n",
              "      margin-bottom: 4px;\n",
              "    }\n",
              "\n",
              "    [theme=dark] .colab-df-convert {\n",
              "      background-color: #3B4455;\n",
              "      fill: #D2E3FC;\n",
              "    }\n",
              "\n",
              "    [theme=dark] .colab-df-convert:hover {\n",
              "      background-color: #434B5C;\n",
              "      box-shadow: 0px 1px 3px 1px rgba(0, 0, 0, 0.15);\n",
              "      filter: drop-shadow(0px 1px 2px rgba(0, 0, 0, 0.3));\n",
              "      fill: #FFFFFF;\n",
              "    }\n",
              "  </style>\n",
              "\n",
              "    <script>\n",
              "      const buttonEl =\n",
              "        document.querySelector('#df-c264d751-33e1-46da-a8bb-59ca6ad8c816 button.colab-df-convert');\n",
              "      buttonEl.style.display =\n",
              "        google.colab.kernel.accessAllowed ? 'block' : 'none';\n",
              "\n",
              "      async function convertToInteractive(key) {\n",
              "        const element = document.querySelector('#df-c264d751-33e1-46da-a8bb-59ca6ad8c816');\n",
              "        const dataTable =\n",
              "          await google.colab.kernel.invokeFunction('convertToInteractive',\n",
              "                                                    [key], {});\n",
              "        if (!dataTable) return;\n",
              "\n",
              "        const docLinkHtml = 'Like what you see? Visit the ' +\n",
              "          '<a target=\"_blank\" href=https://colab.research.google.com/notebooks/data_table.ipynb>data table notebook</a>'\n",
              "          + ' to learn more about interactive tables.';\n",
              "        element.innerHTML = '';\n",
              "        dataTable['output_type'] = 'display_data';\n",
              "        await google.colab.output.renderOutput(dataTable, element);\n",
              "        const docLink = document.createElement('div');\n",
              "        docLink.innerHTML = docLinkHtml;\n",
              "        element.appendChild(docLink);\n",
              "      }\n",
              "    </script>\n",
              "  </div>\n",
              "\n",
              "\n",
              "<div id=\"df-1047523e-8040-49e4-aef1-34926c71546e\">\n",
              "  <button class=\"colab-df-quickchart\" onclick=\"quickchart('df-1047523e-8040-49e4-aef1-34926c71546e')\"\n",
              "            title=\"Suggest charts\"\n",
              "            style=\"display:none;\">\n",
              "\n",
              "<svg xmlns=\"http://www.w3.org/2000/svg\" height=\"24px\"viewBox=\"0 0 24 24\"\n",
              "     width=\"24px\">\n",
              "    <g>\n",
              "        <path d=\"M19 3H5c-1.1 0-2 .9-2 2v14c0 1.1.9 2 2 2h14c1.1 0 2-.9 2-2V5c0-1.1-.9-2-2-2zM9 17H7v-7h2v7zm4 0h-2V7h2v10zm4 0h-2v-4h2v4z\"/>\n",
              "    </g>\n",
              "</svg>\n",
              "  </button>\n",
              "\n",
              "<style>\n",
              "  .colab-df-quickchart {\n",
              "      --bg-color: #E8F0FE;\n",
              "      --fill-color: #1967D2;\n",
              "      --hover-bg-color: #E2EBFA;\n",
              "      --hover-fill-color: #174EA6;\n",
              "      --disabled-fill-color: #AAA;\n",
              "      --disabled-bg-color: #DDD;\n",
              "  }\n",
              "\n",
              "  [theme=dark] .colab-df-quickchart {\n",
              "      --bg-color: #3B4455;\n",
              "      --fill-color: #D2E3FC;\n",
              "      --hover-bg-color: #434B5C;\n",
              "      --hover-fill-color: #FFFFFF;\n",
              "      --disabled-bg-color: #3B4455;\n",
              "      --disabled-fill-color: #666;\n",
              "  }\n",
              "\n",
              "  .colab-df-quickchart {\n",
              "    background-color: var(--bg-color);\n",
              "    border: none;\n",
              "    border-radius: 50%;\n",
              "    cursor: pointer;\n",
              "    display: none;\n",
              "    fill: var(--fill-color);\n",
              "    height: 32px;\n",
              "    padding: 0;\n",
              "    width: 32px;\n",
              "  }\n",
              "\n",
              "  .colab-df-quickchart:hover {\n",
              "    background-color: var(--hover-bg-color);\n",
              "    box-shadow: 0 1px 2px rgba(60, 64, 67, 0.3), 0 1px 3px 1px rgba(60, 64, 67, 0.15);\n",
              "    fill: var(--button-hover-fill-color);\n",
              "  }\n",
              "\n",
              "  .colab-df-quickchart-complete:disabled,\n",
              "  .colab-df-quickchart-complete:disabled:hover {\n",
              "    background-color: var(--disabled-bg-color);\n",
              "    fill: var(--disabled-fill-color);\n",
              "    box-shadow: none;\n",
              "  }\n",
              "\n",
              "  .colab-df-spinner {\n",
              "    border: 2px solid var(--fill-color);\n",
              "    border-color: transparent;\n",
              "    border-bottom-color: var(--fill-color);\n",
              "    animation:\n",
              "      spin 1s steps(1) infinite;\n",
              "  }\n",
              "\n",
              "  @keyframes spin {\n",
              "    0% {\n",
              "      border-color: transparent;\n",
              "      border-bottom-color: var(--fill-color);\n",
              "      border-left-color: var(--fill-color);\n",
              "    }\n",
              "    20% {\n",
              "      border-color: transparent;\n",
              "      border-left-color: var(--fill-color);\n",
              "      border-top-color: var(--fill-color);\n",
              "    }\n",
              "    30% {\n",
              "      border-color: transparent;\n",
              "      border-left-color: var(--fill-color);\n",
              "      border-top-color: var(--fill-color);\n",
              "      border-right-color: var(--fill-color);\n",
              "    }\n",
              "    40% {\n",
              "      border-color: transparent;\n",
              "      border-right-color: var(--fill-color);\n",
              "      border-top-color: var(--fill-color);\n",
              "    }\n",
              "    60% {\n",
              "      border-color: transparent;\n",
              "      border-right-color: var(--fill-color);\n",
              "    }\n",
              "    80% {\n",
              "      border-color: transparent;\n",
              "      border-right-color: var(--fill-color);\n",
              "      border-bottom-color: var(--fill-color);\n",
              "    }\n",
              "    90% {\n",
              "      border-color: transparent;\n",
              "      border-bottom-color: var(--fill-color);\n",
              "    }\n",
              "  }\n",
              "</style>\n",
              "\n",
              "  <script>\n",
              "    async function quickchart(key) {\n",
              "      const quickchartButtonEl =\n",
              "        document.querySelector('#' + key + ' button');\n",
              "      quickchartButtonEl.disabled = true;  // To prevent multiple clicks.\n",
              "      quickchartButtonEl.classList.add('colab-df-spinner');\n",
              "      try {\n",
              "        const charts = await google.colab.kernel.invokeFunction(\n",
              "            'suggestCharts', [key], {});\n",
              "      } catch (error) {\n",
              "        console.error('Error during call to suggestCharts:', error);\n",
              "      }\n",
              "      quickchartButtonEl.classList.remove('colab-df-spinner');\n",
              "      quickchartButtonEl.classList.add('colab-df-quickchart-complete');\n",
              "    }\n",
              "    (() => {\n",
              "      let quickchartButtonEl =\n",
              "        document.querySelector('#df-1047523e-8040-49e4-aef1-34926c71546e button');\n",
              "      quickchartButtonEl.style.display =\n",
              "        google.colab.kernel.accessAllowed ? 'block' : 'none';\n",
              "    })();\n",
              "  </script>\n",
              "</div>\n",
              "\n",
              "    </div>\n",
              "  </div>\n"
            ],
            "application/vnd.google.colaboratory.intrinsic+json": {
              "type": "dataframe",
              "variable_name": "data",
              "summary": "{\n  \"name\": \"data\",\n  \"rows\": 962,\n  \"fields\": [\n    {\n      \"column\": \"Category\",\n      \"properties\": {\n        \"dtype\": \"category\",\n        \"num_unique_values\": 25,\n        \"samples\": [\n          \"Civil Engineer\",\n          \"DevOps Engineer\",\n          \"Data Science\"\n        ],\n        \"semantic_type\": \"\",\n        \"description\": \"\"\n      }\n    },\n    {\n      \"column\": \"Resume\",\n      \"properties\": {\n        \"dtype\": \"category\",\n        \"num_unique_values\": 166,\n        \"samples\": [\n          \"KEY COMPETENCIES \\u00e2\\u009c\\u00b6Multi - Operations Management\\u00e2\\u009c\\u00b6People Management \\u00e2\\u009c\\u00b6Customer Services - Emails \\u00e2\\u009c\\u00b6 MIS \\u00e2\\u009c\\u00b6Vendor & Client Services Management\\u00e2\\u009c\\u00b6Cross Functional Coordination\\u00e2\\u009c\\u00b6Banking & Financial Services\\u00e2\\u009c\\u00b6 Transaction Monitoring * ATM Operations \\u00e2\\u009c\\u00b6 & Prepaid Card Operations (Pre-Issuance & Post-Issuance) \\u00e2\\u009c\\u00b6 POS Operations * JOB PROFILE & SKILLS: \\u00e2\\u0080\\u00a2 An effective communicator with excellent relationship building & interpersonal skills. Strong analytical, problem solving & organizational abilities. \\u00e2\\u0080\\u00a2 Extensive experience in managing operations with demonstrated leadership qualities & organisational skills during the tenure. \\u00e2\\u0080\\u00a2 Managing customer centric operations & ensuring customer satisfaction by achieving service quality norms. \\u00e2\\u0080\\u00a2 Analyzing of all operational problems, customer complaints and take preventive and corrective actions to resolve the same. \\u00e2\\u0080\\u00a2 Receive and respond to Key customer inquiries in an effective manner and provide relevant and timely information. \\u00e2\\u0080\\u00a2 Deft in steering banking back-end operations, analyzing risks and managing delinquencies with dexterity across applying techniques for maximizing recoveries and minimizing credit losses. \\u00e2\\u0080\\u00a2 Analyzed & identified training needs of the team members and developing, organizing and conducting training programs and manage bottom quartile team to improve their performance. \\u00e2\\u0080\\u00a2 Preparing and maintaining daily MIS reports to evaluate the performance and efficiency of the process relate to various verticals. \\u00e2\\u0080\\u00a2 Measuring the performance of the processes in terms of efficiency and effectiveness matrix and ensuring adherence to SLA. \\u00e2\\u0080\\u00a2 Major Activities Define processes for Field Services were monitored and necessary checks were executed and controlled. Also measured Vendor SLA by analyzing the TAT of vendors & the Client SLA provided to us. \\u00e2\\u0080\\u00a2 As per company procedures, handling & ensuring vendor's payment issues to be sorted out &payments are processed on quarterly basis. \\u00e2\\u0080\\u00a2 Appropriately plan and execute each skill of operations in accordance with the department's policies and procedures. \\u00e2\\u0080\\u00a2 Manage relationships with business team, software development team and other services to achieve project objectives. Different software Worked till now: - a. CTL prime - Axis Bank Credit Cards b. Insight - For POS Machine technical operations for Amex (MID & TID Generation- ATOS (Venture Infotek) c. Ticket Management System - TATA Communications Private Services Ltd (ATM - NOC Operations) d. Branch Portal (Yalamanchili Software Exports Ltd) - Prepaid Cards (SBI Bank & Zaggle Prepaid Oceans Services Ltd) Zaggle Prepaid Ocean Services Pvt Ltd Oct, 2017 to Till Date Designation: Manager - Operations (Payment Industry - Prepaid Cards - INR) Education Details \\r\\n  Commerce Mumbai, Maharashtra Mumbai University\\r\\nOperations Manager \\r\\n\\r\\nService Manager - Operations (Payment Industry - Prepaid Cards - INR & FTC)\\r\\nSkill Details \\r\\nOPERATIONS- Exprience - 73 months\\r\\nSATISFACTION- Exprience - 48 months\\r\\nTRAINING- Exprience - 24 months\\r\\nNOC- Exprience - 23 months\\r\\nPOINT OF SALE- Exprience - 20 monthsCompany Details \\r\\ncompany - Zaggle Prepaid Ocean Services Pvt Ltd\\r\\ndescription - Card Operations\\r\\ncompany - Yalamanchili Software Exports Ltd\\r\\ndescription - 24*7 Operations Pvt Ltd) Dec 2015 to Feb 2017\\r\\n\\r\\nDesignation: Service Manager - Operations (Payment Industry - Prepaid Cards - INR & FTC)\\r\\n\\r\\nKey Contributions: \\u00e2\\u0080\\u00a2 A result-oriented business professional in planning, executing& managing processes, improving efficiency of operations, team building and detailing process information to determine effective result into operations.\\r\\n\\u00e2\\u0080\\u00a2 Ensuring PINs generation (SLA) is maintained and chargeback cases are raised in perfect timeframe.\\r\\n\\u00e2\\u0080\\u00a2 Managing email customer services properly and ensuring the emails are replied properly. Also, ensuring transaction monitoring is properly managed 24/7.\\r\\n\\u00e2\\u0080\\u00a2 Assisting Bankers (SBI & Associated Banks) for their BCP plans by getting executed in the system with the help of DR-PR plans & vice versa or any other business requirements.\\r\\n\\u00e2\\u0080\\u00a2 Expertise in maintaining highest level of quality in operations; ensuring adherence to all the quality parameters and procedures as per the stringent norms.\\r\\n\\u00e2\\u0080\\u00a2 Lead, manage and supervise the execution of external audit engagements and responsible for presenting the findings & developing a quality reports to the senior Management and Clients.\\r\\n\\u00e2\\u0080\\u00a2 Coach/mentor (20) team members to perform at a higher level by giving opportunities, providing timely continuous feedback and working with staff to improve their communication, time management, decision making, organization, and analytical skills.\\r\\n\\u00e2\\u0080\\u00a2 Providing the solutions and services to the client in their own premises with aforesaid count of team members.\\r\\n\\u00e2\\u0080\\u00a2 Also ensuring end to end process of PR & DR as per client requirements (PR- DR & DR -PR) by interacting with internal & external stakeholders.\\r\\n\\u00e2\\u0080\\u00a2 Determining process gaps and designing & conducting training programs to enhance operational efficiency and retain talent by providing optimum opportunities for personal and professional growth.\\r\\ncompany - Credit Cards\\r\\ndescription - Ensured highest standard of customer satisfaction and quality service; developing new policies and procedures to improve based on customer feedback and resolving customer queries via correspondence, inbound calls & email channels with the strength of (12-16) Team members.\\r\\ncompany - AGS Transact Technologies Limited\\r\\ndescription - Key Contributions: Lead - SPOC to Banks\\r\\ncompany - TATA Communications Payment Solutions Ltd\\r\\ndescription - To make ATMs operational within TAT by analyzing the issue is technical or non-technical and also by interacting with internal & external stakeholders.\\r\\ncompany - Vertex Customer Solutions India Private Ltd\\r\\ndescription - Key Contributions: \\u00e2\\u0080\\u00a2 Build positive working relationship with all team members and clients by keeping Management informed   of KYC document collection & con-current audit progress, responding timely to Management inquiries, understanding the business and conducting self professionally.\\r\\ncompany - Financial Inclusion Network & Operations Limited\\r\\ndescription - Key Contributions: POS-Operations \\u00e2\\u0080\\u00a2 Cascading the adherence of process is strictly followed by team members & training them to reduce the downtime.\\r\\n\\u00e2\\u0080\\u00a2 Managing Stock of EDC Terminals \\u00e2\\u0080\\u00a2 Managing Deployments of terminals through Multiple teams \\u00e2\\u0080\\u00a2 Would have worked with multiple terminal make & model \\u00e2\\u0080\\u00a2 Managing Inward, Outward & QC of applications installed in the POS machines.\\r\\ncompany - Venture Infotek Private Ltd\\r\\ndescription - Key Contributions: POS-Operations\\r\\ncompany - Axis Bank Ltd - Customer Services\\r\\ndescription - Aug 2006 to Oct 2009 (Ma-Foi&I- smart)\\r\\n\\r\\nDesignation: Team Leader/Executive - Emails, Phone Banking & Correspondence Unit (Snail Mails)\",\n          \"Skill Set: Hadoop, Map Reduce, HDFS, Hive, Sqoop, java. Duration: 2016 to 2017. Role: Hadoop Developer Rplus offers an quick, simple and powerful cloud based Solution, Demand Sense to accurately predict demand for your product in all your markets which Combines Enterprise and External Data to predict demand more accurately through Uses Social Conversation and Sentiments to derive demand and Identifies significant drivers of sale out of hordes of factors that Selects the best suited model out of multiple forecasting models for each product. Responsibilities: \\u00e2\\u0080\\u00a2 Involved in deploying the product for customers, gathering requirements and algorithm optimization at backend of the product. \\u00e2\\u0080\\u00a2 Load and transform Large Datasets of structured semi structured. \\u00e2\\u0080\\u00a2 Responsible to manage data coming from different sources and application \\u00e2\\u0080\\u00a2 Supported Map Reduce Programs those are running on the cluster \\u00e2\\u0080\\u00a2 Involved in creating Hive tables, loading with data and writing hive queries which will run internally in map reduce way.Education Details \\r\\n\\r\\nHadoop Developer \\r\\n\\r\\nHadoop Developer - Braindatawire\\r\\nSkill Details \\r\\nAPACHE HADOOP HDFS- Exprience - 49 months\\r\\nAPACHE HADOOP SQOOP- Exprience - 49 months\\r\\nHadoop- Exprience - 49 months\\r\\nHADOOP- Exprience - 49 months\\r\\nHADOOP DISTRIBUTED FILE SYSTEM- Exprience - 49 monthsCompany Details \\r\\ncompany - Braindatawire\\r\\ndescription - Technical Skills:\\r\\n\\u00e2\\u0080\\u00a2   Programming: Core Java, Map Reduce, Scala\\r\\n\\u00e2\\u0080\\u00a2   Hadoop Tools: HDFS, Spark, Map Reduce, Sqoop, Hive, Hbase\\r\\n\\u00e2\\u0080\\u00a2   Database: MySQL, Oracle\\r\\n\\u00e2\\u0080\\u00a2   Scripting: Shell Scripting\\r\\n\\u00e2\\u0080\\u00a2   IDE: Eclipse\\r\\n\\u00e2\\u0080\\u00a2   Operating Systems: Linux (CentOS), Windows\\r\\n\\u00e2\\u0080\\u00a2   Source Control: Git (Github)\",\n          \"IT Skills: Area Exposure Modeling Tool: Bizagi, MS Visio Prototyping Tool: Indigo Studio. Documentation: MS Office (MS Word, MS Excel, MS Power Point) Testing Proficiency: Smoke, Sanity, Integration, Functional, Acceptance and UI Methodology implemented: Waterfall, Agile (Scrum) Database: SQL Testing Tool: HPQC Business Exposure Education Details \\r\\n Bachelor Of Computer Engineering Computer Engineering Mumbai, Maharashtra Thadomal Shahani Engineering college\\r\\n Diploma Computer Engineering Ulhasnagar, Maharashtra Institute of Technology\\r\\n Secondary School Certificate  Ulhasnagar, Maharashtra New English High School\\r\\nSenior Business Analyst - RPA \\r\\n\\r\\nSenior Business Analyst - RPA - Hexaware Technologies\\r\\nSkill Details \\r\\nDOCUMENTATION- Exprience - 47 months\\r\\nTESTING- Exprience - 29 months\\r\\nINTEGRATION- Exprience - 25 months\\r\\nINTEGRATOR- Exprience - 25 months\\r\\nPROTOTYPE- Exprience - 13 monthsCompany Details \\r\\ncompany - Hexaware Technologies\\r\\ndescription - Working as a RPA Business Analyst\\r\\ncompany - BBH- Brown Brothers Harriman & Co\\r\\ndescription - is a private bank that provides commercial banking, investment management, brokerage, and trust services to private companies and individuals. It also performs merger advisory, foreign exchange, custody services, commercial banking, and corporate financing services.\\r\\n\\r\\nResponsibilities: \\u00e2\\u0080\\u00a2 Performed Automation Assessment of various Processes and identified processes which can be candidates of RPA.\\r\\n\\u00e2\\u0080\\u00a2 Conducting Assessment that involves an initial Understanding of the Existing System, their technology, processes, Usage of the tools, Feasibility of tool with automation tool along with automation ROI analysis.\\r\\n\\u00e2\\u0080\\u00a2 Preparing the Automation Potential Sheet which describes the steps in the process, the volume and frequency of the transaction, the AHT taken by SME to perform the process and depending on the steps that could be automated, Automation potential and the manual efforts that will be saved are calculated.\\r\\nCalculating the complexity of the Process which is considered for automation and depending on all these factors Number of Bots and Number of Automation tool Licenses are determined.\\r\\n\\u00e2\\u0080\\u00a2 Implementing a Proof of Concept (POC) to Validate Feasibility by executing the selected critical use cases for conducting a POC which will helps to identify financial and operational benefits and provide recommendations regarding the actual need for complete automation.\\r\\n\\u00e2\\u0080\\u00a2 Gathering business requirements by conducting detailed interviews with business users, stakeholders, and Subject Matter Experts (SME's) \\u00e2\\u0080\\u00a2 Preparing Business Requirement Document and then converted Business requirements into Functional Requirements Specification.\\r\\n \\u00e2\\u0080\\u00a2 Constructing prototype early toward a design acceptable to the customer and feasible.\\r\\n\\u00e2\\u0080\\u00a2 Assisting in designing test plans, test scenarios and test cases for integration, regression, and user acceptance testing (UAT) to improve the overall quality of the Automation.\\r\\n\\u00e2\\u0080\\u00a2 Participating regularly in Walkthroughs and Review meetings with Project Manager, QA Engineers, and Development team.\\r\\n\\u00e2\\u0080\\u00a2 Regularly interacting with offshore and onshore development teams.\\r\\ncompany - FADV - First Advantage\\r\\ndescription - is a criminal background check company that delivers global solutions ranging from employment screenings to background checks.\\r\\nThe following are the processes which were covered:\\r\\nEmail Process, Research Process, Review Process.\\r\\n\\r\\nResponsibilities: \\u00e2\\u0080\\u00a2 Requirement Gathering through conducting Interviews & Brainstorming sessions with stakeholders \\u00e2\\u0080\\u00a2 To develop decision models and execute those rules as per the use case specifications.\\r\\n\\u00e2\\u0080\\u00a2 To Test/validate the decision models against document test data.\\r\\n\\u00e2\\u0080\\u00a2 To maintain and enhance the decision models for changes in regulations as per use case specifications.\\r\\n\\u00e2\\u0080\\u00a2 Responsible for performing the business research that will make a business growth.\\r\\n\\u00e2\\u0080\\u00a2 Developing a clear understanding of existing business functions and processes.\\r\\n\\u00e2\\u0080\\u00a2 Effectively communicate with the onsite clients for the queries, suggestions, and update.\\r\\n\\u00e2\\u0080\\u00a2 Giving suggestions to enhance the current processes.\\r\\n\\u00e2\\u0080\\u00a2 Identifying areas for process improvement.\\r\\n\\u00e2\\u0080\\u00a2 Flagging up potential problems at an early stage.\\r\\n\\u00e2\\u0080\\u00a2 Preparing PowerPoint presentations and documents for business meetings.\\r\\n\\u00e2\\u0080\\u00a2 Using any information gathered to write up detailed reports.\\r\\n\\u00e2\\u0080\\u00a2 Highlighting risks and issues that could impact project delivery.\\r\\n\\u00e2\\u0080\\u00a2 Able to work accurately.\\r\\n\\u00e2\\u0080\\u00a2 To develop and maintain documentation for internal team training and client end user operations.\\r\\n\\u00e2\\u0080\\u00a2 To work efficiently with team members and across teams.\\r\\n\\u00e2\\u0080\\u00a2 To mentor and train junior team members.\\r\\ncompany - Clinical Testing, Lab Work and Diagnostic Testing\\r\\ndescription - IQVIA provides services to its customers this includes: Clinical Testing, Lab Work and Diagnostic Testing under clinical trial. These customers need to pay to IQVIA and aging details and invoices are generated for the same.\\r\\nThe following are the processes which were covered:\\r\\n\\r\\nTracking Payments, Automated Real Time Metrics Reporting (Dashboard), Past Due Notifications, AR Statements, Credit/Rebill.\\r\\nResponsibilities: \\u00e2\\u0080\\u00a2 Conducting meetings with clients and key stakeholders to gather requirements, analyze, finalize and have formal sign-offs from approvers Gather and perform analysis of the business requirements \\u00e2\\u0080\\u00a2 Translating the business requirements into the Business Requirement Document [BRD], Functional Requirement Document [FRD].\\r\\n\\u00e2\\u0080\\u00a2 Facilitating meetings with the appropriate subject matter experts in both business and technology teams \\u00e2\\u0080\\u00a2 Coordinating with business user community for the execution of user acceptance test as well as tracking issues \\u00e2\\u0080\\u00a2 Working, collaborating and coordinating with Offshore and Onsite team members to fulfill the BA responsibilities from project initiation to Post-Implementation \\u00e2\\u0080\\u00a2 Reviewing the test scripts with business users as well as technology team. Execute test scripts with expected results for the System Integration Test (SIT) and User Acceptance Test (UAT) \\u00e2\\u0080\\u00a2 Coordinating and conducting the Production Acceptance Testing (PAT) with the business users \\u00e2\\u0080\\u00a2 Creating flow diagrams, structure charts, and other types of system or process representations \\u00e2\\u0080\\u00a2 Managing changes to requirements and baseline through a change control process \\u00e2\\u0080\\u00a2 Utilizing standard methods, design and testing tools throughout project development life cycle \\u00e2\\u0080\\u00a2 Work closely with the operational functional teams, operations management, and personnel, and various technology teams to facilitate a shared understanding of requirements and priorities across all areas\\r\\ncompany - Eduavenir IT Solution\\r\\ndescription - Project: M.B.M.S\\r\\n\\r\\nM.B.M.S. - is an Inventory management application that allows user to manage inventory details of different warehouses, having different products located at various locations and help extract what goods have been procured, sold or returned by customers. It generates automated invoicesalong withcustomized reports. It also managescustomer complaint and resolution system implementation along with automated MIS on monthly basis.Sales and forecastingis also developed on MIS System and the streamlining of process of warehousing and dispatch along with online proof of delivery management system (POD documentation) is generated.\\r\\n\\r\\nResponsibilities: \\u00e2\\u0080\\u00a2 Participate in requirement gathering discussion with client to understand the flow of business processes \\u00e2\\u0080\\u00a2 Analyze the requirements and determine the core processes, develop Process Documentation and ensure to stay up-to-date in conjunction with on-going changes \\u00e2\\u0080\\u00a2 Participate in process flow analysis and preparing BRD, SRS.\\r\\n\\u00e2\\u0080\\u00a2 Coordinating with developers, designers & operations teams for various nuances of the project, communicate the stakeholder requirements from requirement /enhancement to implementation and finally deliver the same within estimated timeframe.\\r\\n\\u00e2\\u0080\\u00a2 Support UAT by reviewing test cases, manage version control of documents, software builds.\\r\\n\\u00e2\\u0080\\u00a2 Coordinate with the stakeholders for UAT sign off and coordinate internally for production movement till Golive stage of the application.\\r\\n\\u00e2\\u0080\\u00a2 Provide demo and training to internal and end user using PowerPoint presentation.\\r\\n\\u00e2\\u0080\\u00a2 Resolving project functional &technical issues during UAT.\\r\\n\\u00e2\\u0080\\u00a2 Prioritizing the Production bugs and resolving the same within the estimated timeframe.\\r\\n\\u00e2\\u0080\\u00a2 Preparing Project Status Report and Production Bugs Status to all the stakeholders.\\r\\n\\u00e2\\u0080\\u00a2 Promoting and Networking for online trading platform.\\r\\n\\u00e2\\u0080\\u00a2 Designing query sheet for obtaining and comparison of quotes from various vendors.\\r\\n\\u00e2\\u0080\\u00a2 Development of product codes / material codes for inventory management (Master Data Management)\\r\\ncompany - CAPGEMINI Head Office\\r\\ndescription - Type: Mobile and Device Testing.       Duration: January 2014 - August 2014\\r\\n\\r\\nFollet - An application which takes an electronic request from the user for the books he requires from a particular follet store. This detailed information about books that will include the name of the book, its price, the date of the transaction and the parties involved which will then be sent to follet stores. User then create request for one or more books for a given date. This request is then processed further and user gets a mail of the date when he will be provided with that book.\\r\\n\\r\\nResponsibilities: \\u00e2\\u0080\\u00a2 Understanding the needs and business requirements.\\r\\n\\u00e2\\u0080\\u00a2 Preparing BRD, SRS by eliciting all the requirements from the client and SMEs \\u00e2\\u0080\\u00a2 Understanding the dependency of the modules in the system \\u00e2\\u0080\\u00a2 Preparation of test plan for Unit level and Integration level.\\r\\n\\u00e2\\u0080\\u00a2 Preparation and execution of test cases.\\r\\n\\u00e2\\u0080\\u00a2 Defect tracking, Issue Resolution, Risk Monitoring, Status Tracking, Reporting and Follow-up.\\r\\n\\u00e2\\u0080\\u00a2 Preparation of Test Completion report.\\r\\ncompany - CAPGEMINI Head Office\\r\\ndescription - \\r\\ncompany - CAPGEMINI Head Office\\r\\ndescription - Humana is a health care insurance project of U.S. which deals with supplying various medicines to citizens as per the doctor's reference and patient's insurance policy. This application keeps track of all the medicines user has consumed in the past and generates a patient history. A citizen is given a drug only after the doctor's reference so the doctor's information is also linked with the patient's history.\\r\\n\\r\\nResponsibilities: \\u00e2\\u0080\\u00a2 Understanding the requirements and getting clarifications from client.\\r\\n\\u00e2\\u0080\\u00a2 Involved in writing test cases based on test scenarios and execute them.\\r\\n\\u00e2\\u0080\\u00a2 Ensuring Test Coverage using Requirement Traceability Matrix (RTM) \\u00e2\\u0080\\u00a2 Preparation of Test Completion report.\\r\\ncompany - CAPGEMINI Head Office\\r\\ndescription - Testing Trends WQR (World Quality Report) is an application which allows the users to take a survey on different methods and technologies used for testing. Users can choose to answer any type of questions under three different categories. Users have a facility to search, view and export the data to excel. Also, users get daily and weekly reports through email about the new trends in testing implemented around the globe. Testing Trends WQR app is available on Android and IOS platforms.\\r\\n\\r\\nResponsibilities: \\u00e2\\u0080\\u00a2 Understanding the requirements and getting clarifications from client.\\r\\n\\u00e2\\u0080\\u00a2 Writing test cases based on test scenarios and executed them.\\r\\n\\u00e2\\u0080\\u00a2 Performing different types of testing such as Functional, Integration, System, and UAT.\\r\\n\\u00e2\\u0080\\u00a2 Defect resolution and maintenance of the application.\"\n        ],\n        \"semantic_type\": \"\",\n        \"description\": \"\"\n      }\n    }\n  ]\n}"
            }
          },
          "metadata": {},
          "execution_count": 4
        }
      ]
    },
    {
      "cell_type": "code",
      "source": [
        "data['Category'].unique()"
      ],
      "metadata": {
        "colab": {
          "base_uri": "https://localhost:8080/"
        },
        "id": "gjYRz5RUjd8o",
        "outputId": "c2ed84d4-77bf-4870-81bf-e603432e4de1"
      },
      "execution_count": null,
      "outputs": [
        {
          "output_type": "execute_result",
          "data": {
            "text/plain": [
              "array(['Data Science', 'HR', 'Advocate', 'Arts', 'Web Designing',\n",
              "       'Mechanical Engineer', 'Sales', 'Health and fitness',\n",
              "       'Civil Engineer', 'Java Developer', 'Business Analyst',\n",
              "       'SAP Developer', 'Automation Testing', 'Electrical Engineering',\n",
              "       'Operations Manager', 'Python Developer', 'DevOps Engineer',\n",
              "       'Network Security Engineer', 'PMO', 'Database', 'Hadoop',\n",
              "       'ETL Developer', 'DotNet Developer', 'Blockchain', 'Testing'],\n",
              "      dtype=object)"
            ]
          },
          "metadata": {},
          "execution_count": 5
        }
      ]
    },
    {
      "cell_type": "code",
      "source": [
        "# Displaying the number of distinct categories of resume\n",
        "# YOUR CODE HERE\n",
        "data['Category'].nunique()"
      ],
      "metadata": {
        "id": "hcvr3-nQn1PN",
        "colab": {
          "base_uri": "https://localhost:8080/"
        },
        "outputId": "2891f17d-a684-474d-e4e5-a6b00ec31a1d"
      },
      "execution_count": null,
      "outputs": [
        {
          "output_type": "execute_result",
          "data": {
            "text/plain": [
              "25"
            ]
          },
          "metadata": {},
          "execution_count": 6
        }
      ]
    },
    {
      "cell_type": "code",
      "metadata": {
        "id": "YtIjY7ji9va5",
        "colab": {
          "base_uri": "https://localhost:8080/",
          "height": 899
        },
        "outputId": "397ee163-28af-4bcb-a0cb-ff7bbdb412d0"
      },
      "source": [
        "# Display the distinct categories of resume and the number of records belonging to each category\n",
        "# YOUR CODE HERE\n",
        "data['Category'].value_counts()"
      ],
      "execution_count": null,
      "outputs": [
        {
          "output_type": "execute_result",
          "data": {
            "text/plain": [
              "Category\n",
              "Java Developer               84\n",
              "Testing                      70\n",
              "DevOps Engineer              55\n",
              "Python Developer             48\n",
              "Web Designing                45\n",
              "HR                           44\n",
              "Hadoop                       42\n",
              "Blockchain                   40\n",
              "ETL Developer                40\n",
              "Operations Manager           40\n",
              "Data Science                 40\n",
              "Sales                        40\n",
              "Mechanical Engineer          40\n",
              "Arts                         36\n",
              "Database                     33\n",
              "Electrical Engineering       30\n",
              "Health and fitness           30\n",
              "PMO                          30\n",
              "Business Analyst             28\n",
              "DotNet Developer             28\n",
              "Automation Testing           26\n",
              "Network Security Engineer    25\n",
              "SAP Developer                24\n",
              "Civil Engineer               24\n",
              "Advocate                     20\n",
              "Name: count, dtype: int64"
            ],
            "text/html": [
              "<div>\n",
              "<style scoped>\n",
              "    .dataframe tbody tr th:only-of-type {\n",
              "        vertical-align: middle;\n",
              "    }\n",
              "\n",
              "    .dataframe tbody tr th {\n",
              "        vertical-align: top;\n",
              "    }\n",
              "\n",
              "    .dataframe thead th {\n",
              "        text-align: right;\n",
              "    }\n",
              "</style>\n",
              "<table border=\"1\" class=\"dataframe\">\n",
              "  <thead>\n",
              "    <tr style=\"text-align: right;\">\n",
              "      <th></th>\n",
              "      <th>count</th>\n",
              "    </tr>\n",
              "    <tr>\n",
              "      <th>Category</th>\n",
              "      <th></th>\n",
              "    </tr>\n",
              "  </thead>\n",
              "  <tbody>\n",
              "    <tr>\n",
              "      <th>Java Developer</th>\n",
              "      <td>84</td>\n",
              "    </tr>\n",
              "    <tr>\n",
              "      <th>Testing</th>\n",
              "      <td>70</td>\n",
              "    </tr>\n",
              "    <tr>\n",
              "      <th>DevOps Engineer</th>\n",
              "      <td>55</td>\n",
              "    </tr>\n",
              "    <tr>\n",
              "      <th>Python Developer</th>\n",
              "      <td>48</td>\n",
              "    </tr>\n",
              "    <tr>\n",
              "      <th>Web Designing</th>\n",
              "      <td>45</td>\n",
              "    </tr>\n",
              "    <tr>\n",
              "      <th>HR</th>\n",
              "      <td>44</td>\n",
              "    </tr>\n",
              "    <tr>\n",
              "      <th>Hadoop</th>\n",
              "      <td>42</td>\n",
              "    </tr>\n",
              "    <tr>\n",
              "      <th>Blockchain</th>\n",
              "      <td>40</td>\n",
              "    </tr>\n",
              "    <tr>\n",
              "      <th>ETL Developer</th>\n",
              "      <td>40</td>\n",
              "    </tr>\n",
              "    <tr>\n",
              "      <th>Operations Manager</th>\n",
              "      <td>40</td>\n",
              "    </tr>\n",
              "    <tr>\n",
              "      <th>Data Science</th>\n",
              "      <td>40</td>\n",
              "    </tr>\n",
              "    <tr>\n",
              "      <th>Sales</th>\n",
              "      <td>40</td>\n",
              "    </tr>\n",
              "    <tr>\n",
              "      <th>Mechanical Engineer</th>\n",
              "      <td>40</td>\n",
              "    </tr>\n",
              "    <tr>\n",
              "      <th>Arts</th>\n",
              "      <td>36</td>\n",
              "    </tr>\n",
              "    <tr>\n",
              "      <th>Database</th>\n",
              "      <td>33</td>\n",
              "    </tr>\n",
              "    <tr>\n",
              "      <th>Electrical Engineering</th>\n",
              "      <td>30</td>\n",
              "    </tr>\n",
              "    <tr>\n",
              "      <th>Health and fitness</th>\n",
              "      <td>30</td>\n",
              "    </tr>\n",
              "    <tr>\n",
              "      <th>PMO</th>\n",
              "      <td>30</td>\n",
              "    </tr>\n",
              "    <tr>\n",
              "      <th>Business Analyst</th>\n",
              "      <td>28</td>\n",
              "    </tr>\n",
              "    <tr>\n",
              "      <th>DotNet Developer</th>\n",
              "      <td>28</td>\n",
              "    </tr>\n",
              "    <tr>\n",
              "      <th>Automation Testing</th>\n",
              "      <td>26</td>\n",
              "    </tr>\n",
              "    <tr>\n",
              "      <th>Network Security Engineer</th>\n",
              "      <td>25</td>\n",
              "    </tr>\n",
              "    <tr>\n",
              "      <th>SAP Developer</th>\n",
              "      <td>24</td>\n",
              "    </tr>\n",
              "    <tr>\n",
              "      <th>Civil Engineer</th>\n",
              "      <td>24</td>\n",
              "    </tr>\n",
              "    <tr>\n",
              "      <th>Advocate</th>\n",
              "      <td>20</td>\n",
              "    </tr>\n",
              "  </tbody>\n",
              "</table>\n",
              "</div><br><label><b>dtype:</b> int64</label>"
            ]
          },
          "metadata": {},
          "execution_count": 7
        }
      ]
    },
    {
      "cell_type": "markdown",
      "metadata": {
        "id": "kpHv50ojzvO5"
      },
      "source": [
        "**Exercise 3: Create the count plot of different categories [0.5 Mark]**\n",
        "\n",
        "**Hint:** Use `sns.countplot()`"
      ]
    },
    {
      "cell_type": "code",
      "metadata": {
        "id": "zYwrK_5f93gP",
        "colab": {
          "base_uri": "https://localhost:8080/",
          "height": 449
        },
        "outputId": "f40c4195-4835-48ca-e895-5cb608f603f2"
      },
      "source": [
        "# YOUR CODE HERE\n",
        "sns.countplot(data['Category'])\n",
        "plt.show()"
      ],
      "execution_count": null,
      "outputs": [
        {
          "output_type": "display_data",
          "data": {
            "text/plain": [
              "<Figure size 640x480 with 1 Axes>"
            ],
            "image/png": "[encoded data removed]"
          },
          "metadata": {}
        }
      ]
    },
    {
      "cell_type": "markdown",
      "metadata": {
        "id": "VyXtz0Mr0NVB"
      },
      "source": [
        "**Exercise 4: Create a pie plot depicting the percentage of resume distributions category-wise. [0.5 mark]**\n",
        "\n",
        "**Hint:** Use [plt.pie()](https://matplotlib.org/stable/api/_as_gen/matplotlib.pyplot.pie.html) and [plt.get_cmap](https://matplotlib.org/stable/tutorials/colors/colormaps.html) for color mapping the pie chart."
      ]
    },
    {
      "cell_type": "code",
      "metadata": {
        "id": "qrpJDoGx-CuF",
        "colab": {
          "base_uri": "https://localhost:8080/",
          "height": 1000
        },
        "outputId": "f12ed6b6-513c-4b58-d09c-add2258b59c6"
      },
      "source": [
        "targetCounts = data['Category'].value_counts()\n",
        "targetLabels  = targetCounts.index\n",
        "# Make square figures and axes\n",
        "plt.figure(1, figsize=(25,25))\n",
        "the_grid = GridSpec(2, 2)\n",
        "\n",
        "# YOUR CODE HERE to display pie chart with color coding (eg. `coolwarm`)\n",
        "plt.pie(targetCounts, labels=targetLabels)\n",
        "plt.get_cmap('coolwarm')\n",
        "plt.show()"
      ],
      "execution_count": null,
      "outputs": [
        {
          "output_type": "display_data",
          "data": {
            "text/plain": [
              "<Figure size 2500x2500 with 1 Axes>"
            ],
            "image/png": "[encoded data removed]"
          },
          "metadata": {}
        }
      ]
    },
    {
      "cell_type": "markdown",
      "metadata": {
        "id": "KJaznteJ1xr4"
      },
      "source": [
        "**Exercise 5: Convert all the `Resume` text to lower case and remove trailing spaces [0.5 Mark]**\n",
        "\n",
        "\n"
      ]
    },
    {
      "cell_type": "code",
      "metadata": {
        "id": "tf1wNRqb-Om2"
      },
      "source": [
        "# Convert all characters to lowercase and remove trailing spaces\n",
        "# YOUR CODE HERE\n",
        "data['Resume']=data['Resume'].str.lower()\n",
        "data['Resume'] = data['Resume'].str.strip()"
      ],
      "execution_count": null,
      "outputs": []
    },
    {
      "cell_type": "code",
      "source": [
        "data.head(2)"
      ],
      "metadata": {
        "colab": {
          "base_uri": "https://localhost:8080/",
          "height": 112
        },
        "id": "K0ipMjwZmgYr",
        "outputId": "bc98e94e-5940-4ac1-938c-f59649f8f2cd"
      },
      "execution_count": null,
      "outputs": [
        {
          "output_type": "execute_result",
          "data": {
            "text/plain": [
              "       Category                                             Resume\n",
              "0  Data Science  skills * programming languages: python (pandas...\n",
              "1  Data Science  education details \\r\\nmay 2013 to may 2017 b.e..."
            ],
            "text/html": [
              "\n",
              "  <div id=\"df-d39e48ee-cd4d-4029-a96e-00b7893078d1\" class=\"colab-df-container\">\n",
              "    <div>\n",
              "<style scoped>\n",
              "    .dataframe tbody tr th:only-of-type {\n",
              "        vertical-align: middle;\n",
              "    }\n",
              "\n",
              "    .dataframe tbody tr th {\n",
              "        vertical-align: top;\n",
              "    }\n",
              "\n",
              "    .dataframe thead th {\n",
              "        text-align: right;\n",
              "    }\n",
              "</style>\n",
              "<table border=\"1\" class=\"dataframe\">\n",
              "  <thead>\n",
              "    <tr style=\"text-align: right;\">\n",
              "      <th></th>\n",
              "      <th>Category</th>\n",
              "      <th>Resume</th>\n",
              "    </tr>\n",
              "  </thead>\n",
              "  <tbody>\n",
              "    <tr>\n",
              "      <th>0</th>\n",
              "      <td>Data Science</td>\n",
              "      <td>skills * programming languages: python (pandas...</td>\n",
              "    </tr>\n",
              "    <tr>\n",
              "      <th>1</th>\n",
              "      <td>Data Science</td>\n",
              "      <td>education details \\r\\nmay 2013 to may 2017 b.e...</td>\n",
              "    </tr>\n",
              "  </tbody>\n",
              "</table>\n",
              "</div>\n",
              "    <div class=\"colab-df-buttons\">\n",
              "\n",
              "  <div class=\"colab-df-container\">\n",
              "    <button class=\"colab-df-convert\" onclick=\"convertToInteractive('df-d39e48ee-cd4d-4029-a96e-00b7893078d1')\"\n",
              "            title=\"Convert this dataframe to an interactive table.\"\n",
              "            style=\"display:none;\">\n",
              "\n",
              "  <svg xmlns=\"http://www.w3.org/2000/svg\" height=\"24px\" viewBox=\"0 -960 960 960\">\n",
              "    <path d=\"M120-120v-720h720v720H120Zm60-500h600v-160H180v160Zm220 220h160v-160H400v160Zm0 220h160v-160H400v160ZM180-400h160v-160H180v160Zm440 0h160v-160H620v160ZM180-180h160v-160H180v160Zm440 0h160v-160H620v160Z\"/>\n",
              "  </svg>\n",
              "    </button>\n",
              "\n",
              "  <style>\n",
              "    .colab-df-container {\n",
              "      display:flex;\n",
              "      gap: 12px;\n",
              "    }\n",
              "\n",
              "    .colab-df-convert {\n",
              "      background-color: #E8F0FE;\n",
              "      border: none;\n",
              "      border-radius: 50%;\n",
              "      cursor: pointer;\n",
              "      display: none;\n",
              "      fill: #1967D2;\n",
              "      height: 32px;\n",
              "      padding: 0 0 0 0;\n",
              "      width: 32px;\n",
              "    }\n",
              "\n",
              "    .colab-df-convert:hover {\n",
              "      background-color: #E2EBFA;\n",
              "      box-shadow: 0px 1px 2px rgba(60, 64, 67, 0.3), 0px 1px 3px 1px rgba(60, 64, 67, 0.15);\n",
              "      fill: #174EA6;\n",
              "    }\n",
              "\n",
              "    .colab-df-buttons div {\n",
              "      margin-bottom: 4px;\n",
              "    }\n",
              "\n",
              "    [theme=dark] .colab-df-convert {\n",
              "      background-color: #3B4455;\n",
              "      fill: #D2E3FC;\n",
              "    }\n",
              "\n",
              "    [theme=dark] .colab-df-convert:hover {\n",
              "      background-color: #434B5C;\n",
              "      box-shadow: 0px 1px 3px 1px rgba(0, 0, 0, 0.15);\n",
              "      filter: drop-shadow(0px 1px 2px rgba(0, 0, 0, 0.3));\n",
              "      fill: #FFFFFF;\n",
              "    }\n",
              "  </style>\n",
              "\n",
              "    <script>\n",
              "      const buttonEl =\n",
              "        document.querySelector('#df-d39e48ee-cd4d-4029-a96e-00b7893078d1 button.colab-df-convert');\n",
              "      buttonEl.style.display =\n",
              "        google.colab.kernel.accessAllowed ? 'block' : 'none';\n",
              "\n",
              "      async function convertToInteractive(key) {\n",
              "        const element = document.querySelector('#df-d39e48ee-cd4d-4029-a96e-00b7893078d1');\n",
              "        const dataTable =\n",
              "          await google.colab.kernel.invokeFunction('convertToInteractive',\n",
              "                                                    [key], {});\n",
              "        if (!dataTable) return;\n",
              "\n",
              "        const docLinkHtml = 'Like what you see? Visit the ' +\n",
              "          '<a target=\"_blank\" href=https://colab.research.google.com/notebooks/data_table.ipynb>data table notebook</a>'\n",
              "          + ' to learn more about interactive tables.';\n",
              "        element.innerHTML = '';\n",
              "        dataTable['output_type'] = 'display_data';\n",
              "        await google.colab.output.renderOutput(dataTable, element);\n",
              "        const docLink = document.createElement('div');\n",
              "        docLink.innerHTML = docLinkHtml;\n",
              "        element.appendChild(docLink);\n",
              "      }\n",
              "    </script>\n",
              "  </div>\n",
              "\n",
              "\n",
              "<div id=\"df-366fbc65-a61b-4844-98fe-8abefa141999\">\n",
              "  <button class=\"colab-df-quickchart\" onclick=\"quickchart('df-366fbc65-a61b-4844-98fe-8abefa141999')\"\n",
              "            title=\"Suggest charts\"\n",
              "            style=\"display:none;\">\n",
              "\n",
              "<svg xmlns=\"http://www.w3.org/2000/svg\" height=\"24px\"viewBox=\"0 0 24 24\"\n",
              "     width=\"24px\">\n",
              "    <g>\n",
              "        <path d=\"M19 3H5c-1.1 0-2 .9-2 2v14c0 1.1.9 2 2 2h14c1.1 0 2-.9 2-2V5c0-1.1-.9-2-2-2zM9 17H7v-7h2v7zm4 0h-2V7h2v10zm4 0h-2v-4h2v4z\"/>\n",
              "    </g>\n",
              "</svg>\n",
              "  </button>\n",
              "\n",
              "<style>\n",
              "  .colab-df-quickchart {\n",
              "      --bg-color: #E8F0FE;\n",
              "      --fill-color: #1967D2;\n",
              "      --hover-bg-color: #E2EBFA;\n",
              "      --hover-fill-color: #174EA6;\n",
              "      --disabled-fill-color: #AAA;\n",
              "      --disabled-bg-color: #DDD;\n",
              "  }\n",
              "\n",
              "  [theme=dark] .colab-df-quickchart {\n",
              "      --bg-color: #3B4455;\n",
              "      --fill-color: #D2E3FC;\n",
              "      --hover-bg-color: #434B5C;\n",
              "      --hover-fill-color: #FFFFFF;\n",
              "      --disabled-bg-color: #3B4455;\n",
              "      --disabled-fill-color: #666;\n",
              "  }\n",
              "\n",
              "  .colab-df-quickchart {\n",
              "    background-color: var(--bg-color);\n",
              "    border: none;\n",
              "    border-radius: 50%;\n",
              "    cursor: pointer;\n",
              "    display: none;\n",
              "    fill: var(--fill-color);\n",
              "    height: 32px;\n",
              "    padding: 0;\n",
              "    width: 32px;\n",
              "  }\n",
              "\n",
              "  .colab-df-quickchart:hover {\n",
              "    background-color: var(--hover-bg-color);\n",
              "    box-shadow: 0 1px 2px rgba(60, 64, 67, 0.3), 0 1px 3px 1px rgba(60, 64, 67, 0.15);\n",
              "    fill: var(--button-hover-fill-color);\n",
              "  }\n",
              "\n",
              "  .colab-df-quickchart-complete:disabled,\n",
              "  .colab-df-quickchart-complete:disabled:hover {\n",
              "    background-color: var(--disabled-bg-color);\n",
              "    fill: var(--disabled-fill-color);\n",
              "    box-shadow: none;\n",
              "  }\n",
              "\n",
              "  .colab-df-spinner {\n",
              "    border: 2px solid var(--fill-color);\n",
              "    border-color: transparent;\n",
              "    border-bottom-color: var(--fill-color);\n",
              "    animation:\n",
              "      spin 1s steps(1) infinite;\n",
              "  }\n",
              "\n",
              "  @keyframes spin {\n",
              "    0% {\n",
              "      border-color: transparent;\n",
              "      border-bottom-color: var(--fill-color);\n",
              "      border-left-color: var(--fill-color);\n",
              "    }\n",
              "    20% {\n",
              "      border-color: transparent;\n",
              "      border-left-color: var(--fill-color);\n",
              "      border-top-color: var(--fill-color);\n",
              "    }\n",
              "    30% {\n",
              "      border-color: transparent;\n",
              "      border-left-color: var(--fill-color);\n",
              "      border-top-color: var(--fill-color);\n",
              "      border-right-color: var(--fill-color);\n",
              "    }\n",
              "    40% {\n",
              "      border-color: transparent;\n",
              "      border-right-color: var(--fill-color);\n",
              "      border-top-color: var(--fill-color);\n",
              "    }\n",
              "    60% {\n",
              "      border-color: transparent;\n",
              "      border-right-color: var(--fill-color);\n",
              "    }\n",
              "    80% {\n",
              "      border-color: transparent;\n",
              "      border-right-color: var(--fill-color);\n",
              "      border-bottom-color: var(--fill-color);\n",
              "    }\n",
              "    90% {\n",
              "      border-color: transparent;\n",
              "      border-bottom-color: var(--fill-color);\n",
              "    }\n",
              "  }\n",
              "</style>\n",
              "\n",
              "  <script>\n",
              "    async function quickchart(key) {\n",
              "      const quickchartButtonEl =\n",
              "        document.querySelector('#' + key + ' button');\n",
              "      quickchartButtonEl.disabled = true;  // To prevent multiple clicks.\n",
              "      quickchartButtonEl.classList.add('colab-df-spinner');\n",
              "      try {\n",
              "        const charts = await google.colab.kernel.invokeFunction(\n",
              "            'suggestCharts', [key], {});\n",
              "      } catch (error) {\n",
              "        console.error('Error during call to suggestCharts:', error);\n",
              "      }\n",
              "      quickchartButtonEl.classList.remove('colab-df-spinner');\n",
              "      quickchartButtonEl.classList.add('colab-df-quickchart-complete');\n",
              "    }\n",
              "    (() => {\n",
              "      let quickchartButtonEl =\n",
              "        document.querySelector('#df-366fbc65-a61b-4844-98fe-8abefa141999 button');\n",
              "      quickchartButtonEl.style.display =\n",
              "        google.colab.kernel.accessAllowed ? 'block' : 'none';\n",
              "    })();\n",
              "  </script>\n",
              "</div>\n",
              "\n",
              "    </div>\n",
              "  </div>\n"
            ],
            "application/vnd.google.colaboratory.intrinsic+json": {
              "type": "dataframe",
              "variable_name": "data",
              "summary": "{\n  \"name\": \"data\",\n  \"rows\": 962,\n  \"fields\": [\n    {\n      \"column\": \"Category\",\n      \"properties\": {\n        \"dtype\": \"category\",\n        \"num_unique_values\": 25,\n        \"samples\": [\n          \"Civil Engineer\",\n          \"DevOps Engineer\",\n          \"Data Science\"\n        ],\n        \"semantic_type\": \"\",\n        \"description\": \"\"\n      }\n    },\n    {\n      \"column\": \"Resume\",\n      \"properties\": {\n        \"dtype\": \"category\",\n        \"num_unique_values\": 166,\n        \"samples\": [\n          \"key competencies \\u00e2\\u009c\\u00b6multi - operations management\\u00e2\\u009c\\u00b6people management \\u00e2\\u009c\\u00b6customer services - emails \\u00e2\\u009c\\u00b6 mis \\u00e2\\u009c\\u00b6vendor & client services management\\u00e2\\u009c\\u00b6cross functional coordination\\u00e2\\u009c\\u00b6banking & financial services\\u00e2\\u009c\\u00b6 transaction monitoring * atm operations \\u00e2\\u009c\\u00b6 & prepaid card operations (pre-issuance & post-issuance) \\u00e2\\u009c\\u00b6 pos operations * job profile & skills: \\u00e2\\u0080\\u00a2 an effective communicator with excellent relationship building & interpersonal skills. strong analytical, problem solving & organizational abilities. \\u00e2\\u0080\\u00a2 extensive experience in managing operations with demonstrated leadership qualities & organisational skills during the tenure. \\u00e2\\u0080\\u00a2 managing customer centric operations & ensuring customer satisfaction by achieving service quality norms. \\u00e2\\u0080\\u00a2 analyzing of all operational problems, customer complaints and take preventive and corrective actions to resolve the same. \\u00e2\\u0080\\u00a2 receive and respond to key customer inquiries in an effective manner and provide relevant and timely information. \\u00e2\\u0080\\u00a2 deft in steering banking back-end operations, analyzing risks and managing delinquencies with dexterity across applying techniques for maximizing recoveries and minimizing credit losses. \\u00e2\\u0080\\u00a2 analyzed & identified training needs of the team members and developing, organizing and conducting training programs and manage bottom quartile team to improve their performance. \\u00e2\\u0080\\u00a2 preparing and maintaining daily mis reports to evaluate the performance and efficiency of the process relate to various verticals. \\u00e2\\u0080\\u00a2 measuring the performance of the processes in terms of efficiency and effectiveness matrix and ensuring adherence to sla. \\u00e2\\u0080\\u00a2 major activities define processes for field services were monitored and necessary checks were executed and controlled. also measured vendor sla by analyzing the tat of vendors & the client sla provided to us. \\u00e2\\u0080\\u00a2 as per company procedures, handling & ensuring vendor's payment issues to be sorted out &payments are processed on quarterly basis. \\u00e2\\u0080\\u00a2 appropriately plan and execute each skill of operations in accordance with the department's policies and procedures. \\u00e2\\u0080\\u00a2 manage relationships with business team, software development team and other services to achieve project objectives. different software worked till now: - a. ctl prime - axis bank credit cards b. insight - for pos machine technical operations for amex (mid & tid generation- atos (venture infotek) c. ticket management system - tata communications private services ltd (atm - noc operations) d. branch portal (yalamanchili software exports ltd) - prepaid cards (sbi bank & zaggle prepaid oceans services ltd) zaggle prepaid ocean services pvt ltd oct, 2017 to till date designation: manager - operations (payment industry - prepaid cards - inr) education details \\r\\n  commerce mumbai, maharashtra mumbai university\\r\\noperations manager \\r\\n\\r\\nservice manager - operations (payment industry - prepaid cards - inr & ftc)\\r\\nskill details \\r\\noperations- exprience - 73 months\\r\\nsatisfaction- exprience - 48 months\\r\\ntraining- exprience - 24 months\\r\\nnoc- exprience - 23 months\\r\\npoint of sale- exprience - 20 monthscompany details \\r\\ncompany - zaggle prepaid ocean services pvt ltd\\r\\ndescription - card operations\\r\\ncompany - yalamanchili software exports ltd\\r\\ndescription - 24*7 operations pvt ltd) dec 2015 to feb 2017\\r\\n\\r\\ndesignation: service manager - operations (payment industry - prepaid cards - inr & ftc)\\r\\n\\r\\nkey contributions: \\u00e2\\u0080\\u00a2 a result-oriented business professional in planning, executing& managing processes, improving efficiency of operations, team building and detailing process information to determine effective result into operations.\\r\\n\\u00e2\\u0080\\u00a2 ensuring pins generation (sla) is maintained and chargeback cases are raised in perfect timeframe.\\r\\n\\u00e2\\u0080\\u00a2 managing email customer services properly and ensuring the emails are replied properly. also, ensuring transaction monitoring is properly managed 24/7.\\r\\n\\u00e2\\u0080\\u00a2 assisting bankers (sbi & associated banks) for their bcp plans by getting executed in the system with the help of dr-pr plans & vice versa or any other business requirements.\\r\\n\\u00e2\\u0080\\u00a2 expertise in maintaining highest level of quality in operations; ensuring adherence to all the quality parameters and procedures as per the stringent norms.\\r\\n\\u00e2\\u0080\\u00a2 lead, manage and supervise the execution of external audit engagements and responsible for presenting the findings & developing a quality reports to the senior management and clients.\\r\\n\\u00e2\\u0080\\u00a2 coach/mentor (20) team members to perform at a higher level by giving opportunities, providing timely continuous feedback and working with staff to improve their communication, time management, decision making, organization, and analytical skills.\\r\\n\\u00e2\\u0080\\u00a2 providing the solutions and services to the client in their own premises with aforesaid count of team members.\\r\\n\\u00e2\\u0080\\u00a2 also ensuring end to end process of pr & dr as per client requirements (pr- dr & dr -pr) by interacting with internal & external stakeholders.\\r\\n\\u00e2\\u0080\\u00a2 determining process gaps and designing & conducting training programs to enhance operational efficiency and retain talent by providing optimum opportunities for personal and professional growth.\\r\\ncompany - credit cards\\r\\ndescription - ensured highest standard of customer satisfaction and quality service; developing new policies and procedures to improve based on customer feedback and resolving customer queries via correspondence, inbound calls & email channels with the strength of (12-16) team members.\\r\\ncompany - ags transact technologies limited\\r\\ndescription - key contributions: lead - spoc to banks\\r\\ncompany - tata communications payment solutions ltd\\r\\ndescription - to make atms operational within tat by analyzing the issue is technical or non-technical and also by interacting with internal & external stakeholders.\\r\\ncompany - vertex customer solutions india private ltd\\r\\ndescription - key contributions: \\u00e2\\u0080\\u00a2 build positive working relationship with all team members and clients by keeping management informed   of kyc document collection & con-current audit progress, responding timely to management inquiries, understanding the business and conducting self professionally.\\r\\ncompany - financial inclusion network & operations limited\\r\\ndescription - key contributions: pos-operations \\u00e2\\u0080\\u00a2 cascading the adherence of process is strictly followed by team members & training them to reduce the downtime.\\r\\n\\u00e2\\u0080\\u00a2 managing stock of edc terminals \\u00e2\\u0080\\u00a2 managing deployments of terminals through multiple teams \\u00e2\\u0080\\u00a2 would have worked with multiple terminal make & model \\u00e2\\u0080\\u00a2 managing inward, outward & qc of applications installed in the pos machines.\\r\\ncompany - venture infotek private ltd\\r\\ndescription - key contributions: pos-operations\\r\\ncompany - axis bank ltd - customer services\\r\\ndescription - aug 2006 to oct 2009 (ma-foi&i- smart)\\r\\n\\r\\ndesignation: team leader/executive - emails, phone banking & correspondence unit (snail mails)\",\n          \"skill set: hadoop, map reduce, hdfs, hive, sqoop, java. duration: 2016 to 2017. role: hadoop developer rplus offers an quick, simple and powerful cloud based solution, demand sense to accurately predict demand for your product in all your markets which combines enterprise and external data to predict demand more accurately through uses social conversation and sentiments to derive demand and identifies significant drivers of sale out of hordes of factors that selects the best suited model out of multiple forecasting models for each product. responsibilities: \\u00e2\\u0080\\u00a2 involved in deploying the product for customers, gathering requirements and algorithm optimization at backend of the product. \\u00e2\\u0080\\u00a2 load and transform large datasets of structured semi structured. \\u00e2\\u0080\\u00a2 responsible to manage data coming from different sources and application \\u00e2\\u0080\\u00a2 supported map reduce programs those are running on the cluster \\u00e2\\u0080\\u00a2 involved in creating hive tables, loading with data and writing hive queries which will run internally in map reduce way.education details \\r\\n\\r\\nhadoop developer \\r\\n\\r\\nhadoop developer - braindatawire\\r\\nskill details \\r\\napache hadoop hdfs- exprience - 49 months\\r\\napache hadoop sqoop- exprience - 49 months\\r\\nhadoop- exprience - 49 months\\r\\nhadoop- exprience - 49 months\\r\\nhadoop distributed file system- exprience - 49 monthscompany details \\r\\ncompany - braindatawire\\r\\ndescription - technical skills:\\r\\n\\u00e2\\u0080\\u00a2   programming: core java, map reduce, scala\\r\\n\\u00e2\\u0080\\u00a2   hadoop tools: hdfs, spark, map reduce, sqoop, hive, hbase\\r\\n\\u00e2\\u0080\\u00a2   database: mysql, oracle\\r\\n\\u00e2\\u0080\\u00a2   scripting: shell scripting\\r\\n\\u00e2\\u0080\\u00a2   ide: eclipse\\r\\n\\u00e2\\u0080\\u00a2   operating systems: linux (centos), windows\\r\\n\\u00e2\\u0080\\u00a2   source control: git (github)\",\n          \"it skills: area exposure modeling tool: bizagi, ms visio prototyping tool: indigo studio. documentation: ms office (ms word, ms excel, ms power point) testing proficiency: smoke, sanity, integration, functional, acceptance and ui methodology implemented: waterfall, agile (scrum) database: sql testing tool: hpqc business exposure education details \\r\\n bachelor of computer engineering computer engineering mumbai, maharashtra thadomal shahani engineering college\\r\\n diploma computer engineering ulhasnagar, maharashtra institute of technology\\r\\n secondary school certificate  ulhasnagar, maharashtra new english high school\\r\\nsenior business analyst - rpa \\r\\n\\r\\nsenior business analyst - rpa - hexaware technologies\\r\\nskill details \\r\\ndocumentation- exprience - 47 months\\r\\ntesting- exprience - 29 months\\r\\nintegration- exprience - 25 months\\r\\nintegrator- exprience - 25 months\\r\\nprototype- exprience - 13 monthscompany details \\r\\ncompany - hexaware technologies\\r\\ndescription - working as a rpa business analyst\\r\\ncompany - bbh- brown brothers harriman & co\\r\\ndescription - is a private bank that provides commercial banking, investment management, brokerage, and trust services to private companies and individuals. it also performs merger advisory, foreign exchange, custody services, commercial banking, and corporate financing services.\\r\\n\\r\\nresponsibilities: \\u00e2\\u0080\\u00a2 performed automation assessment of various processes and identified processes which can be candidates of rpa.\\r\\n\\u00e2\\u0080\\u00a2 conducting assessment that involves an initial understanding of the existing system, their technology, processes, usage of the tools, feasibility of tool with automation tool along with automation roi analysis.\\r\\n\\u00e2\\u0080\\u00a2 preparing the automation potential sheet which describes the steps in the process, the volume and frequency of the transaction, the aht taken by sme to perform the process and depending on the steps that could be automated, automation potential and the manual efforts that will be saved are calculated.\\r\\ncalculating the complexity of the process which is considered for automation and depending on all these factors number of bots and number of automation tool licenses are determined.\\r\\n\\u00e2\\u0080\\u00a2 implementing a proof of concept (poc) to validate feasibility by executing the selected critical use cases for conducting a poc which will helps to identify financial and operational benefits and provide recommendations regarding the actual need for complete automation.\\r\\n\\u00e2\\u0080\\u00a2 gathering business requirements by conducting detailed interviews with business users, stakeholders, and subject matter experts (sme's) \\u00e2\\u0080\\u00a2 preparing business requirement document and then converted business requirements into functional requirements specification.\\r\\n \\u00e2\\u0080\\u00a2 constructing prototype early toward a design acceptable to the customer and feasible.\\r\\n\\u00e2\\u0080\\u00a2 assisting in designing test plans, test scenarios and test cases for integration, regression, and user acceptance testing (uat) to improve the overall quality of the automation.\\r\\n\\u00e2\\u0080\\u00a2 participating regularly in walkthroughs and review meetings with project manager, qa engineers, and development team.\\r\\n\\u00e2\\u0080\\u00a2 regularly interacting with offshore and onshore development teams.\\r\\ncompany - fadv - first advantage\\r\\ndescription - is a criminal background check company that delivers global solutions ranging from employment screenings to background checks.\\r\\nthe following are the processes which were covered:\\r\\nemail process, research process, review process.\\r\\n\\r\\nresponsibilities: \\u00e2\\u0080\\u00a2 requirement gathering through conducting interviews & brainstorming sessions with stakeholders \\u00e2\\u0080\\u00a2 to develop decision models and execute those rules as per the use case specifications.\\r\\n\\u00e2\\u0080\\u00a2 to test/validate the decision models against document test data.\\r\\n\\u00e2\\u0080\\u00a2 to maintain and enhance the decision models for changes in regulations as per use case specifications.\\r\\n\\u00e2\\u0080\\u00a2 responsible for performing the business research that will make a business growth.\\r\\n\\u00e2\\u0080\\u00a2 developing a clear understanding of existing business functions and processes.\\r\\n\\u00e2\\u0080\\u00a2 effectively communicate with the onsite clients for the queries, suggestions, and update.\\r\\n\\u00e2\\u0080\\u00a2 giving suggestions to enhance the current processes.\\r\\n\\u00e2\\u0080\\u00a2 identifying areas for process improvement.\\r\\n\\u00e2\\u0080\\u00a2 flagging up potential problems at an early stage.\\r\\n\\u00e2\\u0080\\u00a2 preparing powerpoint presentations and documents for business meetings.\\r\\n\\u00e2\\u0080\\u00a2 using any information gathered to write up detailed reports.\\r\\n\\u00e2\\u0080\\u00a2 highlighting risks and issues that could impact project delivery.\\r\\n\\u00e2\\u0080\\u00a2 able to work accurately.\\r\\n\\u00e2\\u0080\\u00a2 to develop and maintain documentation for internal team training and client end user operations.\\r\\n\\u00e2\\u0080\\u00a2 to work efficiently with team members and across teams.\\r\\n\\u00e2\\u0080\\u00a2 to mentor and train junior team members.\\r\\ncompany - clinical testing, lab work and diagnostic testing\\r\\ndescription - iqvia provides services to its customers this includes: clinical testing, lab work and diagnostic testing under clinical trial. these customers need to pay to iqvia and aging details and invoices are generated for the same.\\r\\nthe following are the processes which were covered:\\r\\n\\r\\ntracking payments, automated real time metrics reporting (dashboard), past due notifications, ar statements, credit/rebill.\\r\\nresponsibilities: \\u00e2\\u0080\\u00a2 conducting meetings with clients and key stakeholders to gather requirements, analyze, finalize and have formal sign-offs from approvers gather and perform analysis of the business requirements \\u00e2\\u0080\\u00a2 translating the business requirements into the business requirement document [brd], functional requirement document [frd].\\r\\n\\u00e2\\u0080\\u00a2 facilitating meetings with the appropriate subject matter experts in both business and technology teams \\u00e2\\u0080\\u00a2 coordinating with business user community for the execution of user acceptance test as well as tracking issues \\u00e2\\u0080\\u00a2 working, collaborating and coordinating with offshore and onsite team members to fulfill the ba responsibilities from project initiation to post-implementation \\u00e2\\u0080\\u00a2 reviewing the test scripts with business users as well as technology team. execute test scripts with expected results for the system integration test (sit) and user acceptance test (uat) \\u00e2\\u0080\\u00a2 coordinating and conducting the production acceptance testing (pat) with the business users \\u00e2\\u0080\\u00a2 creating flow diagrams, structure charts, and other types of system or process representations \\u00e2\\u0080\\u00a2 managing changes to requirements and baseline through a change control process \\u00e2\\u0080\\u00a2 utilizing standard methods, design and testing tools throughout project development life cycle \\u00e2\\u0080\\u00a2 work closely with the operational functional teams, operations management, and personnel, and various technology teams to facilitate a shared understanding of requirements and priorities across all areas\\r\\ncompany - eduavenir it solution\\r\\ndescription - project: m.b.m.s\\r\\n\\r\\nm.b.m.s. - is an inventory management application that allows user to manage inventory details of different warehouses, having different products located at various locations and help extract what goods have been procured, sold or returned by customers. it generates automated invoicesalong withcustomized reports. it also managescustomer complaint and resolution system implementation along with automated mis on monthly basis.sales and forecastingis also developed on mis system and the streamlining of process of warehousing and dispatch along with online proof of delivery management system (pod documentation) is generated.\\r\\n\\r\\nresponsibilities: \\u00e2\\u0080\\u00a2 participate in requirement gathering discussion with client to understand the flow of business processes \\u00e2\\u0080\\u00a2 analyze the requirements and determine the core processes, develop process documentation and ensure to stay up-to-date in conjunction with on-going changes \\u00e2\\u0080\\u00a2 participate in process flow analysis and preparing brd, srs.\\r\\n\\u00e2\\u0080\\u00a2 coordinating with developers, designers & operations teams for various nuances of the project, communicate the stakeholder requirements from requirement /enhancement to implementation and finally deliver the same within estimated timeframe.\\r\\n\\u00e2\\u0080\\u00a2 support uat by reviewing test cases, manage version control of documents, software builds.\\r\\n\\u00e2\\u0080\\u00a2 coordinate with the stakeholders for uat sign off and coordinate internally for production movement till golive stage of the application.\\r\\n\\u00e2\\u0080\\u00a2 provide demo and training to internal and end user using powerpoint presentation.\\r\\n\\u00e2\\u0080\\u00a2 resolving project functional &technical issues during uat.\\r\\n\\u00e2\\u0080\\u00a2 prioritizing the production bugs and resolving the same within the estimated timeframe.\\r\\n\\u00e2\\u0080\\u00a2 preparing project status report and production bugs status to all the stakeholders.\\r\\n\\u00e2\\u0080\\u00a2 promoting and networking for online trading platform.\\r\\n\\u00e2\\u0080\\u00a2 designing query sheet for obtaining and comparison of quotes from various vendors.\\r\\n\\u00e2\\u0080\\u00a2 development of product codes / material codes for inventory management (master data management)\\r\\ncompany - capgemini head office\\r\\ndescription - type: mobile and device testing.       duration: january 2014 - august 2014\\r\\n\\r\\nfollet - an application which takes an electronic request from the user for the books he requires from a particular follet store. this detailed information about books that will include the name of the book, its price, the date of the transaction and the parties involved which will then be sent to follet stores. user then create request for one or more books for a given date. this request is then processed further and user gets a mail of the date when he will be provided with that book.\\r\\n\\r\\nresponsibilities: \\u00e2\\u0080\\u00a2 understanding the needs and business requirements.\\r\\n\\u00e2\\u0080\\u00a2 preparing brd, srs by eliciting all the requirements from the client and smes \\u00e2\\u0080\\u00a2 understanding the dependency of the modules in the system \\u00e2\\u0080\\u00a2 preparation of test plan for unit level and integration level.\\r\\n\\u00e2\\u0080\\u00a2 preparation and execution of test cases.\\r\\n\\u00e2\\u0080\\u00a2 defect tracking, issue resolution, risk monitoring, status tracking, reporting and follow-up.\\r\\n\\u00e2\\u0080\\u00a2 preparation of test completion report.\\r\\ncompany - capgemini head office\\r\\ndescription - \\r\\ncompany - capgemini head office\\r\\ndescription - humana is a health care insurance project of u.s. which deals with supplying various medicines to citizens as per the doctor's reference and patient's insurance policy. this application keeps track of all the medicines user has consumed in the past and generates a patient history. a citizen is given a drug only after the doctor's reference so the doctor's information is also linked with the patient's history.\\r\\n\\r\\nresponsibilities: \\u00e2\\u0080\\u00a2 understanding the requirements and getting clarifications from client.\\r\\n\\u00e2\\u0080\\u00a2 involved in writing test cases based on test scenarios and execute them.\\r\\n\\u00e2\\u0080\\u00a2 ensuring test coverage using requirement traceability matrix (rtm) \\u00e2\\u0080\\u00a2 preparation of test completion report.\\r\\ncompany - capgemini head office\\r\\ndescription - testing trends wqr (world quality report) is an application which allows the users to take a survey on different methods and technologies used for testing. users can choose to answer any type of questions under three different categories. users have a facility to search, view and export the data to excel. also, users get daily and weekly reports through email about the new trends in testing implemented around the globe. testing trends wqr app is available on android and ios platforms.\\r\\n\\r\\nresponsibilities: \\u00e2\\u0080\\u00a2 understanding the requirements and getting clarifications from client.\\r\\n\\u00e2\\u0080\\u00a2 writing test cases based on test scenarios and executed them.\\r\\n\\u00e2\\u0080\\u00a2 performing different types of testing such as functional, integration, system, and uat.\\r\\n\\u00e2\\u0080\\u00a2 defect resolution and maintenance of the application.\"\n        ],\n        \"semantic_type\": \"\",\n        \"description\": \"\"\n      }\n    }\n  ]\n}"
            }
          },
          "metadata": {},
          "execution_count": 11
        }
      ]
    },
    {
      "cell_type": "markdown",
      "metadata": {
        "id": "8cBXmdXpDIQJ"
      },
      "source": [
        "### Cleaning Resume"
      ]
    },
    {
      "cell_type": "markdown",
      "metadata": {
        "id": "yvkRbRnM3ap7"
      },
      "source": [
        "**Exercise 6: Define a function to clean the resume text [2 Mark]**\n",
        "\n",
        "In the text there are special characters, urls, hashtags, mentions, etc. You need to remove for the following:  \n",
        "\n",
        "* URLs: For reference click [here](https://stackoverflow.com/questions/11331982/how-to-remove-any-url-within-a-string-in-python)\n",
        "* RT | cc: For reference click [here](https://www.machinelearningplus.com/python/python-regex-tutorial-examples/)\n",
        "* Hashtags, # and Mentions, @\n",
        "* punctuations\n",
        "* extra whitespace\n",
        "\n",
        "PS: Use the provided reference similarly for removing any other such elements.\n",
        "\n",
        "After cleaning as above, store the Resume Text in a separate column (New Feature say `Cleaned_Resume`).\n"
      ]
    },
    {
      "cell_type": "code",
      "source": [
        "import re\n",
        "import string"
      ],
      "metadata": {
        "id": "1i7G387yn25G"
      },
      "execution_count": null,
      "outputs": []
    },
    {
      "cell_type": "code",
      "metadata": {
        "id": "k9Z-Oois_LWE"
      },
      "source": [
        "import re\n",
        "def cleanResume(text):\n",
        "    text = re.sub(r'(@[A-Za-z0-9]+)', '', text)\n",
        "    text = re.sub(r'[^0-9A-Za-z \\t]', '', text)\n",
        "    text = re.sub(r'^https?:\\/\\/.*[\\r\\n]*', '', text, flags=re.MULTILINE)\n",
        "    text = re.sub(r'[^\\w\\s]','',text)\n",
        "    text = re.sub(r'(\\w+:\\/\\/\\S+)', '', text)\n",
        "\n",
        "    # text = text.translate(table, string.punctuation)\n",
        "    text = text.strip()\n",
        "    return text"
      ],
      "execution_count": null,
      "outputs": []
    },
    {
      "cell_type": "code",
      "metadata": {
        "id": "0O2tR_IjDNWr"
      },
      "source": [
        "# Apply the function defined above and save the\n",
        "data['Cleaned_Resume'] =  data['Resume'].apply(cleanResume)"
      ],
      "execution_count": null,
      "outputs": []
    },
    {
      "cell_type": "markdown",
      "metadata": {
        "id": "2pBLoWMxAf64"
      },
      "source": [
        "**Exercise 7: Convert the categorical variable `Category` to a numerical feature and make a different column <font color=\"#990000\">`label`</font>, which can be treated as the target variable [0.5 Mark]**\n",
        "\n",
        "**Hint:** Use [`sklearn.preprocessing.LabelEncoder()`](https://scikit-learn.org/stable/modules/generated/sklearn.preprocessing.LabelEncoder.html) method"
      ]
    },
    {
      "cell_type": "code",
      "metadata": {
        "id": "kg4QNr7DYSJ5"
      },
      "source": [
        "from sklearn.preprocessing import LabelEncoder\n",
        "\n",
        "# YOUR CODE HERE\n",
        "labelEnc = LabelEncoder()\n",
        "labelEnc.fit(data['Category'])\n",
        "\n",
        "data[\"label\"] =  labelEnc.transform(data['Category'])\n"
      ],
      "execution_count": null,
      "outputs": []
    },
    {
      "cell_type": "code",
      "source": [
        "data['label'].unique()"
      ],
      "metadata": {
        "colab": {
          "base_uri": "https://localhost:8080/"
        },
        "id": "fB3sIeUQuSHT",
        "outputId": "578daf99-3829-4889-ad2e-98b4154960f5"
      },
      "execution_count": null,
      "outputs": [
        {
          "output_type": "execute_result",
          "data": {
            "text/plain": [
              "array([ 6, 12,  0,  1, 24, 16, 22, 14,  5, 15,  4, 21,  2, 11, 18, 20,  8,\n",
              "       17, 19,  7, 13, 10,  9,  3, 23])"
            ]
          },
          "metadata": {},
          "execution_count": 16
        }
      ]
    },
    {
      "cell_type": "markdown",
      "source": [
        "**Exercise 8: Plot the histogram of words count of `Cleaned_Resume` text [0.5 Mark]**\n",
        "\n",
        "**Hint:** Use sns.distplot()"
      ],
      "metadata": {
        "id": "UWKiazN5mdyQ"
      }
    },
    {
      "cell_type": "code",
      "source": [
        "data['Count'] = [len(i) for i in data['Cleaned_Resume']]"
      ],
      "metadata": {
        "id": "mieV5cpRlUAq"
      },
      "execution_count": null,
      "outputs": []
    },
    {
      "cell_type": "code",
      "source": [
        "plt.figure(figsize= (8, 8))\n",
        "sns.set_style('whitegrid')\n",
        "sns.distplot(data['Count'], kde = False, bins = 30)\n",
        "plt.show()"
      ],
      "metadata": {
        "id": "4tK8VZkyldQx",
        "colab": {
          "base_uri": "https://localhost:8080/",
          "height": 696
        },
        "outputId": "88ec452f-c7b9-43a6-d9b7-a17120ceef62"
      },
      "execution_count": null,
      "outputs": [
        {
          "output_type": "display_data",
          "data": {
            "text/plain": [
              "<Figure size 800x800 with 1 Axes>"
            ],
            "image/png": "[encoded data removed]"
          },
          "metadata": {}
        }
      ]
    },
    {
      "cell_type": "markdown",
      "metadata": {
        "id": "zK2N4kjkSEjF"
      },
      "source": [
        "### Train Test Split"
      ]
    },
    {
      "cell_type": "markdown",
      "source": [
        "**Exercise 9: Split the dataset into training, validation, and testing set [0.5 Mark]**\n",
        "\n",
        "* Do stratified splitting using `label` column"
      ],
      "metadata": {
        "id": "y6MTKhUomkzU"
      }
    },
    {
      "cell_type": "code",
      "source": [
        "train_test_df, val_df = train_test_split(data, test_size=0.15, stratify=data['label'])\n",
        "train_df, test_df = train_test_split(train_test_df, test_size=0.15, stratify = train_test_df['label'])\n",
        "\n",
        "len(train_df), len(val_df), len(test_df)"
      ],
      "metadata": {
        "id": "mP2Ay3GdFU7b",
        "colab": {
          "base_uri": "https://localhost:8080/"
        },
        "outputId": "17b03ada-9c7b-44fe-eaf1-51b4a5a411ad"
      },
      "execution_count": null,
      "outputs": [
        {
          "output_type": "execute_result",
          "data": {
            "text/plain": [
              "(694, 145, 123)"
            ]
          },
          "metadata": {},
          "execution_count": 19
        }
      ]
    },
    {
      "cell_type": "code",
      "source": [
        "train_df.head(2)"
      ],
      "metadata": {
        "id": "IHuVoyE6F6ef",
        "colab": {
          "base_uri": "https://localhost:8080/",
          "height": 112
        },
        "outputId": "c3462f38-7515-4966-f448-2a5065843feb"
      },
      "execution_count": null,
      "outputs": [
        {
          "output_type": "execute_result",
          "data": {
            "text/plain": [
              "                   Category  \\\n",
              "498  Electrical Engineering   \n",
              "370          Java Developer   \n",
              "\n",
              "                                                Resume  \\\n",
              "498  â¢ achievement oriented with people managemen...   \n",
              "370  computer skills: languages and script: jsp, se...   \n",
              "\n",
              "                                        Cleaned_Resume  label  Count  \n",
              "498  achievement oriented with people management sk...     11   4143  \n",
              "370  computer skills languages and script jsp servl...     15    896  "
            ],
            "text/html": [
              "\n",
              "  <div id=\"df-dc64c3c2-37fd-46e4-8a18-4f7d526e0037\" class=\"colab-df-container\">\n",
              "    <div>\n",
              "<style scoped>\n",
              "    .dataframe tbody tr th:only-of-type {\n",
              "        vertical-align: middle;\n",
              "    }\n",
              "\n",
              "    .dataframe tbody tr th {\n",
              "        vertical-align: top;\n",
              "    }\n",
              "\n",
              "    .dataframe thead th {\n",
              "        text-align: right;\n",
              "    }\n",
              "</style>\n",
              "<table border=\"1\" class=\"dataframe\">\n",
              "  <thead>\n",
              "    <tr style=\"text-align: right;\">\n",
              "      <th></th>\n",
              "      <th>Category</th>\n",
              "      <th>Resume</th>\n",
              "      <th>Cleaned_Resume</th>\n",
              "      <th>label</th>\n",
              "      <th>Count</th>\n",
              "    </tr>\n",
              "  </thead>\n",
              "  <tbody>\n",
              "    <tr>\n",
              "      <th>498</th>\n",
              "      <td>Electrical Engineering</td>\n",
              "      <td>â¢ achievement oriented with people managemen...</td>\n",
              "      <td>achievement oriented with people management sk...</td>\n",
              "      <td>11</td>\n",
              "      <td>4143</td>\n",
              "    </tr>\n",
              "    <tr>\n",
              "      <th>370</th>\n",
              "      <td>Java Developer</td>\n",
              "      <td>computer skills: languages and script: jsp, se...</td>\n",
              "      <td>computer skills languages and script jsp servl...</td>\n",
              "      <td>15</td>\n",
              "      <td>896</td>\n",
              "    </tr>\n",
              "  </tbody>\n",
              "</table>\n",
              "</div>\n",
              "    <div class=\"colab-df-buttons\">\n",
              "\n",
              "  <div class=\"colab-df-container\">\n",
              "    <button class=\"colab-df-convert\" onclick=\"convertToInteractive('df-dc64c3c2-37fd-46e4-8a18-4f7d526e0037')\"\n",
              "            title=\"Convert this dataframe to an interactive table.\"\n",
              "            style=\"display:none;\">\n",
              "\n",
              "  <svg xmlns=\"http://www.w3.org/2000/svg\" height=\"24px\" viewBox=\"0 -960 960 960\">\n",
              "    <path d=\"M120-120v-720h720v720H120Zm60-500h600v-160H180v160Zm220 220h160v-160H400v160Zm0 220h160v-160H400v160ZM180-400h160v-160H180v160Zm440 0h160v-160H620v160ZM180-180h160v-160H180v160Zm440 0h160v-160H620v160Z\"/>\n",
              "  </svg>\n",
              "    </button>\n",
              "\n",
              "  <style>\n",
              "    .colab-df-container {\n",
              "      display:flex;\n",
              "      gap: 12px;\n",
              "    }\n",
              "\n",
              "    .colab-df-convert {\n",
              "      background-color: #E8F0FE;\n",
              "      border: none;\n",
              "      border-radius: 50%;\n",
              "      cursor: pointer;\n",
              "      display: none;\n",
              "      fill: #1967D2;\n",
              "      height: 32px;\n",
              "      padding: 0 0 0 0;\n",
              "      width: 32px;\n",
              "    }\n",
              "\n",
              "    .colab-df-convert:hover {\n",
              "      background-color: #E2EBFA;\n",
              "      box-shadow: 0px 1px 2px rgba(60, 64, 67, 0.3), 0px 1px 3px 1px rgba(60, 64, 67, 0.15);\n",
              "      fill: #174EA6;\n",
              "    }\n",
              "\n",
              "    .colab-df-buttons div {\n",
              "      margin-bottom: 4px;\n",
              "    }\n",
              "\n",
              "    [theme=dark] .colab-df-convert {\n",
              "      background-color: #3B4455;\n",
              "      fill: #D2E3FC;\n",
              "    }\n",
              "\n",
              "    [theme=dark] .colab-df-convert:hover {\n",
              "      background-color: #434B5C;\n",
              "      box-shadow: 0px 1px 3px 1px rgba(0, 0, 0, 0.15);\n",
              "      filter: drop-shadow(0px 1px 2px rgba(0, 0, 0, 0.3));\n",
              "      fill: #FFFFFF;\n",
              "    }\n",
              "  </style>\n",
              "\n",
              "    <script>\n",
              "      const buttonEl =\n",
              "        document.querySelector('#df-dc64c3c2-37fd-46e4-8a18-4f7d526e0037 button.colab-df-convert');\n",
              "      buttonEl.style.display =\n",
              "        google.colab.kernel.accessAllowed ? 'block' : 'none';\n",
              "\n",
              "      async function convertToInteractive(key) {\n",
              "        const element = document.querySelector('#df-dc64c3c2-37fd-46e4-8a18-4f7d526e0037');\n",
              "        const dataTable =\n",
              "          await google.colab.kernel.invokeFunction('convertToInteractive',\n",
              "                                                    [key], {});\n",
              "        if (!dataTable) return;\n",
              "\n",
              "        const docLinkHtml = 'Like what you see? Visit the ' +\n",
              "          '<a target=\"_blank\" href=https://colab.research.google.com/notebooks/data_table.ipynb>data table notebook</a>'\n",
              "          + ' to learn more about interactive tables.';\n",
              "        element.innerHTML = '';\n",
              "        dataTable['output_type'] = 'display_data';\n",
              "        await google.colab.output.renderOutput(dataTable, element);\n",
              "        const docLink = document.createElement('div');\n",
              "        docLink.innerHTML = docLinkHtml;\n",
              "        element.appendChild(docLink);\n",
              "      }\n",
              "    </script>\n",
              "  </div>\n",
              "\n",
              "\n",
              "<div id=\"df-0e9f08d3-5f61-4132-9456-4db9a28a8222\">\n",
              "  <button class=\"colab-df-quickchart\" onclick=\"quickchart('df-0e9f08d3-5f61-4132-9456-4db9a28a8222')\"\n",
              "            title=\"Suggest charts\"\n",
              "            style=\"display:none;\">\n",
              "\n",
              "<svg xmlns=\"http://www.w3.org/2000/svg\" height=\"24px\"viewBox=\"0 0 24 24\"\n",
              "     width=\"24px\">\n",
              "    <g>\n",
              "        <path d=\"M19 3H5c-1.1 0-2 .9-2 2v14c0 1.1.9 2 2 2h14c1.1 0 2-.9 2-2V5c0-1.1-.9-2-2-2zM9 17H7v-7h2v7zm4 0h-2V7h2v10zm4 0h-2v-4h2v4z\"/>\n",
              "    </g>\n",
              "</svg>\n",
              "  </button>\n",
              "\n",
              "<style>\n",
              "  .colab-df-quickchart {\n",
              "      --bg-color: #E8F0FE;\n",
              "      --fill-color: #1967D2;\n",
              "      --hover-bg-color: #E2EBFA;\n",
              "      --hover-fill-color: #174EA6;\n",
              "      --disabled-fill-color: #AAA;\n",
              "      --disabled-bg-color: #DDD;\n",
              "  }\n",
              "\n",
              "  [theme=dark] .colab-df-quickchart {\n",
              "      --bg-color: #3B4455;\n",
              "      --fill-color: #D2E3FC;\n",
              "      --hover-bg-color: #434B5C;\n",
              "      --hover-fill-color: #FFFFFF;\n",
              "      --disabled-bg-color: #3B4455;\n",
              "      --disabled-fill-color: #666;\n",
              "  }\n",
              "\n",
              "  .colab-df-quickchart {\n",
              "    background-color: var(--bg-color);\n",
              "    border: none;\n",
              "    border-radius: 50%;\n",
              "    cursor: pointer;\n",
              "    display: none;\n",
              "    fill: var(--fill-color);\n",
              "    height: 32px;\n",
              "    padding: 0;\n",
              "    width: 32px;\n",
              "  }\n",
              "\n",
              "  .colab-df-quickchart:hover {\n",
              "    background-color: var(--hover-bg-color);\n",
              "    box-shadow: 0 1px 2px rgba(60, 64, 67, 0.3), 0 1px 3px 1px rgba(60, 64, 67, 0.15);\n",
              "    fill: var(--button-hover-fill-color);\n",
              "  }\n",
              "\n",
              "  .colab-df-quickchart-complete:disabled,\n",
              "  .colab-df-quickchart-complete:disabled:hover {\n",
              "    background-color: var(--disabled-bg-color);\n",
              "    fill: var(--disabled-fill-color);\n",
              "    box-shadow: none;\n",
              "  }\n",
              "\n",
              "  .colab-df-spinner {\n",
              "    border: 2px solid var(--fill-color);\n",
              "    border-color: transparent;\n",
              "    border-bottom-color: var(--fill-color);\n",
              "    animation:\n",
              "      spin 1s steps(1) infinite;\n",
              "  }\n",
              "\n",
              "  @keyframes spin {\n",
              "    0% {\n",
              "      border-color: transparent;\n",
              "      border-bottom-color: var(--fill-color);\n",
              "      border-left-color: var(--fill-color);\n",
              "    }\n",
              "    20% {\n",
              "      border-color: transparent;\n",
              "      border-left-color: var(--fill-color);\n",
              "      border-top-color: var(--fill-color);\n",
              "    }\n",
              "    30% {\n",
              "      border-color: transparent;\n",
              "      border-left-color: var(--fill-color);\n",
              "      border-top-color: var(--fill-color);\n",
              "      border-right-color: var(--fill-color);\n",
              "    }\n",
              "    40% {\n",
              "      border-color: transparent;\n",
              "      border-right-color: var(--fill-color);\n",
              "      border-top-color: var(--fill-color);\n",
              "    }\n",
              "    60% {\n",
              "      border-color: transparent;\n",
              "      border-right-color: var(--fill-color);\n",
              "    }\n",
              "    80% {\n",
              "      border-color: transparent;\n",
              "      border-right-color: var(--fill-color);\n",
              "      border-bottom-color: var(--fill-color);\n",
              "    }\n",
              "    90% {\n",
              "      border-color: transparent;\n",
              "      border-bottom-color: var(--fill-color);\n",
              "    }\n",
              "  }\n",
              "</style>\n",
              "\n",
              "  <script>\n",
              "    async function quickchart(key) {\n",
              "      const quickchartButtonEl =\n",
              "        document.querySelector('#' + key + ' button');\n",
              "      quickchartButtonEl.disabled = true;  // To prevent multiple clicks.\n",
              "      quickchartButtonEl.classList.add('colab-df-spinner');\n",
              "      try {\n",
              "        const charts = await google.colab.kernel.invokeFunction(\n",
              "            'suggestCharts', [key], {});\n",
              "      } catch (error) {\n",
              "        console.error('Error during call to suggestCharts:', error);\n",
              "      }\n",
              "      quickchartButtonEl.classList.remove('colab-df-spinner');\n",
              "      quickchartButtonEl.classList.add('colab-df-quickchart-complete');\n",
              "    }\n",
              "    (() => {\n",
              "      let quickchartButtonEl =\n",
              "        document.querySelector('#df-0e9f08d3-5f61-4132-9456-4db9a28a8222 button');\n",
              "      quickchartButtonEl.style.display =\n",
              "        google.colab.kernel.accessAllowed ? 'block' : 'none';\n",
              "    })();\n",
              "  </script>\n",
              "</div>\n",
              "\n",
              "    </div>\n",
              "  </div>\n"
            ],
            "application/vnd.google.colaboratory.intrinsic+json": {
              "type": "dataframe",
              "variable_name": "train_df",
              "summary": "{\n  \"name\": \"train_df\",\n  \"rows\": 694,\n  \"fields\": [\n    {\n      \"column\": \"Category\",\n      \"properties\": {\n        \"dtype\": \"category\",\n        \"num_unique_values\": 25,\n        \"samples\": [\n          \"DevOps Engineer\",\n          \"Advocate\",\n          \"Electrical Engineering\"\n        ],\n        \"semantic_type\": \"\",\n        \"description\": \"\"\n      }\n    },\n    {\n      \"column\": \"Resume\",\n      \"properties\": {\n        \"dtype\": \"category\",\n        \"num_unique_values\": 159,\n        \"samples\": [\n          \"education details \\r\\njanuary 2009 p.g. sports science  dr. bmn college of home science\\r\\njanuary 2008 bsc food science & nutrition  dr. bmn college of home science\\r\\njanuary 2004 hsc   central railway's jr. college of science and commerce\\r\\njanuary 2002 ssc history  ies's modern english school\\r\\n msc nutrition  college of home science\\r\\nnutritionist and health promoter \\r\\n\\r\\n9yrs experience as a nutritionist and health coach\\r\\nskill details \\r\\ncompany details \\r\\ncompany - ugc net\\r\\ndescription - career objective- to use my qualifications as a nutritionist and health promoter to contribute to the well being of individuals in the community.\\r\\nugc net certificate for lectureship mar- 2013\\r\\n\\r\\nskills learnt\\r\\n\\u00e2\\u0080\\u00a2 working in a team environment.\\r\\n\\u00e2\\u0080\\u00a2 working as an individual.\\r\\n\\u00e2\\u0080\\u00a2 time management to ensure all customers are served sufficiently and all tasks are completed to a high standard.\\r\\n\\u00e2\\u0080\\u00a2 working under pressure and in a busy environment\\r\\n\\u00e2\\u0080\\u00a2 personal presentation\\r\\ncommunication skills\\r\\n\\u00e2\\u0080\\u00a2 9 years of work experience at healthcare startups, health clubs has enhanced my communication skills through discussions with health & fitness professionals & clients, writing articles and designing customized diet plans.\\r\\n\\u00e2\\u0080\\u00a2 confident in communicating with people on all levels and ensuring their needs are met.\\r\\nleadership skills\\r\\n\\u00e2\\u0080\\u00a2 leadership skills were developed in high school & college as a group leader where team work was essential, also conflict resolution skills were developed.\\r\\noral skills\\r\\n\\u00e2\\u0080\\u00a2 volunteering activities, leadership roles and university requirements involved many public speaking opportunities.\\r\\n\\u00e2\\u0080\\u00a2 communicating with the general public, asking them questions, and giving presentations has helped to further develop public speaking skills.\\r\\n\\u00e2\\u0080\\u00a2 comfortable with public speaking roles.\",\n          \"technical skills application servers: iis 6.0, jboss 7.1. database: sql, oracle and db2. report tool: ireport, crystal report. career grapheducation details \\r\\n\\r\\nbusiness analyst \\r\\n\\r\\nbusiness analyst - zensar technologies ltd\\r\\nskill details \\r\\ncrystal report- exprience - 15 months\\r\\ndatabase- exprience - 6 months\\r\\ndb2- exprience - 6 months\\r\\niis- exprience - 6 months\\r\\niis 6- exprience - 6 monthscompany details \\r\\ncompany - zensar technologies ltd\\r\\ndescription - location: goregoan, mumbai (client -sun pharmaceutical)\\r\\ndesignation: business analyst.\\r\\nrole: requirement gathering, gap analysis, support, end user training, documentation.\\r\\ncompany - proteus technologies pvt ltd\\r\\ndescription - base information management pvt. ltd. is a mumbai base software service provider with core competency and proven track record of installations of enterprise wide solutions. base customers come from industries as wide as pharmaceuticals, life sciences, plastics, engineering, chemicals\\r\\ncompany - wings infonet pvt ltd\\r\\ndescription - it is it solutions provider company. company provides comprehensive technology solutions to accounting, trade, payroll and asset management firms across the world.\\r\\ncompany - hiral tektronix pvt ltd\\r\\ndescription - software relates to recruitment (hrms), accounting, and payroll.\\r\\n\\r\\njob responsibilities: \\u00e2\\u0080\\u00a2 erp implementation and after go live support.\\r\\n\\u00e2\\u0080\\u00a2 documenting user requirements and developing specifications for customization.\\r\\n\\u00e2\\u0080\\u00a2 integrating with other modules, integration testing & extending post go-live support, including training support to end-users.\\r\\n\\u00e2\\u0080\\u00a2 drafting functional requirements for erp systems to represent the processes and functions involved.\\r\\n\\u00e2\\u0080\\u00a2 guiding the users in using various modules and the management for various functional issues.\\r\\n\\u00e2\\u0080\\u00a2 delivering awareness about various reports available in erp system for day to day transactions and for mis reporting of departments\\r\\nsystem audit for better results and follow ups for observation.\\r\\n\\u00e2\\u0080\\u00a2 developing and designing report using ireport and crystal report\",\n          \"\\u00e2\\u0080\\u00a2 operating systems:-linux- ubuntu, windows 2007/08 \\u00e2\\u0080\\u00a2 other tools:- tableau, svn, beyond compare.education details \\r\\njanuary 2016 bachelors of engineering engineering  gujarat technological university\\r\\nsystems engineer/hadoop developer \\r\\n\\r\\nsystems engineer/hadoop developer - tata consultancy services\\r\\nskill details \\r\\nhadoop,spark,sqoop,hive,flume,pig- exprience - 24 monthscompany details \\r\\ncompany - tata consultancy services\\r\\ndescription - roles and responsibility:\\r\\n\\r\\nworking for a american pharmaceutical company (one of the world's premier\\r\\nbiopharmaceutical) who develops and produces medicines and vaccines for a wide range of medical\\r\\ndisciplines, including immunology, oncology, cardiology, endocrinology, and neurology. to handle large\\r\\namount of united healthcare data big data analytics is used. data from all possible data sources like records of all patients(old and new), records of medicines, treatment pathways & patient journey for\\r\\nhealth outcomes, patient finder (or rare disease patient finder), etc being gathered, stored and processed at one place.\\r\\n\\r\\n\\u00e2\\u0080\\u00a2     worked on cluster with specs as:\\r\\no    cluster architecture: fully\\r\\ndistributed package used:\\r\\ncdh3\\r\\no    cluster capacity: 20 tb\\r\\no    no. of nodes: 10 data nodes + 3 masters + nfs backup for nn\\r\\n\\r\\n\\u00e2\\u0080\\u00a2     developed proof of concepts for enterprise adoption of hadoop.\\r\\n\\u00e2\\u0080\\u00a2   used sparkapi over cloudera hadoop yarn to perform analytics on the healthcare data in cloudera\\r\\ndistribution.\\r\\n\\u00e2\\u0080\\u00a2   responsible for cluster maintenance, adding and removing cluster nodes, cluster monitoring and trouble-shooting, manage and review data backups, and reviewing hadoop log files.\\r\\n\\u00e2\\u0080\\u00a2   imported & exported large data sets of data into hdfs and vice-versa using sqoop.\\r\\n\\u00e2\\u0080\\u00a2   involved developing the pig scripts and hive reports\\r\\n\\u00e2\\u0080\\u00a2   worked on hive partition and bucketing concepts and created hive external and internal tables with hive\\r\\npartition.monitoring hadoop scripts which take the input from hdfs and load the data into hive.\\r\\n\\u00e2\\u0080\\u00a2   developed spark scripts by using scala shell commands as per the requirement and worked with both\\r\\ndata frames/sql/data sets and rdd/mapreduce in spark. optimizing of existing algorithms in hadoop\\r\\nusing sparkcontext, spark-sql, data frames and rdd's.\\r\\n\\u00e2\\u0080\\u00a2   collaborated with infrastructure, network, database, application and bi to ensure data, quality and availability.\\r\\n\\u00e2\\u0080\\u00a2   developed reports using tableau and exported data to hdfs and hive using sqoop.\\r\\n\\u00e2\\u0080\\u00a2   used orc & parquet file formats for serialization of data, and snappy for the compression of the data.\\r\\n\\r\\nachievements\\r\\n\\r\\n\\u00e2\\u0080\\u00a2   appreciation for showing articulate leadership qualities in doing work with the team.\\r\\n\\u00e2\\u0080\\u00a2   completed the internal certification of tcs certified hadoop developer.\\r\\n\\r\\nongoing learning\\r\\n\\u00e2\\u0080\\u00a2   preparing and scheduled the cloudera certified spark developer cca 175.\"\n        ],\n        \"semantic_type\": \"\",\n        \"description\": \"\"\n      }\n    },\n    {\n      \"column\": \"Cleaned_Resume\",\n      \"properties\": {\n        \"dtype\": \"category\",\n        \"num_unique_values\": 159,\n        \"samples\": [\n          \"education details january 2009 pg sports science  dr bmn college of home sciencejanuary 2008 bsc food science  nutrition  dr bmn college of home sciencejanuary 2004 hsc   central railways jr college of science and commercejanuary 2002 ssc history  iess modern english school msc nutrition  college of home sciencenutritionist and health promoter 9yrs experience as a nutritionist and health coachskill details company details company  ugc netdescription  career objective to use my qualifications as a nutritionist and health promoter to contribute to the well being of individuals in the communityugc net certificate for lectureship mar 2013skills learnt working in a team environment working as an individual time management to ensure all customers are served sufficiently and all tasks are completed to a high standard working under pressure and in a busy environment personal presentationcommunication skills 9 years of work experience at healthcare startups health clubs has enhanced my communication skills through discussions with health  fitness professionals  clients writing articles and designing customized diet plans confident in communicating with people on all levels and ensuring their needs are metleadership skills leadership skills were developed in high school  college as a group leader where team work was essential also conflict resolution skills were developedoral skills volunteering activities leadership roles and university requirements involved many public speaking opportunities communicating with the general public asking them questions and giving presentations has helped to further develop public speaking skills comfortable with public speaking roles\",\n          \"technical skills application servers iis 60 jboss 71 database sql oracle and db2 report tool ireport crystal report career grapheducation details business analyst business analyst  zensar technologies ltdskill details crystal report exprience  15 monthsdatabase exprience  6 monthsdb2 exprience  6 monthsiis exprience  6 monthsiis 6 exprience  6 monthscompany details company  zensar technologies ltddescription  location goregoan mumbai client sun pharmaceuticaldesignation business analystrole requirement gathering gap analysis support end user training documentationcompany  proteus technologies pvt ltddescription  base information management pvt ltd is a mumbai base software service provider with core competency and proven track record of installations of enterprise wide solutions base customers come from industries as wide as pharmaceuticals life sciences plastics engineering chemicalscompany  wings infonet pvt ltddescription  it is it solutions provider company company provides comprehensive technology solutions to accounting trade payroll and asset management firms across the worldcompany  hiral tektronix pvt ltddescription  software relates to recruitment hrms accounting and payrolljob responsibilities  erp implementation and after go live support documenting user requirements and developing specifications for customization integrating with other modules integration testing  extending post golive support including training support to endusers drafting functional requirements for erp systems to represent the processes and functions involved guiding the users in using various modules and the management for various functional issues delivering awareness about various reports available in erp system for day to day transactions and for mis reporting of departmentssystem audit for better results and follow ups for observation developing and designing report using ireport and crystal report\",\n          \"operating systemslinux ubuntu windows 200708  other tools tableau svn beyond compareeducation details january 2016 bachelors of engineering engineering  gujarat technological universitysystems engineerhadoop developer systems engineerhadoop developer  tata consultancy servicesskill details hadoopsparksqoophiveflumepig exprience  24 monthscompany details company  tata consultancy servicesdescription  roles and responsibilityworking for a american pharmaceutical company one of the worlds premierbiopharmaceutical who develops and produces medicines and vaccines for a wide range of medicaldisciplines including immunology oncology cardiology endocrinology and neurology to handle largeamount of united healthcare data big data analytics is used data from all possible data sources like records of all patientsold and new records of medicines treatment pathways  patient journey forhealth outcomes patient finder or rare disease patient finder etc being gathered stored and processed at one place     worked on cluster with specs aso    cluster architecture fullydistributed package usedcdh3o    cluster capacity 20 tbo    no of nodes 10 data nodes  3 masters  nfs backup for nn     developed proof of concepts for enterprise adoption of hadoop   used sparkapi over cloudera hadoop yarn to perform analytics on the healthcare data in clouderadistribution   responsible for cluster maintenance adding and removing cluster nodes cluster monitoring and troubleshooting manage and review data backups and reviewing hadoop log files   imported  exported large data sets of data into hdfs and viceversa using sqoop   involved developing the pig scripts and hive reports   worked on hive partition and bucketing concepts and created hive external and internal tables with hivepartitionmonitoring hadoop scripts which take the input from hdfs and load the data into hive   developed spark scripts by using scala shell commands as per the requirement and worked with bothdata framessqldata sets and rddmapreduce in spark optimizing of existing algorithms in hadoopusing sparkcontext sparksql data frames and rdds   collaborated with infrastructure network database application and bi to ensure data quality and availability   developed reports using tableau and exported data to hdfs and hive using sqoop   used orc  parquet file formats for serialization of data and snappy for the compression of the dataachievements   appreciation for showing articulate leadership qualities in doing work with the team   completed the internal certification of tcs certified hadoop developerongoing learning   preparing and scheduled the cloudera certified spark developer cca 175\"\n        ],\n        \"semantic_type\": \"\",\n        \"description\": \"\"\n      }\n    },\n    {\n      \"column\": \"label\",\n      \"properties\": {\n        \"dtype\": \"number\",\n        \"std\": 7,\n        \"min\": 0,\n        \"max\": 24,\n        \"num_unique_values\": 25,\n        \"samples\": [\n          8,\n          0,\n          11\n        ],\n        \"semantic_type\": \"\",\n        \"description\": \"\"\n      }\n    },\n    {\n      \"column\": \"Count\",\n      \"properties\": {\n        \"dtype\": \"number\",\n        \"std\": 2765,\n        \"min\": 121,\n        \"max\": 13658,\n        \"num_unique_values\": 156,\n        \"samples\": [\n          1739,\n          1567,\n          3187\n        ],\n        \"semantic_type\": \"\",\n        \"description\": \"\"\n      }\n    }\n  ]\n}"
            }
          },
          "metadata": {},
          "execution_count": 20
        }
      ]
    },
    {
      "cell_type": "markdown",
      "source": [
        "### Convert to HuggingFace Dataset"
      ],
      "metadata": {
        "id": "vQNG09lz2VG6"
      }
    },
    {
      "cell_type": "markdown",
      "source": [
        "**Exercise 10: Convert Pandas dataframe to HuggingFace Dataset [1 Mark]**\n",
        "\n",
        "**Hint:**\n",
        "\n",
        "    import pandas as pd\n",
        "    from datasets import Dataset, DatasetDict\n",
        "\n",
        "    tdf = pd.DataFrame({\"a\": [1, 2, 3], \"b\": ['hello', 'ola', 'thammi']})\n",
        "    vdf = pd.DataFrame({\"a\": [4, 5, 6], \"b\": ['four', 'five', 'six']})\n",
        "    tds = Dataset.from_pandas(tdf)\n",
        "    vds = Dataset.from_pandas(vdf)\n",
        "\n",
        "    ds = DatasetDict()\n",
        "\n",
        "    ds['train'] = tds\n",
        "    ds['validation'] = vds\n",
        "\n",
        "    print(ds)"
      ],
      "metadata": {
        "id": "qEpf_GllUIbt"
      }
    },
    {
      "cell_type": "code",
      "source": [
        "from datasets import Dataset, DatasetDict\n",
        "\n",
        "traindf = pd.DataFrame({'text':train_df['Cleaned_Resume'], 'label': train_df['label']})\n",
        "valdf = pd.DataFrame({'text':val_df['Cleaned_Resume'], 'label': val_df['label']})\n",
        "testdf = pd.DataFrame({'text':test_df['Cleaned_Resume'], 'label': test_df['label']})\n",
        "\n",
        "train_ds = Dataset.from_pandas(traindf)\n",
        "val_ds = Dataset.from_pandas(valdf)\n",
        "test_ds = Dataset.from_pandas(traindf)\n",
        "\n",
        "ds = DatasetDict()\n",
        "\n",
        "ds['train'] = train_ds\n",
        "ds['validation'] = val_ds\n",
        "ds['test'] = test_ds"
      ],
      "metadata": {
        "id": "z_89zi9XF5J0"
      },
      "execution_count": null,
      "outputs": []
    },
    {
      "cell_type": "code",
      "source": [
        "print(ds)"
      ],
      "metadata": {
        "colab": {
          "base_uri": "https://localhost:8080/"
        },
        "id": "hnuKNQCxzNz1",
        "outputId": "a240a23e-d068-445a-d3e4-8cc919b5fcd9"
      },
      "execution_count": null,
      "outputs": [
        {
          "output_type": "stream",
          "name": "stdout",
          "text": [
            "DatasetDict({\n",
            "    train: Dataset({\n",
            "        features: ['text', 'label', '__index_level_0__'],\n",
            "        num_rows: 694\n",
            "    })\n",
            "    validation: Dataset({\n",
            "        features: ['text', 'label', '__index_level_0__'],\n",
            "        num_rows: 145\n",
            "    })\n",
            "    test: Dataset({\n",
            "        features: ['text', 'label', '__index_level_0__'],\n",
            "        num_rows: 694\n",
            "    })\n",
            "})\n"
          ]
        }
      ]
    },
    {
      "cell_type": "markdown",
      "source": [
        "### Tokenizer"
      ],
      "metadata": {
        "id": "IXsHhNqcVyUb"
      }
    },
    {
      "cell_type": "markdown",
      "source": [
        "**Exercise 11: Load tokenizer for checkpoint `distilbert-base-uncased` [0.5 Mark]**\n",
        "\n",
        "**Hint:** `AutoTokenizer`"
      ],
      "metadata": {
        "id": "EqmNgMaQVNdp"
      }
    },
    {
      "cell_type": "code",
      "source": [
        "from transformers import AutoTokenizer"
      ],
      "metadata": {
        "id": "4VN8O7ug1iRS"
      },
      "execution_count": null,
      "outputs": []
    },
    {
      "cell_type": "code",
      "source": [
        "# Load tokenizer\n",
        "checkpoint='distilbert-base-uncased'\n",
        "tokenizer = AutoTokenizer.from_pretrained(checkpoint)"
      ],
      "metadata": {
        "id": "iKAaBbGhq3cP",
        "colab": {
          "base_uri": "https://localhost:8080/",
          "height": 145,
          "referenced_widgets": [
            "c5bf40896d4d4e13bbf43cdd808d0547",
            "8729d9ab26e646b48d3fa830d6ada018",
            "350eafe5295d4faba0d6e32dc5ea023b",
            "0df5437093fb4cca968fb29f46a8b1cd",
            "46c614d9852c4b93a16f5daaabc36fc8",
            "5e118fb400cc4473881dafdd3e9c452a",
            "6375cbcf129a4ea5af9a0d978835d50a",
            "ff27dab980444022a2d119673832b320",
            "0e997a33c54546bca49b954b18f6afbd",
            "5de0112c3f2743fe9b3cdfd5fd4f6047",
            "03e8b5b085d14b249ec3bb74b6377092",
            "731ee048945c46568e1b7fd471248356",
            "77aacbfd8633492d86dc896de7e9b02f",
            "6552021d995c4269a1d5f6484e81b66e",
            "517e5368e3ed4564ab43da84d2446b44",
            "51c287d91e4143d2983c35d2f7b173e4",
            "ff61aed83e044ae7a7a549a4f873d633",
            "0c8231e66e6b42f692488fc4470e271a",
            "97d535a2e80b4e3cb6d13e11fda05139",
            "b52aacd8132c43a09921a5a37521d6a9",
            "c604f57ade3b4426875540184ffd7dd5",
            "9974d211356f4f5391ae20d61a6a3ef3",
            "00013146b44b49d8a1f61c397ad33400",
            "18af51c141e84c8dba74f07750e6fc33",
            "ced4fa27620f47cda3cf0ed84e87cd7d",
            "c3731de073a04feeb401a461a23ee4b7",
            "5d4d68434cbe4e369664b3141bf10641",
            "ba743e0947e64188a7b2090a9b7bdd5b",
            "7b58c4d8fc90497bae33708e162517b2",
            "98271dd7cddc4510a04023d75b3efb93",
            "c6f47a8740a64a35888bc560d385e5f2",
            "5fc27de23ff549e3ad560129766dca60",
            "978085d6184041bb872067039d77ef2e",
            "c55521457beb41098a99659aa3d7a3b6",
            "30a9281ade154ef5825fcc5126c44229",
            "355c4b0f566b48e3b020b627f78b4ca4",
            "f729061a6e68488988d32b047646d813",
            "278641c3a2454e37ac921bf4bdb4e9d7",
            "1159eb506a5d424db0a6a21e3783eabb",
            "4a9549375faa441097009bcd76387a5f",
            "ab79bc44d8524b58bc0c6112ac6b2110",
            "12aea2595d874d2b9046504a82247466",
            "66adbc6e5e6d4787b18056a64ce50ad4",
            "8bc0681c55484c9caaa0e080f8deb3ba"
          ]
        },
        "outputId": "f2692793-0098-4adc-8fcc-adb6bf7eb409"
      },
      "execution_count": null,
      "outputs": [
        {
          "output_type": "display_data",
          "data": {
            "text/plain": [
              "tokenizer_config.json:   0%|          | 0.00/48.0 [00:00<?, ?B/s]"
            ],
            "application/vnd.jupyter.widget-view+json": {
              "version_major": 2,
              "version_minor": 0,
              "model_id": "c5bf40896d4d4e13bbf43cdd808d0547"
            }
          },
          "metadata": {}
        },
        {
          "output_type": "display_data",
          "data": {
            "text/plain": [
              "config.json:   0%|          | 0.00/483 [00:00<?, ?B/s]"
            ],
            "application/vnd.jupyter.widget-view+json": {
              "version_major": 2,
              "version_minor": 0,
              "model_id": "731ee048945c46568e1b7fd471248356"
            }
          },
          "metadata": {}
        },
        {
          "output_type": "display_data",
          "data": {
            "text/plain": [
              "vocab.txt:   0%|          | 0.00/232k [00:00<?, ?B/s]"
            ],
            "application/vnd.jupyter.widget-view+json": {
              "version_major": 2,
              "version_minor": 0,
              "model_id": "00013146b44b49d8a1f61c397ad33400"
            }
          },
          "metadata": {}
        },
        {
          "output_type": "display_data",
          "data": {
            "text/plain": [
              "tokenizer.json:   0%|          | 0.00/466k [00:00<?, ?B/s]"
            ],
            "application/vnd.jupyter.widget-view+json": {
              "version_major": 2,
              "version_minor": 0,
              "model_id": "c55521457beb41098a99659aa3d7a3b6"
            }
          },
          "metadata": {}
        }
      ]
    },
    {
      "cell_type": "code",
      "source": [
        "tx = 'my name is babita'"
      ],
      "metadata": {
        "id": "HHPFB6Yi3eR8"
      },
      "execution_count": null,
      "outputs": []
    },
    {
      "cell_type": "code",
      "source": [
        "tokenizer(tx, padding = True, return_tensors = 'pt')"
      ],
      "metadata": {
        "colab": {
          "base_uri": "https://localhost:8080/"
        },
        "id": "ueyPM1vV3hSR",
        "outputId": "f1b5a291-f0fc-4a52-e7cd-0a5df4ff4f5d"
      },
      "execution_count": null,
      "outputs": [
        {
          "output_type": "execute_result",
          "data": {
            "text/plain": [
              "{'input_ids': tensor([[  101,  2026,  2171,  2003,  8670, 16313,  2050,   102]]), 'attention_mask': tensor([[1, 1, 1, 1, 1, 1, 1, 1]])}"
            ]
          },
          "metadata": {},
          "execution_count": 26
        }
      ]
    },
    {
      "cell_type": "code",
      "source": [
        "def tokenize_fn(batch):\n",
        "    # YOUR CODE HERE..\n",
        "    return tokenizer(batch['text'],truncation=True)"
      ],
      "metadata": {
        "id": "89dlcyQkIL-Q"
      },
      "execution_count": null,
      "outputs": []
    },
    {
      "cell_type": "code",
      "source": [
        "tokenized_datasets = ds.map(tokenize_fn, batched=True)\n",
        "tokenized_datasets"
      ],
      "metadata": {
        "id": "Z_c7_2tYI7Nt",
        "colab": {
          "base_uri": "https://localhost:8080/",
          "height": 366,
          "referenced_widgets": [
            "847d0510f55040988d69c76d8a894b6f",
            "ed59cea49a9a4f388c8a105dae7300bb",
            "ed3edf49bcdf47a6bc16aba2decc3d6e",
            "9f1c2ed9420546ba979b80d31aa0ade0",
            "9e546fe0463540419fa72260d196389f",
            "e05df0f2cad846bd9e22706104c644d1",
            "95fc04c300b7470a9d246e771cc49bb8",
            "12fb6f6c8fb247b68395944261651e21",
            "8a192bd6545749a3bcb5a1f5808d76a3",
            "0128b8557ecd4bae93d818049aea2bbd",
            "d581d54600164bdcb196510d2af1e6b7",
            "dcee907883634aeba48fb1d3f83de79b",
            "8c07a8eb5d934ca0bb584866cfc4fa24",
            "493d4de0dd4b4b648679fb832774ba7f",
            "31287de70c2b4ba38ad6a8372a9fc478",
            "c5e2636714a24e2fb8936ef34b8c5e0a",
            "41235997b6bc40af9dad4122661dc4a9",
            "954e2d515db546c4b4cb5f56ab2c5d4e",
            "1c536447b22f49d68522fd9b66a1607c",
            "4a35512c3c3e400d942bc83ee8a0decd",
            "cf9810b729044257bfb4fd4763f4166e",
            "dda0ccf8d0804f7cab1701b7802297e7",
            "ec561577eec842078cc0cce8516fce03",
            "dde77034b4d5411c8c9f3de5e1c076fe",
            "45a51e23c45e4816884465cfc9f6fdc1",
            "ee9d5a1821444664b7f878eea2f3f119",
            "78d7920a406a422db521c8b5eeedbe68",
            "0af4b4343c834012817a352724ed550c",
            "9458ba7e735349a1a89ba29b5d61ce5a",
            "81c029d4bf6c4851822b4aa718069aee",
            "1e3bf0d41e164a6bb10ea13d7ff1859d",
            "061d3e4efb2c4892a14370692ee167bb",
            "fd968bb825564d94a20b21d8bf44234d"
          ]
        },
        "outputId": "6dcd5c1b-d8a9-449a-d5d0-3582dde0d971"
      },
      "execution_count": null,
      "outputs": [
        {
          "output_type": "display_data",
          "data": {
            "text/plain": [
              "Map:   0%|          | 0/694 [00:00<?, ? examples/s]"
            ],
            "application/vnd.jupyter.widget-view+json": {
              "version_major": 2,
              "version_minor": 0,
              "model_id": "847d0510f55040988d69c76d8a894b6f"
            }
          },
          "metadata": {}
        },
        {
          "output_type": "display_data",
          "data": {
            "text/plain": [
              "Map:   0%|          | 0/145 [00:00<?, ? examples/s]"
            ],
            "application/vnd.jupyter.widget-view+json": {
              "version_major": 2,
              "version_minor": 0,
              "model_id": "dcee907883634aeba48fb1d3f83de79b"
            }
          },
          "metadata": {}
        },
        {
          "output_type": "display_data",
          "data": {
            "text/plain": [
              "Map:   0%|          | 0/694 [00:00<?, ? examples/s]"
            ],
            "application/vnd.jupyter.widget-view+json": {
              "version_major": 2,
              "version_minor": 0,
              "model_id": "ec561577eec842078cc0cce8516fce03"
            }
          },
          "metadata": {}
        },
        {
          "output_type": "execute_result",
          "data": {
            "text/plain": [
              "DatasetDict({\n",
              "    train: Dataset({\n",
              "        features: ['text', 'label', '__index_level_0__', 'input_ids', 'attention_mask'],\n",
              "        num_rows: 694\n",
              "    })\n",
              "    validation: Dataset({\n",
              "        features: ['text', 'label', '__index_level_0__', 'input_ids', 'attention_mask'],\n",
              "        num_rows: 145\n",
              "    })\n",
              "    test: Dataset({\n",
              "        features: ['text', 'label', '__index_level_0__', 'input_ids', 'attention_mask'],\n",
              "        num_rows: 694\n",
              "    })\n",
              "})"
            ]
          },
          "metadata": {},
          "execution_count": 28
        }
      ]
    },
    {
      "cell_type": "markdown",
      "source": [
        "### Load Pre-Trained Model"
      ],
      "metadata": {
        "id": "TPXfBiYpElKx"
      }
    },
    {
      "cell_type": "markdown",
      "source": [
        "**Exercise 12: Load pre-trained Bert model with checkpoint `distilbert-base-uncased` and show model summary [0.5 Mark]**\n",
        "\n",
        "**Hint:** `AutoModelForSequenceClassification`"
      ],
      "metadata": {
        "id": "Z_14j98LV2Tg"
      }
    },
    {
      "cell_type": "code",
      "source": [
        "from transformers import AutoModelForSequenceClassification\n",
        "\n",
        "model = AutoModelForSequenceClassification.from_pretrained(checkpoint,num_labels=25)"
      ],
      "metadata": {
        "id": "tHeD1YZu-iA9",
        "colab": {
          "base_uri": "https://localhost:8080/",
          "height": 105,
          "referenced_widgets": [
            "a9a13b04fd824897aed19d47b315898e",
            "62750b5495794170a7b0dc5ef058dd17",
            "41db5ced37114977b3b05384effe3956",
            "a198e858e659484aa713ec65bb4bcf28",
            "33179a73b4e745c793997ed30e5495c5",
            "5c9dd9afc7fa4ca5b8edf6bb1aa378ae",
            "770247736ad9458b91739a969dad278e",
            "8d69899879c34f8095df2a94a0e3ef69",
            "c271d92118c3428896911f9b7eae2e4c",
            "f3f5717e04dc4b81ad32780c895344ac",
            "916680a749314edcb204eb3e27544375"
          ]
        },
        "outputId": "83c579da-1db5-44eb-d711-8c8631654fd4"
      },
      "execution_count": null,
      "outputs": [
        {
          "output_type": "display_data",
          "data": {
            "text/plain": [
              "model.safetensors:   0%|          | 0.00/268M [00:00<?, ?B/s]"
            ],
            "application/vnd.jupyter.widget-view+json": {
              "version_major": 2,
              "version_minor": 0,
              "model_id": "a9a13b04fd824897aed19d47b315898e"
            }
          },
          "metadata": {}
        },
        {
          "output_type": "stream",
          "name": "stderr",
          "text": [
            "Some weights of DistilBertForSequenceClassification were not initialized from the model checkpoint at distilbert-base-uncased and are newly initialized: ['classifier.bias', 'classifier.weight', 'pre_classifier.bias', 'pre_classifier.weight']\n",
            "You should probably TRAIN this model on a down-stream task to be able to use it for predictions and inference.\n"
          ]
        }
      ]
    },
    {
      "cell_type": "markdown",
      "source": [
        "**Exercise 13: Freeze/Un-Freeze different layers  [0.5 Mark]**\n",
        "\n",
        "**Hint:** Freeze layers starting with name *distilbert*\n"
      ],
      "metadata": {
        "id": "OEaFCpYAFLzC"
      }
    },
    {
      "cell_type": "code",
      "source": [
        "!pip install torchinfo"
      ],
      "metadata": {
        "colab": {
          "base_uri": "https://localhost:8080/"
        },
        "id": "wmPPrLgJ7QmH",
        "outputId": "0a08ed67-31eb-47b5-99c8-fbe56d2f4a64"
      },
      "execution_count": null,
      "outputs": [
        {
          "output_type": "stream",
          "name": "stdout",
          "text": [
            "Collecting torchinfo\n",
            "  Downloading torchinfo-1.8.0-py3-none-any.whl.metadata (21 kB)\n",
            "Downloading torchinfo-1.8.0-py3-none-any.whl (23 kB)\n",
            "Installing collected packages: torchinfo\n",
            "Successfully installed torchinfo-1.8.0\n"
          ]
        }
      ]
    },
    {
      "cell_type": "code",
      "source": [
        "# Display layers name\n",
        "from torchinfo import summary\n",
        "summary(model)"
      ],
      "metadata": {
        "id": "XrMTbGJaf0fz",
        "colab": {
          "base_uri": "https://localhost:8080/"
        },
        "outputId": "0970b3e0-1375-4079-ea6a-bb23153d3da1"
      },
      "execution_count": null,
      "outputs": [
        {
          "output_type": "execute_result",
          "data": {
            "text/plain": [
              "================================================================================\n",
              "Layer (type:depth-idx)                                  Param #\n",
              "================================================================================\n",
              "DistilBertForSequenceClassification                     --\n",
              "├─DistilBertModel: 1-1                                  --\n",
              "│    └─Embeddings: 2-1                                  --\n",
              "│    │    └─Embedding: 3-1                              23,440,896\n",
              "│    │    └─Embedding: 3-2                              393,216\n",
              "│    │    └─LayerNorm: 3-3                              1,536\n",
              "│    │    └─Dropout: 3-4                                --\n",
              "│    └─Transformer: 2-2                                 --\n",
              "│    │    └─ModuleList: 3-5                             42,527,232\n",
              "├─Linear: 1-2                                           590,592\n",
              "├─Linear: 1-3                                           19,225\n",
              "├─Dropout: 1-4                                          --\n",
              "================================================================================\n",
              "Total params: 66,972,697\n",
              "Trainable params: 66,972,697\n",
              "Non-trainable params: 0\n",
              "================================================================================"
            ]
          },
          "metadata": {},
          "execution_count": 31
        }
      ]
    },
    {
      "cell_type": "code",
      "source": [
        "for name, param in model.named_parameters():\n",
        "  print(name)"
      ],
      "metadata": {
        "colab": {
          "base_uri": "https://localhost:8080/"
        },
        "id": "BuYH1Q-X718Z",
        "outputId": "166f2bd4-4b43-4d44-b5d8-91f991777f57"
      },
      "execution_count": null,
      "outputs": [
        {
          "output_type": "stream",
          "name": "stdout",
          "text": [
            "distilbert.embeddings.word_embeddings.weight\n",
            "distilbert.embeddings.position_embeddings.weight\n",
            "distilbert.embeddings.LayerNorm.weight\n",
            "distilbert.embeddings.LayerNorm.bias\n",
            "distilbert.transformer.layer.0.attention.q_lin.weight\n",
            "distilbert.transformer.layer.0.attention.q_lin.bias\n",
            "distilbert.transformer.layer.0.attention.k_lin.weight\n",
            "distilbert.transformer.layer.0.attention.k_lin.bias\n",
            "distilbert.transformer.layer.0.attention.v_lin.weight\n",
            "distilbert.transformer.layer.0.attention.v_lin.bias\n",
            "distilbert.transformer.layer.0.attention.out_lin.weight\n",
            "distilbert.transformer.layer.0.attention.out_lin.bias\n",
            "distilbert.transformer.layer.0.sa_layer_norm.weight\n",
            "distilbert.transformer.layer.0.sa_layer_norm.bias\n",
            "distilbert.transformer.layer.0.ffn.lin1.weight\n",
            "distilbert.transformer.layer.0.ffn.lin1.bias\n",
            "distilbert.transformer.layer.0.ffn.lin2.weight\n",
            "distilbert.transformer.layer.0.ffn.lin2.bias\n",
            "distilbert.transformer.layer.0.output_layer_norm.weight\n",
            "distilbert.transformer.layer.0.output_layer_norm.bias\n",
            "distilbert.transformer.layer.1.attention.q_lin.weight\n",
            "distilbert.transformer.layer.1.attention.q_lin.bias\n",
            "distilbert.transformer.layer.1.attention.k_lin.weight\n",
            "distilbert.transformer.layer.1.attention.k_lin.bias\n",
            "distilbert.transformer.layer.1.attention.v_lin.weight\n",
            "distilbert.transformer.layer.1.attention.v_lin.bias\n",
            "distilbert.transformer.layer.1.attention.out_lin.weight\n",
            "distilbert.transformer.layer.1.attention.out_lin.bias\n",
            "distilbert.transformer.layer.1.sa_layer_norm.weight\n",
            "distilbert.transformer.layer.1.sa_layer_norm.bias\n",
            "distilbert.transformer.layer.1.ffn.lin1.weight\n",
            "distilbert.transformer.layer.1.ffn.lin1.bias\n",
            "distilbert.transformer.layer.1.ffn.lin2.weight\n",
            "distilbert.transformer.layer.1.ffn.lin2.bias\n",
            "distilbert.transformer.layer.1.output_layer_norm.weight\n",
            "distilbert.transformer.layer.1.output_layer_norm.bias\n",
            "distilbert.transformer.layer.2.attention.q_lin.weight\n",
            "distilbert.transformer.layer.2.attention.q_lin.bias\n",
            "distilbert.transformer.layer.2.attention.k_lin.weight\n",
            "distilbert.transformer.layer.2.attention.k_lin.bias\n",
            "distilbert.transformer.layer.2.attention.v_lin.weight\n",
            "distilbert.transformer.layer.2.attention.v_lin.bias\n",
            "distilbert.transformer.layer.2.attention.out_lin.weight\n",
            "distilbert.transformer.layer.2.attention.out_lin.bias\n",
            "distilbert.transformer.layer.2.sa_layer_norm.weight\n",
            "distilbert.transformer.layer.2.sa_layer_norm.bias\n",
            "distilbert.transformer.layer.2.ffn.lin1.weight\n",
            "distilbert.transformer.layer.2.ffn.lin1.bias\n",
            "distilbert.transformer.layer.2.ffn.lin2.weight\n",
            "distilbert.transformer.layer.2.ffn.lin2.bias\n",
            "distilbert.transformer.layer.2.output_layer_norm.weight\n",
            "distilbert.transformer.layer.2.output_layer_norm.bias\n",
            "distilbert.transformer.layer.3.attention.q_lin.weight\n",
            "distilbert.transformer.layer.3.attention.q_lin.bias\n",
            "distilbert.transformer.layer.3.attention.k_lin.weight\n",
            "distilbert.transformer.layer.3.attention.k_lin.bias\n",
            "distilbert.transformer.layer.3.attention.v_lin.weight\n",
            "distilbert.transformer.layer.3.attention.v_lin.bias\n",
            "distilbert.transformer.layer.3.attention.out_lin.weight\n",
            "distilbert.transformer.layer.3.attention.out_lin.bias\n",
            "distilbert.transformer.layer.3.sa_layer_norm.weight\n",
            "distilbert.transformer.layer.3.sa_layer_norm.bias\n",
            "distilbert.transformer.layer.3.ffn.lin1.weight\n",
            "distilbert.transformer.layer.3.ffn.lin1.bias\n",
            "distilbert.transformer.layer.3.ffn.lin2.weight\n",
            "distilbert.transformer.layer.3.ffn.lin2.bias\n",
            "distilbert.transformer.layer.3.output_layer_norm.weight\n",
            "distilbert.transformer.layer.3.output_layer_norm.bias\n",
            "distilbert.transformer.layer.4.attention.q_lin.weight\n",
            "distilbert.transformer.layer.4.attention.q_lin.bias\n",
            "distilbert.transformer.layer.4.attention.k_lin.weight\n",
            "distilbert.transformer.layer.4.attention.k_lin.bias\n",
            "distilbert.transformer.layer.4.attention.v_lin.weight\n",
            "distilbert.transformer.layer.4.attention.v_lin.bias\n",
            "distilbert.transformer.layer.4.attention.out_lin.weight\n",
            "distilbert.transformer.layer.4.attention.out_lin.bias\n",
            "distilbert.transformer.layer.4.sa_layer_norm.weight\n",
            "distilbert.transformer.layer.4.sa_layer_norm.bias\n",
            "distilbert.transformer.layer.4.ffn.lin1.weight\n",
            "distilbert.transformer.layer.4.ffn.lin1.bias\n",
            "distilbert.transformer.layer.4.ffn.lin2.weight\n",
            "distilbert.transformer.layer.4.ffn.lin2.bias\n",
            "distilbert.transformer.layer.4.output_layer_norm.weight\n",
            "distilbert.transformer.layer.4.output_layer_norm.bias\n",
            "distilbert.transformer.layer.5.attention.q_lin.weight\n",
            "distilbert.transformer.layer.5.attention.q_lin.bias\n",
            "distilbert.transformer.layer.5.attention.k_lin.weight\n",
            "distilbert.transformer.layer.5.attention.k_lin.bias\n",
            "distilbert.transformer.layer.5.attention.v_lin.weight\n",
            "distilbert.transformer.layer.5.attention.v_lin.bias\n",
            "distilbert.transformer.layer.5.attention.out_lin.weight\n",
            "distilbert.transformer.layer.5.attention.out_lin.bias\n",
            "distilbert.transformer.layer.5.sa_layer_norm.weight\n",
            "distilbert.transformer.layer.5.sa_layer_norm.bias\n",
            "distilbert.transformer.layer.5.ffn.lin1.weight\n",
            "distilbert.transformer.layer.5.ffn.lin1.bias\n",
            "distilbert.transformer.layer.5.ffn.lin2.weight\n",
            "distilbert.transformer.layer.5.ffn.lin2.bias\n",
            "distilbert.transformer.layer.5.output_layer_norm.weight\n",
            "distilbert.transformer.layer.5.output_layer_norm.bias\n",
            "pre_classifier.weight\n",
            "pre_classifier.bias\n",
            "classifier.weight\n",
            "classifier.bias\n"
          ]
        }
      ]
    },
    {
      "cell_type": "code",
      "source": [
        "# Freezing\n",
        "\n",
        "for name, param in model.named_parameters():\n",
        "     if name.startswith(\"distilbert\"): # choose whatever you like here\n",
        "        param.requires_grad = False"
      ],
      "metadata": {
        "id": "Vl9qw4l2IPIA"
      },
      "execution_count": null,
      "outputs": []
    },
    {
      "cell_type": "code",
      "source": [
        "# Display layers gradient\n",
        "for name, param in model.named_parameters():\n",
        "     print(name, param.requires_grad)"
      ],
      "metadata": {
        "id": "-rpzN_c6HRTR",
        "collapsed": true,
        "colab": {
          "base_uri": "https://localhost:8080/"
        },
        "outputId": "36ea814b-e6b3-4657-843c-4adbe5a98885"
      },
      "execution_count": null,
      "outputs": [
        {
          "output_type": "stream",
          "name": "stdout",
          "text": [
            "distilbert.embeddings.word_embeddings.weight False\n",
            "distilbert.embeddings.position_embeddings.weight False\n",
            "distilbert.embeddings.LayerNorm.weight False\n",
            "distilbert.embeddings.LayerNorm.bias False\n",
            "distilbert.transformer.layer.0.attention.q_lin.weight False\n",
            "distilbert.transformer.layer.0.attention.q_lin.bias False\n",
            "distilbert.transformer.layer.0.attention.k_lin.weight False\n",
            "distilbert.transformer.layer.0.attention.k_lin.bias False\n",
            "distilbert.transformer.layer.0.attention.v_lin.weight False\n",
            "distilbert.transformer.layer.0.attention.v_lin.bias False\n",
            "distilbert.transformer.layer.0.attention.out_lin.weight False\n",
            "distilbert.transformer.layer.0.attention.out_lin.bias False\n",
            "distilbert.transformer.layer.0.sa_layer_norm.weight False\n",
            "distilbert.transformer.layer.0.sa_layer_norm.bias False\n",
            "distilbert.transformer.layer.0.ffn.lin1.weight False\n",
            "distilbert.transformer.layer.0.ffn.lin1.bias False\n",
            "distilbert.transformer.layer.0.ffn.lin2.weight False\n",
            "distilbert.transformer.layer.0.ffn.lin2.bias False\n",
            "distilbert.transformer.layer.0.output_layer_norm.weight False\n",
            "distilbert.transformer.layer.0.output_layer_norm.bias False\n",
            "distilbert.transformer.layer.1.attention.q_lin.weight False\n",
            "distilbert.transformer.layer.1.attention.q_lin.bias False\n",
            "distilbert.transformer.layer.1.attention.k_lin.weight False\n",
            "distilbert.transformer.layer.1.attention.k_lin.bias False\n",
            "distilbert.transformer.layer.1.attention.v_lin.weight False\n",
            "distilbert.transformer.layer.1.attention.v_lin.bias False\n",
            "distilbert.transformer.layer.1.attention.out_lin.weight False\n",
            "distilbert.transformer.layer.1.attention.out_lin.bias False\n",
            "distilbert.transformer.layer.1.sa_layer_norm.weight False\n",
            "distilbert.transformer.layer.1.sa_layer_norm.bias False\n",
            "distilbert.transformer.layer.1.ffn.lin1.weight False\n",
            "distilbert.transformer.layer.1.ffn.lin1.bias False\n",
            "distilbert.transformer.layer.1.ffn.lin2.weight False\n",
            "distilbert.transformer.layer.1.ffn.lin2.bias False\n",
            "distilbert.transformer.layer.1.output_layer_norm.weight False\n",
            "distilbert.transformer.layer.1.output_layer_norm.bias False\n",
            "distilbert.transformer.layer.2.attention.q_lin.weight False\n",
            "distilbert.transformer.layer.2.attention.q_lin.bias False\n",
            "distilbert.transformer.layer.2.attention.k_lin.weight False\n",
            "distilbert.transformer.layer.2.attention.k_lin.bias False\n",
            "distilbert.transformer.layer.2.attention.v_lin.weight False\n",
            "distilbert.transformer.layer.2.attention.v_lin.bias False\n",
            "distilbert.transformer.layer.2.attention.out_lin.weight False\n",
            "distilbert.transformer.layer.2.attention.out_lin.bias False\n",
            "distilbert.transformer.layer.2.sa_layer_norm.weight False\n",
            "distilbert.transformer.layer.2.sa_layer_norm.bias False\n",
            "distilbert.transformer.layer.2.ffn.lin1.weight False\n",
            "distilbert.transformer.layer.2.ffn.lin1.bias False\n",
            "distilbert.transformer.layer.2.ffn.lin2.weight False\n",
            "distilbert.transformer.layer.2.ffn.lin2.bias False\n",
            "distilbert.transformer.layer.2.output_layer_norm.weight False\n",
            "distilbert.transformer.layer.2.output_layer_norm.bias False\n",
            "distilbert.transformer.layer.3.attention.q_lin.weight False\n",
            "distilbert.transformer.layer.3.attention.q_lin.bias False\n",
            "distilbert.transformer.layer.3.attention.k_lin.weight False\n",
            "distilbert.transformer.layer.3.attention.k_lin.bias False\n",
            "distilbert.transformer.layer.3.attention.v_lin.weight False\n",
            "distilbert.transformer.layer.3.attention.v_lin.bias False\n",
            "distilbert.transformer.layer.3.attention.out_lin.weight False\n",
            "distilbert.transformer.layer.3.attention.out_lin.bias False\n",
            "distilbert.transformer.layer.3.sa_layer_norm.weight False\n",
            "distilbert.transformer.layer.3.sa_layer_norm.bias False\n",
            "distilbert.transformer.layer.3.ffn.lin1.weight False\n",
            "distilbert.transformer.layer.3.ffn.lin1.bias False\n",
            "distilbert.transformer.layer.3.ffn.lin2.weight False\n",
            "distilbert.transformer.layer.3.ffn.lin2.bias False\n",
            "distilbert.transformer.layer.3.output_layer_norm.weight False\n",
            "distilbert.transformer.layer.3.output_layer_norm.bias False\n",
            "distilbert.transformer.layer.4.attention.q_lin.weight False\n",
            "distilbert.transformer.layer.4.attention.q_lin.bias False\n",
            "distilbert.transformer.layer.4.attention.k_lin.weight False\n",
            "distilbert.transformer.layer.4.attention.k_lin.bias False\n",
            "distilbert.transformer.layer.4.attention.v_lin.weight False\n",
            "distilbert.transformer.layer.4.attention.v_lin.bias False\n",
            "distilbert.transformer.layer.4.attention.out_lin.weight False\n",
            "distilbert.transformer.layer.4.attention.out_lin.bias False\n",
            "distilbert.transformer.layer.4.sa_layer_norm.weight False\n",
            "distilbert.transformer.layer.4.sa_layer_norm.bias False\n",
            "distilbert.transformer.layer.4.ffn.lin1.weight False\n",
            "distilbert.transformer.layer.4.ffn.lin1.bias False\n",
            "distilbert.transformer.layer.4.ffn.lin2.weight False\n",
            "distilbert.transformer.layer.4.ffn.lin2.bias False\n",
            "distilbert.transformer.layer.4.output_layer_norm.weight False\n",
            "distilbert.transformer.layer.4.output_layer_norm.bias False\n",
            "distilbert.transformer.layer.5.attention.q_lin.weight False\n",
            "distilbert.transformer.layer.5.attention.q_lin.bias False\n",
            "distilbert.transformer.layer.5.attention.k_lin.weight False\n",
            "distilbert.transformer.layer.5.attention.k_lin.bias False\n",
            "distilbert.transformer.layer.5.attention.v_lin.weight False\n",
            "distilbert.transformer.layer.5.attention.v_lin.bias False\n",
            "distilbert.transformer.layer.5.attention.out_lin.weight False\n",
            "distilbert.transformer.layer.5.attention.out_lin.bias False\n",
            "distilbert.transformer.layer.5.sa_layer_norm.weight False\n",
            "distilbert.transformer.layer.5.sa_layer_norm.bias False\n",
            "distilbert.transformer.layer.5.ffn.lin1.weight False\n",
            "distilbert.transformer.layer.5.ffn.lin1.bias False\n",
            "distilbert.transformer.layer.5.ffn.lin2.weight False\n",
            "distilbert.transformer.layer.5.ffn.lin2.bias False\n",
            "distilbert.transformer.layer.5.output_layer_norm.weight False\n",
            "distilbert.transformer.layer.5.output_layer_norm.bias False\n",
            "pre_classifier.weight True\n",
            "pre_classifier.bias True\n",
            "classifier.weight True\n",
            "classifier.bias True\n"
          ]
        }
      ]
    },
    {
      "cell_type": "markdown",
      "source": [
        "### Metrics"
      ],
      "metadata": {
        "id": "_1fnp2FMLAbA"
      }
    },
    {
      "cell_type": "code",
      "source": [
        "# from datasets import load_metric\n",
        "# metric = load_metric(\"glue\", \"sst2\")         # Type 'Y' when prompted"
      ],
      "metadata": {
        "id": "zEwgnS9xJrfI"
      },
      "execution_count": null,
      "outputs": []
    },
    {
      "cell_type": "code",
      "source": [
        "# metric.compute(predictions=[1,0,1], references=[1,0,0])"
      ],
      "metadata": {
        "id": "7NYqJuPcLKIF"
      },
      "execution_count": null,
      "outputs": []
    },
    {
      "cell_type": "code",
      "source": [
        "# def compute_metrics(logits_and_labels):\n",
        "#     logits, labels = logits_and_labels\n",
        "#     predictions = np.argmax(logits,axis=-1)\n",
        "#     return metric.compute(predictions=predictions,references=labels)\n",
        "\n",
        "from sklearn.metrics import accuracy_score, f1_score, precision_score, recall_score\n",
        "\n",
        "def compute_metrics(logits_and_labels):\n",
        "    logits, labels = logits_and_labels\n",
        "    predictions = np.argmax(logits,axis=-1)\n",
        "    return {'f1_score': f1_score(y_true=labels, y_pred=predictions, average='weighted')}\n"
      ],
      "metadata": {
        "id": "Dm-TelhsJrcT"
      },
      "execution_count": null,
      "outputs": []
    },
    {
      "cell_type": "markdown",
      "source": [
        "**Exercise 14: Fine-tune model on train dataset  [0.5 Mark]**\n",
        " * Create `TrainingArguments` class object\n",
        " * Create `Trainer` class  object\n",
        " * Train it for higher number of epochs say 40 or 50\n",
        " * Switch to GPU runtime if needed\n",
        "\n",
        "**Hint:** Check if the training code is running without any error with CPU runtime, later switch to GPU runtime for faster training. Once trained, save the model, create its zip file, and download into your system."
      ],
      "metadata": {
        "id": "lRCoqRSWLSu9"
      }
    },
    {
      "cell_type": "code",
      "source": [
        "from transformers import TrainingArguments\n",
        "from transformers import Trainer"
      ],
      "metadata": {
        "id": "p9mRRxP41j13"
      },
      "execution_count": null,
      "outputs": []
    },
    {
      "cell_type": "code",
      "source": [
        "# Set up the training arguments\n",
        "\n",
        "model_output_path = \"/content/bert_model\"\n",
        "\n",
        "training_args = TrainingArguments(\n",
        "    'sample_trainer', #  directory where the trained model will be saved,\n",
        "    evaluation_strategy='epoch',\n",
        "    save_strategy='epoch',\n",
        "    num_train_epochs=45)"
      ],
      "metadata": {
        "id": "DVZwc4qv2kYz"
      },
      "execution_count": null,
      "outputs": []
    },
    {
      "cell_type": "code",
      "source": [
        "# Train the model\n",
        "\n",
        "trainer = Trainer(\n",
        "    model,\n",
        "    training_args,\n",
        "    train_dataset=tokenized_datasets[\"train\"],\n",
        "    eval_dataset = tokenized_datasets[\"validation\"],\n",
        "    tokenizer =tokenizer,\n",
        "    compute_metrics=compute_metrics\n",
        "\n",
        ")"
      ],
      "metadata": {
        "id": "NCkulT251mCW"
      },
      "execution_count": null,
      "outputs": []
    },
    {
      "cell_type": "code",
      "source": [
        "trainer.train()"
      ],
      "metadata": {
        "colab": {
          "base_uri": "https://localhost:8080/",
          "height": 1000
        },
        "id": "3cn9_XJ79lD4",
        "outputId": "2ceb2842-c66d-480e-a3e2-7176e87b71f2"
      },
      "execution_count": null,
      "outputs": [
        {
          "output_type": "display_data",
          "data": {
            "text/plain": [
              "<IPython.core.display.HTML object>"
            ],
            "text/html": [
              "\n",
              "    <div>\n",
              "      \n",
              "      <progress value='3915' max='3915' style='width:300px; height:20px; vertical-align: middle;'></progress>\n",
              "      [3915/3915 12:12, Epoch 45/45]\n",
              "    </div>\n",
              "    <table border=\"1\" class=\"dataframe\">\n",
              "  <thead>\n",
              " <tr style=\"text-align: left;\">\n",
              "      <th>Epoch</th>\n",
              "      <th>Training Loss</th>\n",
              "      <th>Validation Loss</th>\n",
              "      <th>F1 Score</th>\n",
              "    </tr>\n",
              "  </thead>\n",
              "  <tbody>\n",
              "    <tr>\n",
              "      <td>1</td>\n",
              "      <td>No log</td>\n",
              "      <td>3.125852</td>\n",
              "      <td>0.025876</td>\n",
              "    </tr>\n",
              "    <tr>\n",
              "      <td>2</td>\n",
              "      <td>No log</td>\n",
              "      <td>3.060692</td>\n",
              "      <td>0.027491</td>\n",
              "    </tr>\n",
              "    <tr>\n",
              "      <td>3</td>\n",
              "      <td>No log</td>\n",
              "      <td>3.003611</td>\n",
              "      <td>0.048415</td>\n",
              "    </tr>\n",
              "    <tr>\n",
              "      <td>4</td>\n",
              "      <td>No log</td>\n",
              "      <td>2.943208</td>\n",
              "      <td>0.046074</td>\n",
              "    </tr>\n",
              "    <tr>\n",
              "      <td>5</td>\n",
              "      <td>No log</td>\n",
              "      <td>2.882786</td>\n",
              "      <td>0.058727</td>\n",
              "    </tr>\n",
              "    <tr>\n",
              "      <td>6</td>\n",
              "      <td>3.033800</td>\n",
              "      <td>2.820614</td>\n",
              "      <td>0.145154</td>\n",
              "    </tr>\n",
              "    <tr>\n",
              "      <td>7</td>\n",
              "      <td>3.033800</td>\n",
              "      <td>2.760266</td>\n",
              "      <td>0.181237</td>\n",
              "    </tr>\n",
              "    <tr>\n",
              "      <td>8</td>\n",
              "      <td>3.033800</td>\n",
              "      <td>2.699379</td>\n",
              "      <td>0.182970</td>\n",
              "    </tr>\n",
              "    <tr>\n",
              "      <td>9</td>\n",
              "      <td>3.033800</td>\n",
              "      <td>2.640385</td>\n",
              "      <td>0.188891</td>\n",
              "    </tr>\n",
              "    <tr>\n",
              "      <td>10</td>\n",
              "      <td>3.033800</td>\n",
              "      <td>2.583019</td>\n",
              "      <td>0.210671</td>\n",
              "    </tr>\n",
              "    <tr>\n",
              "      <td>11</td>\n",
              "      <td>3.033800</td>\n",
              "      <td>2.528218</td>\n",
              "      <td>0.242652</td>\n",
              "    </tr>\n",
              "    <tr>\n",
              "      <td>12</td>\n",
              "      <td>2.687800</td>\n",
              "      <td>2.475681</td>\n",
              "      <td>0.267865</td>\n",
              "    </tr>\n",
              "    <tr>\n",
              "      <td>13</td>\n",
              "      <td>2.687800</td>\n",
              "      <td>2.423316</td>\n",
              "      <td>0.262311</td>\n",
              "    </tr>\n",
              "    <tr>\n",
              "      <td>14</td>\n",
              "      <td>2.687800</td>\n",
              "      <td>2.377393</td>\n",
              "      <td>0.300725</td>\n",
              "    </tr>\n",
              "    <tr>\n",
              "      <td>15</td>\n",
              "      <td>2.687800</td>\n",
              "      <td>2.331836</td>\n",
              "      <td>0.333008</td>\n",
              "    </tr>\n",
              "    <tr>\n",
              "      <td>16</td>\n",
              "      <td>2.687800</td>\n",
              "      <td>2.289750</td>\n",
              "      <td>0.279936</td>\n",
              "    </tr>\n",
              "    <tr>\n",
              "      <td>17</td>\n",
              "      <td>2.687800</td>\n",
              "      <td>2.250168</td>\n",
              "      <td>0.359457</td>\n",
              "    </tr>\n",
              "    <tr>\n",
              "      <td>18</td>\n",
              "      <td>2.393400</td>\n",
              "      <td>2.210894</td>\n",
              "      <td>0.335925</td>\n",
              "    </tr>\n",
              "    <tr>\n",
              "      <td>19</td>\n",
              "      <td>2.393400</td>\n",
              "      <td>2.176382</td>\n",
              "      <td>0.399611</td>\n",
              "    </tr>\n",
              "    <tr>\n",
              "      <td>20</td>\n",
              "      <td>2.393400</td>\n",
              "      <td>2.142112</td>\n",
              "      <td>0.373077</td>\n",
              "    </tr>\n",
              "    <tr>\n",
              "      <td>21</td>\n",
              "      <td>2.393400</td>\n",
              "      <td>2.110418</td>\n",
              "      <td>0.385222</td>\n",
              "    </tr>\n",
              "    <tr>\n",
              "      <td>22</td>\n",
              "      <td>2.393400</td>\n",
              "      <td>2.081242</td>\n",
              "      <td>0.391689</td>\n",
              "    </tr>\n",
              "    <tr>\n",
              "      <td>23</td>\n",
              "      <td>2.156100</td>\n",
              "      <td>2.053997</td>\n",
              "      <td>0.422010</td>\n",
              "    </tr>\n",
              "    <tr>\n",
              "      <td>24</td>\n",
              "      <td>2.156100</td>\n",
              "      <td>2.027843</td>\n",
              "      <td>0.439887</td>\n",
              "    </tr>\n",
              "    <tr>\n",
              "      <td>25</td>\n",
              "      <td>2.156100</td>\n",
              "      <td>2.003087</td>\n",
              "      <td>0.440681</td>\n",
              "    </tr>\n",
              "    <tr>\n",
              "      <td>26</td>\n",
              "      <td>2.156100</td>\n",
              "      <td>1.978871</td>\n",
              "      <td>0.440022</td>\n",
              "    </tr>\n",
              "    <tr>\n",
              "      <td>27</td>\n",
              "      <td>2.156100</td>\n",
              "      <td>1.958130</td>\n",
              "      <td>0.447864</td>\n",
              "    </tr>\n",
              "    <tr>\n",
              "      <td>28</td>\n",
              "      <td>2.156100</td>\n",
              "      <td>1.937013</td>\n",
              "      <td>0.455778</td>\n",
              "    </tr>\n",
              "    <tr>\n",
              "      <td>29</td>\n",
              "      <td>1.993500</td>\n",
              "      <td>1.919369</td>\n",
              "      <td>0.453482</td>\n",
              "    </tr>\n",
              "    <tr>\n",
              "      <td>30</td>\n",
              "      <td>1.993500</td>\n",
              "      <td>1.901401</td>\n",
              "      <td>0.475544</td>\n",
              "    </tr>\n",
              "    <tr>\n",
              "      <td>31</td>\n",
              "      <td>1.993500</td>\n",
              "      <td>1.885581</td>\n",
              "      <td>0.475544</td>\n",
              "    </tr>\n",
              "    <tr>\n",
              "      <td>32</td>\n",
              "      <td>1.993500</td>\n",
              "      <td>1.870656</td>\n",
              "      <td>0.481830</td>\n",
              "    </tr>\n",
              "    <tr>\n",
              "      <td>33</td>\n",
              "      <td>1.993500</td>\n",
              "      <td>1.858122</td>\n",
              "      <td>0.487611</td>\n",
              "    </tr>\n",
              "    <tr>\n",
              "      <td>34</td>\n",
              "      <td>1.993500</td>\n",
              "      <td>1.845011</td>\n",
              "      <td>0.518020</td>\n",
              "    </tr>\n",
              "    <tr>\n",
              "      <td>35</td>\n",
              "      <td>1.876700</td>\n",
              "      <td>1.833744</td>\n",
              "      <td>0.487611</td>\n",
              "    </tr>\n",
              "    <tr>\n",
              "      <td>36</td>\n",
              "      <td>1.876700</td>\n",
              "      <td>1.823469</td>\n",
              "      <td>0.512239</td>\n",
              "    </tr>\n",
              "    <tr>\n",
              "      <td>37</td>\n",
              "      <td>1.876700</td>\n",
              "      <td>1.814049</td>\n",
              "      <td>0.518020</td>\n",
              "    </tr>\n",
              "    <tr>\n",
              "      <td>38</td>\n",
              "      <td>1.876700</td>\n",
              "      <td>1.805882</td>\n",
              "      <td>0.512239</td>\n",
              "    </tr>\n",
              "    <tr>\n",
              "      <td>39</td>\n",
              "      <td>1.876700</td>\n",
              "      <td>1.799639</td>\n",
              "      <td>0.487611</td>\n",
              "    </tr>\n",
              "    <tr>\n",
              "      <td>40</td>\n",
              "      <td>1.876700</td>\n",
              "      <td>1.793916</td>\n",
              "      <td>0.487611</td>\n",
              "    </tr>\n",
              "    <tr>\n",
              "      <td>41</td>\n",
              "      <td>1.814300</td>\n",
              "      <td>1.789123</td>\n",
              "      <td>0.518020</td>\n",
              "    </tr>\n",
              "    <tr>\n",
              "      <td>42</td>\n",
              "      <td>1.814300</td>\n",
              "      <td>1.785563</td>\n",
              "      <td>0.518020</td>\n",
              "    </tr>\n",
              "    <tr>\n",
              "      <td>43</td>\n",
              "      <td>1.814300</td>\n",
              "      <td>1.782907</td>\n",
              "      <td>0.518020</td>\n",
              "    </tr>\n",
              "    <tr>\n",
              "      <td>44</td>\n",
              "      <td>1.814300</td>\n",
              "      <td>1.781364</td>\n",
              "      <td>0.518020</td>\n",
              "    </tr>\n",
              "    <tr>\n",
              "      <td>45</td>\n",
              "      <td>1.814300</td>\n",
              "      <td>1.780796</td>\n",
              "      <td>0.518020</td>\n",
              "    </tr>\n",
              "  </tbody>\n",
              "</table><p>"
            ]
          },
          "metadata": {}
        },
        {
          "output_type": "execute_result",
          "data": {
            "text/plain": [
              "TrainOutput(global_step=3915, training_loss=2.2263707108576787, metrics={'train_runtime': 734.367, 'train_samples_per_second': 42.526, 'train_steps_per_second': 5.331, 'total_flos': 4126695191912580.0, 'train_loss': 2.2263707108576787, 'epoch': 45.0})"
            ]
          },
          "metadata": {},
          "execution_count": 41
        }
      ]
    },
    {
      "cell_type": "markdown",
      "source": [
        "### Save Model"
      ],
      "metadata": {
        "id": "ZcgsEYJlKbR0"
      }
    },
    {
      "cell_type": "code",
      "source": [
        "# Save the model\n",
        "trainer.save_model('saved_bert_model')"
      ],
      "metadata": {
        "id": "r0-EFIfIGAwB"
      },
      "execution_count": null,
      "outputs": []
    },
    {
      "cell_type": "code",
      "source": [
        "!ls"
      ],
      "metadata": {
        "id": "h3SgH3qXGA1S",
        "colab": {
          "base_uri": "https://localhost:8080/"
        },
        "outputId": "642617e1-596e-4705-862b-f67c24fa526b"
      },
      "execution_count": null,
      "outputs": [
        {
          "output_type": "stream",
          "name": "stdout",
          "text": [
            "sample_data  sample_trainer  saved_bert_model  UpdatedResumeDataSet.csv\n"
          ]
        }
      ]
    },
    {
      "cell_type": "code",
      "source": [
        "# Create a Zip file and download\n",
        "!zip -r saved_bert_model.zip saved_bert_model"
      ],
      "metadata": {
        "id": "e7KOsH5j6fkP",
        "colab": {
          "base_uri": "https://localhost:8080/"
        },
        "outputId": "25d0e606-5a38-4db6-d877-e04912056757"
      },
      "execution_count": null,
      "outputs": [
        {
          "output_type": "stream",
          "name": "stdout",
          "text": [
            "  adding: saved_bert_model/ (stored 0%)\n",
            "  adding: saved_bert_model/model.safetensors (deflated 8%)\n",
            "  adding: saved_bert_model/training_args.bin (deflated 52%)\n",
            "  adding: saved_bert_model/vocab.txt (deflated 53%)\n",
            "  adding: saved_bert_model/tokenizer_config.json (deflated 76%)\n",
            "  adding: saved_bert_model/special_tokens_map.json (deflated 42%)\n",
            "  adding: saved_bert_model/tokenizer.json (deflated 71%)\n",
            "  adding: saved_bert_model/config.json (deflated 64%)\n"
          ]
        }
      ]
    },
    {
      "cell_type": "markdown",
      "source": [
        "### Load Model"
      ],
      "metadata": {
        "id": "6GxwVdGLKgPe"
      }
    },
    {
      "cell_type": "markdown",
      "source": [
        "**Exercise 15: Load the saved model and create a pipeline to perform text classification [1 Mark]**\n",
        "\n",
        " * Create the pipeline object for text classification\n",
        " * Create a `make_prediction` function to use pipeline object and output the prediction label\n",
        "\n",
        "**Hint:** pipeline()"
      ],
      "metadata": {
        "id": "kkX_uGuNaePi"
      }
    },
    {
      "cell_type": "code",
      "source": [
        "from transformers import pipeline"
      ],
      "metadata": {
        "id": "zh3Dvzz-GBEr"
      },
      "execution_count": null,
      "outputs": []
    },
    {
      "cell_type": "code",
      "source": [
        "my_model = pipeline(\n",
        "    'text-classification',\n",
        "    model='saved_bert_model',\n",
        "    device=0)"
      ],
      "metadata": {
        "id": "SKjG3Gm0Gb1Z"
      },
      "execution_count": null,
      "outputs": []
    },
    {
      "cell_type": "code",
      "source": [
        "# Function to predict label for a resume text\n",
        "\n",
        "def make_prediction(input_text):\n",
        "  prediction = my_model(input_text)\n",
        "  return prediction\n",
        "    # YOUR CODE HERE..\n"
      ],
      "metadata": {
        "id": "AvSyk5jylTz7"
      },
      "execution_count": null,
      "outputs": []
    },
    {
      "cell_type": "code",
      "source": [
        "# Test prediction\n",
        "make_prediction('programming, web designing, coding')"
      ],
      "metadata": {
        "id": "BARs_uj-lTxH",
        "colab": {
          "base_uri": "https://localhost:8080/"
        },
        "outputId": "3696c848-9508-405f-bf3b-278bf695e640"
      },
      "execution_count": null,
      "outputs": [
        {
          "output_type": "execute_result",
          "data": {
            "text/plain": [
              "[{'label': 'LABEL_15', 'score': 0.20169106125831604}]"
            ]
          },
          "metadata": {},
          "execution_count": 48
        }
      ]
    },
    {
      "cell_type": "code",
      "source": [
        "make_prediction('continuous integration and continuous delivery')"
      ],
      "metadata": {
        "id": "jUPAf9tR8yEC",
        "colab": {
          "base_uri": "https://localhost:8080/"
        },
        "outputId": "2937b528-64d6-498f-ba30-2222be4d4611"
      },
      "execution_count": null,
      "outputs": [
        {
          "output_type": "execute_result",
          "data": {
            "text/plain": [
              "[{'label': 'LABEL_13', 'score': 0.11523283272981644}]"
            ]
          },
          "metadata": {},
          "execution_count": 49
        }
      ]
    },
    {
      "cell_type": "code",
      "source": [
        "make_prediction('law student and journalist')"
      ],
      "metadata": {
        "id": "vRgaCbxzExGC",
        "colab": {
          "base_uri": "https://localhost:8080/"
        },
        "outputId": "e9454fcf-bcc6-4bc7-db9d-d7c6543a5339"
      },
      "execution_count": null,
      "outputs": [
        {
          "output_type": "execute_result",
          "data": {
            "text/plain": [
              "[{'label': 'LABEL_12', 'score': 0.29868125915527344}]"
            ]
          },
          "metadata": {},
          "execution_count": 50
        }
      ]
    },
    {
      "cell_type": "code",
      "source": [
        "make_prediction('machine learning, data, EDA, big data, neural networks')"
      ],
      "metadata": {
        "id": "SG_mZItOqG2v",
        "colab": {
          "base_uri": "https://localhost:8080/"
        },
        "outputId": "155d27fd-892e-4f2a-ec5c-cb2fa8f9bcf7"
      },
      "execution_count": null,
      "outputs": [
        {
          "output_type": "execute_result",
          "data": {
            "text/plain": [
              "[{'label': 'LABEL_15', 'score': 0.2138395458459854}]"
            ]
          },
          "metadata": {},
          "execution_count": 51
        }
      ]
    },
    {
      "cell_type": "code",
      "source": [
        "val_df.head()"
      ],
      "metadata": {
        "colab": {
          "base_uri": "https://localhost:8080/",
          "height": 345
        },
        "id": "94tXb1Z7L7Tl",
        "outputId": "bd016a2f-7da5-46ad-cbc8-ae9c6bd303b0"
      },
      "execution_count": null,
      "outputs": [
        {
          "output_type": "execute_result",
          "data": {
            "text/plain": [
              "                      Category  \\\n",
              "668  Network Security Engineer   \n",
              "466         Automation Testing   \n",
              "398             Java Developer   \n",
              "249                      Sales   \n",
              "839           DotNet Developer   \n",
              "\n",
              "                                                Resume  \\\n",
              "668  operating systems: windows, linux, ubuntu netw...   \n",
              "466  skills agile methodology scrum, kanban, extrem...   \n",
              "398  computer skills: languages and script: jsp, se...   \n",
              "249  skill sets: â¢ multi-tasking â¢ collaborativ...   \n",
              "839  participated in intra college cricket competit...   \n",
              "\n",
              "                                        Cleaned_Resume  label  Count  \\\n",
              "668  operating systems windows linux ubuntu network...     17   6312   \n",
              "466  skills agile methodology scrum kanban extreme ...      2   6297   \n",
              "398  computer skills languages and script jsp servl...     15    896   \n",
              "249  skill sets  multitasking  collaborative  optim...     22    983   \n",
              "839  participated in intra college cricket competit...      9    578   \n",
              "\n",
              "                                  Cleaned_Resume_Short  \\\n",
              "668  operating systems windows linux ubuntu network...   \n",
              "466  skills agile methodology scrum kanban extreme ...   \n",
              "398  computer skills languages and script jsp servl...   \n",
              "249  skill sets  multitasking  collaborative  optim...   \n",
              "839  participated in intra college cricket competit...   \n",
              "\n",
              "                                            label_pred  label_pred_1  \\\n",
              "668  [{'label': 'LABEL_15', 'score': 0.328848242759...            12   \n",
              "466  [{'label': 'LABEL_15', 'score': 0.346537411212...            12   \n",
              "398  [{'label': 'LABEL_15', 'score': 0.602642595767...            12   \n",
              "249  [{'label': 'LABEL_12', 'score': 0.295739054679...            12   \n",
              "839  [{'label': 'LABEL_1', 'score': 0.2845383584499...            12   \n",
              "\n",
              "     label_pred_2  \n",
              "668            15  \n",
              "466            15  \n",
              "398            15  \n",
              "249            12  \n",
              "839             1  "
            ],
            "text/html": [
              "\n",
              "  <div id=\"df-97a2de33-04a4-48e5-a1d3-e1885c15b838\" class=\"colab-df-container\">\n",
              "    <div>\n",
              "<style scoped>\n",
              "    .dataframe tbody tr th:only-of-type {\n",
              "        vertical-align: middle;\n",
              "    }\n",
              "\n",
              "    .dataframe tbody tr th {\n",
              "        vertical-align: top;\n",
              "    }\n",
              "\n",
              "    .dataframe thead th {\n",
              "        text-align: right;\n",
              "    }\n",
              "</style>\n",
              "<table border=\"1\" class=\"dataframe\">\n",
              "  <thead>\n",
              "    <tr style=\"text-align: right;\">\n",
              "      <th></th>\n",
              "      <th>Category</th>\n",
              "      <th>Resume</th>\n",
              "      <th>Cleaned_Resume</th>\n",
              "      <th>label</th>\n",
              "      <th>Count</th>\n",
              "      <th>Cleaned_Resume_Short</th>\n",
              "      <th>label_pred</th>\n",
              "      <th>label_pred_1</th>\n",
              "      <th>label_pred_2</th>\n",
              "    </tr>\n",
              "  </thead>\n",
              "  <tbody>\n",
              "    <tr>\n",
              "      <th>668</th>\n",
              "      <td>Network Security Engineer</td>\n",
              "      <td>operating systems: windows, linux, ubuntu netw...</td>\n",
              "      <td>operating systems windows linux ubuntu network...</td>\n",
              "      <td>17</td>\n",
              "      <td>6312</td>\n",
              "      <td>operating systems windows linux ubuntu network...</td>\n",
              "      <td>[{'label': 'LABEL_15', 'score': 0.328848242759...</td>\n",
              "      <td>12</td>\n",
              "      <td>15</td>\n",
              "    </tr>\n",
              "    <tr>\n",
              "      <th>466</th>\n",
              "      <td>Automation Testing</td>\n",
              "      <td>skills agile methodology scrum, kanban, extrem...</td>\n",
              "      <td>skills agile methodology scrum kanban extreme ...</td>\n",
              "      <td>2</td>\n",
              "      <td>6297</td>\n",
              "      <td>skills agile methodology scrum kanban extreme ...</td>\n",
              "      <td>[{'label': 'LABEL_15', 'score': 0.346537411212...</td>\n",
              "      <td>12</td>\n",
              "      <td>15</td>\n",
              "    </tr>\n",
              "    <tr>\n",
              "      <th>398</th>\n",
              "      <td>Java Developer</td>\n",
              "      <td>computer skills: languages and script: jsp, se...</td>\n",
              "      <td>computer skills languages and script jsp servl...</td>\n",
              "      <td>15</td>\n",
              "      <td>896</td>\n",
              "      <td>computer skills languages and script jsp servl...</td>\n",
              "      <td>[{'label': 'LABEL_15', 'score': 0.602642595767...</td>\n",
              "      <td>12</td>\n",
              "      <td>15</td>\n",
              "    </tr>\n",
              "    <tr>\n",
              "      <th>249</th>\n",
              "      <td>Sales</td>\n",
              "      <td>skill sets: â¢ multi-tasking â¢ collaborativ...</td>\n",
              "      <td>skill sets  multitasking  collaborative  optim...</td>\n",
              "      <td>22</td>\n",
              "      <td>983</td>\n",
              "      <td>skill sets  multitasking  collaborative  optim...</td>\n",
              "      <td>[{'label': 'LABEL_12', 'score': 0.295739054679...</td>\n",
              "      <td>12</td>\n",
              "      <td>12</td>\n",
              "    </tr>\n",
              "    <tr>\n",
              "      <th>839</th>\n",
              "      <td>DotNet Developer</td>\n",
              "      <td>participated in intra college cricket competit...</td>\n",
              "      <td>participated in intra college cricket competit...</td>\n",
              "      <td>9</td>\n",
              "      <td>578</td>\n",
              "      <td>participated in intra college cricket competit...</td>\n",
              "      <td>[{'label': 'LABEL_1', 'score': 0.2845383584499...</td>\n",
              "      <td>12</td>\n",
              "      <td>1</td>\n",
              "    </tr>\n",
              "  </tbody>\n",
              "</table>\n",
              "</div>\n",
              "    <div class=\"colab-df-buttons\">\n",
              "\n",
              "  <div class=\"colab-df-container\">\n",
              "    <button class=\"colab-df-convert\" onclick=\"convertToInteractive('df-97a2de33-04a4-48e5-a1d3-e1885c15b838')\"\n",
              "            title=\"Convert this dataframe to an interactive table.\"\n",
              "            style=\"display:none;\">\n",
              "\n",
              "  <svg xmlns=\"http://www.w3.org/2000/svg\" height=\"24px\" viewBox=\"0 -960 960 960\">\n",
              "    <path d=\"M120-120v-720h720v720H120Zm60-500h600v-160H180v160Zm220 220h160v-160H400v160Zm0 220h160v-160H400v160ZM180-400h160v-160H180v160Zm440 0h160v-160H620v160ZM180-180h160v-160H180v160Zm440 0h160v-160H620v160Z\"/>\n",
              "  </svg>\n",
              "    </button>\n",
              "\n",
              "  <style>\n",
              "    .colab-df-container {\n",
              "      display:flex;\n",
              "      gap: 12px;\n",
              "    }\n",
              "\n",
              "    .colab-df-convert {\n",
              "      background-color: #E8F0FE;\n",
              "      border: none;\n",
              "      border-radius: 50%;\n",
              "      cursor: pointer;\n",
              "      display: none;\n",
              "      fill: #1967D2;\n",
              "      height: 32px;\n",
              "      padding: 0 0 0 0;\n",
              "      width: 32px;\n",
              "    }\n",
              "\n",
              "    .colab-df-convert:hover {\n",
              "      background-color: #E2EBFA;\n",
              "      box-shadow: 0px 1px 2px rgba(60, 64, 67, 0.3), 0px 1px 3px 1px rgba(60, 64, 67, 0.15);\n",
              "      fill: #174EA6;\n",
              "    }\n",
              "\n",
              "    .colab-df-buttons div {\n",
              "      margin-bottom: 4px;\n",
              "    }\n",
              "\n",
              "    [theme=dark] .colab-df-convert {\n",
              "      background-color: #3B4455;\n",
              "      fill: #D2E3FC;\n",
              "    }\n",
              "\n",
              "    [theme=dark] .colab-df-convert:hover {\n",
              "      background-color: #434B5C;\n",
              "      box-shadow: 0px 1px 3px 1px rgba(0, 0, 0, 0.15);\n",
              "      filter: drop-shadow(0px 1px 2px rgba(0, 0, 0, 0.3));\n",
              "      fill: #FFFFFF;\n",
              "    }\n",
              "  </style>\n",
              "\n",
              "    <script>\n",
              "      const buttonEl =\n",
              "        document.querySelector('#df-97a2de33-04a4-48e5-a1d3-e1885c15b838 button.colab-df-convert');\n",
              "      buttonEl.style.display =\n",
              "        google.colab.kernel.accessAllowed ? 'block' : 'none';\n",
              "\n",
              "      async function convertToInteractive(key) {\n",
              "        const element = document.querySelector('#df-97a2de33-04a4-48e5-a1d3-e1885c15b838');\n",
              "        const dataTable =\n",
              "          await google.colab.kernel.invokeFunction('convertToInteractive',\n",
              "                                                    [key], {});\n",
              "        if (!dataTable) return;\n",
              "\n",
              "        const docLinkHtml = 'Like what you see? Visit the ' +\n",
              "          '<a target=\"_blank\" href=https://colab.research.google.com/notebooks/data_table.ipynb>data table notebook</a>'\n",
              "          + ' to learn more about interactive tables.';\n",
              "        element.innerHTML = '';\n",
              "        dataTable['output_type'] = 'display_data';\n",
              "        await google.colab.output.renderOutput(dataTable, element);\n",
              "        const docLink = document.createElement('div');\n",
              "        docLink.innerHTML = docLinkHtml;\n",
              "        element.appendChild(docLink);\n",
              "      }\n",
              "    </script>\n",
              "  </div>\n",
              "\n",
              "\n",
              "<div id=\"df-8293a025-20b7-4ab0-8409-afe2cbf28b4a\">\n",
              "  <button class=\"colab-df-quickchart\" onclick=\"quickchart('df-8293a025-20b7-4ab0-8409-afe2cbf28b4a')\"\n",
              "            title=\"Suggest charts\"\n",
              "            style=\"display:none;\">\n",
              "\n",
              "<svg xmlns=\"http://www.w3.org/2000/svg\" height=\"24px\"viewBox=\"0 0 24 24\"\n",
              "     width=\"24px\">\n",
              "    <g>\n",
              "        <path d=\"M19 3H5c-1.1 0-2 .9-2 2v14c0 1.1.9 2 2 2h14c1.1 0 2-.9 2-2V5c0-1.1-.9-2-2-2zM9 17H7v-7h2v7zm4 0h-2V7h2v10zm4 0h-2v-4h2v4z\"/>\n",
              "    </g>\n",
              "</svg>\n",
              "  </button>\n",
              "\n",
              "<style>\n",
              "  .colab-df-quickchart {\n",
              "      --bg-color: #E8F0FE;\n",
              "      --fill-color: #1967D2;\n",
              "      --hover-bg-color: #E2EBFA;\n",
              "      --hover-fill-color: #174EA6;\n",
              "      --disabled-fill-color: #AAA;\n",
              "      --disabled-bg-color: #DDD;\n",
              "  }\n",
              "\n",
              "  [theme=dark] .colab-df-quickchart {\n",
              "      --bg-color: #3B4455;\n",
              "      --fill-color: #D2E3FC;\n",
              "      --hover-bg-color: #434B5C;\n",
              "      --hover-fill-color: #FFFFFF;\n",
              "      --disabled-bg-color: #3B4455;\n",
              "      --disabled-fill-color: #666;\n",
              "  }\n",
              "\n",
              "  .colab-df-quickchart {\n",
              "    background-color: var(--bg-color);\n",
              "    border: none;\n",
              "    border-radius: 50%;\n",
              "    cursor: pointer;\n",
              "    display: none;\n",
              "    fill: var(--fill-color);\n",
              "    height: 32px;\n",
              "    padding: 0;\n",
              "    width: 32px;\n",
              "  }\n",
              "\n",
              "  .colab-df-quickchart:hover {\n",
              "    background-color: var(--hover-bg-color);\n",
              "    box-shadow: 0 1px 2px rgba(60, 64, 67, 0.3), 0 1px 3px 1px rgba(60, 64, 67, 0.15);\n",
              "    fill: var(--button-hover-fill-color);\n",
              "  }\n",
              "\n",
              "  .colab-df-quickchart-complete:disabled,\n",
              "  .colab-df-quickchart-complete:disabled:hover {\n",
              "    background-color: var(--disabled-bg-color);\n",
              "    fill: var(--disabled-fill-color);\n",
              "    box-shadow: none;\n",
              "  }\n",
              "\n",
              "  .colab-df-spinner {\n",
              "    border: 2px solid var(--fill-color);\n",
              "    border-color: transparent;\n",
              "    border-bottom-color: var(--fill-color);\n",
              "    animation:\n",
              "      spin 1s steps(1) infinite;\n",
              "  }\n",
              "\n",
              "  @keyframes spin {\n",
              "    0% {\n",
              "      border-color: transparent;\n",
              "      border-bottom-color: var(--fill-color);\n",
              "      border-left-color: var(--fill-color);\n",
              "    }\n",
              "    20% {\n",
              "      border-color: transparent;\n",
              "      border-left-color: var(--fill-color);\n",
              "      border-top-color: var(--fill-color);\n",
              "    }\n",
              "    30% {\n",
              "      border-color: transparent;\n",
              "      border-left-color: var(--fill-color);\n",
              "      border-top-color: var(--fill-color);\n",
              "      border-right-color: var(--fill-color);\n",
              "    }\n",
              "    40% {\n",
              "      border-color: transparent;\n",
              "      border-right-color: var(--fill-color);\n",
              "      border-top-color: var(--fill-color);\n",
              "    }\n",
              "    60% {\n",
              "      border-color: transparent;\n",
              "      border-right-color: var(--fill-color);\n",
              "    }\n",
              "    80% {\n",
              "      border-color: transparent;\n",
              "      border-right-color: var(--fill-color);\n",
              "      border-bottom-color: var(--fill-color);\n",
              "    }\n",
              "    90% {\n",
              "      border-color: transparent;\n",
              "      border-bottom-color: var(--fill-color);\n",
              "    }\n",
              "  }\n",
              "</style>\n",
              "\n",
              "  <script>\n",
              "    async function quickchart(key) {\n",
              "      const quickchartButtonEl =\n",
              "        document.querySelector('#' + key + ' button');\n",
              "      quickchartButtonEl.disabled = true;  // To prevent multiple clicks.\n",
              "      quickchartButtonEl.classList.add('colab-df-spinner');\n",
              "      try {\n",
              "        const charts = await google.colab.kernel.invokeFunction(\n",
              "            'suggestCharts', [key], {});\n",
              "      } catch (error) {\n",
              "        console.error('Error during call to suggestCharts:', error);\n",
              "      }\n",
              "      quickchartButtonEl.classList.remove('colab-df-spinner');\n",
              "      quickchartButtonEl.classList.add('colab-df-quickchart-complete');\n",
              "    }\n",
              "    (() => {\n",
              "      let quickchartButtonEl =\n",
              "        document.querySelector('#df-8293a025-20b7-4ab0-8409-afe2cbf28b4a button');\n",
              "      quickchartButtonEl.style.display =\n",
              "        google.colab.kernel.accessAllowed ? 'block' : 'none';\n",
              "    })();\n",
              "  </script>\n",
              "</div>\n",
              "\n",
              "    </div>\n",
              "  </div>\n"
            ],
            "application/vnd.google.colaboratory.intrinsic+json": {
              "type": "dataframe",
              "variable_name": "val_df",
              "summary": "{\n  \"name\": \"val_df\",\n  \"rows\": 145,\n  \"fields\": [\n    {\n      \"column\": \"Category\",\n      \"properties\": {\n        \"dtype\": \"category\",\n        \"num_unique_values\": 25,\n        \"samples\": [\n          \"Web Designing\",\n          \"Python Developer\",\n          \"Network Security Engineer\"\n        ],\n        \"semantic_type\": \"\",\n        \"description\": \"\"\n      }\n    },\n    {\n      \"column\": \"Resume\",\n      \"properties\": {\n        \"dtype\": \"string\",\n        \"num_unique_values\": 97,\n        \"samples\": [\n          \"core competencies ~ ant ~ maven ~ git ~ bitbucket ~ jenkins ~ linux ~ ansible ~ shell scripting ~requirement gathering ~continuous integration and continuous deployment ~ software development life cycle ~ software testing life cycle ~ documentation & reporting ~ test reports it skills \\u00e2\\u0080\\u00a2 primary skills: dev-ops methodologies \\u00e2\\u0080\\u00a2 programming languages: c, core java \\u00e2\\u0080\\u00a2 version controls: git, bitbucket \\u00e2\\u0080\\u00a2 build tools: ant, maven \\u00e2\\u0080\\u00a2 ci/cd tools: jenkins \\u00e2\\u0080\\u00a2 configuration management: ansible \\u00e2\\u0080\\u00a2 scripting: shell script \\u00e2\\u0080\\u00a2 application servers: apache tomcat servereducation details \\r\\njune 2015 to june 2017 masters of science information technology hyderabad, telangana jntu\\r\\ndevops engineer \\r\\n\\r\\ndevops engineer - nendrasys technologies pvt ltd\\r\\nskill details \\r\\ndeployment- exprience - 27 months\\r\\ngit- exprience - 27 months\\r\\ndocumentation- exprience - 26 months\\r\\nchange management- exprience - 10 months\\r\\nconfiguration management- exprience - 10 monthscompany details \\r\\ncompany - nendrasys technologies pvt ltd\\r\\ndescription - date\\r\\n\\r\\nproject description:\\r\\nthe scope of the project is to design & develop e-commerce product features for sloan project. it's a basically b2b project where customer can buy all fixers, sinks related product. it focuses on the company, the stakeholders and applications, which allow for online sales, distribution and marketing of product.\\r\\n\\r\\nresponsibilities:\\r\\no detailed technical knowledge and hands-on experience on devops, automation, build engineering and configura -\\r\\ntion management.\\r\\no creating fully automated ci build and deployment infrastructure and processes for multiple projects.\\r\\no developing scripts for build, deployment, maintenance and related tasks using jenkins.\\r\\no installing, configuring and maintaining continuous integration, automation and configuration management tools.\\r\\no developing ant, maven and shell scripts to automatically compile, package, deploy war, ear and jar files of mul- tiple applications to various platforms.\\r\\no creating repositories, branches, managing the permissions of users and maintaining git, bitbucket\\r\\no deploying and maintaining the code and application respectively and configuring the components which increase the re-usability.\\r\\no working closely with architecture, development, test, security and it services teams.\\r\\no supporting business analysts in getting used to the newly created jobs and release activities.\\r\\no communicating daily with on-site team\\r\\no analyzing the requirements and identifying gaps & tracking logs, issues.\\r\\n\\r\\nproject 2\\r\\n\\r\\nnendrasys technologies pvt ltd.,\\r\\nproject name: bangkok bank limited (bbl) thaitrade (commercial, e-commerce & payment portal)\\r\\ncompany - nendrasys technologies pvt ltd\\r\\ndescription - role: devops engineer\\r\\n\\u00e2\\u0080\\u00a2 devops engineer for a team that involved different development teams and multiple simultaneous software re- leases\\r\\n\\u00e2\\u0080\\u00a2 participated in weekly release meetings with different teams to identify and mitigate potential risks associated with the releases.\\r\\n\\u00e2\\u0080\\u00a2 responsible for creating repositories, branches, managing the permissions of users and maintaining git.\\r\\n\\u00e2\\u0080\\u00a2 creating fully automated ci build and deployment infrastructure and processes for multiple projects.\\r\\n\\u00e2\\u0080\\u00a2 analyze and resolve conflicts related to merging of source code for git\\r\\n\\u00e2\\u0080\\u00a2 responsible for creating ant and maven scripts for build automation.\\r\\n\\u00e2\\u0080\\u00a2 implemented the setup for master slave architecture to improve the performance of jenkins.\\r\\n\\u00e2\\u0080\\u00a2 handled end-to-end deployments and code propagation's across different environments, dev to prod.\\r\\n\\u00e2\\u0080\\u00a2 handled the tasks of developing and maintaining the change tasks.\\r\\n\\u00e2\\u0080\\u00a2 closely working with developers, qa, performance, uat testers, it team.\\r\\n\\u00e2\\u0080\\u00a2 created and maintained documentation of build and release processes and application configuration\\r\\n\\u00e2\\u0080\\u00a2 coordinated with developers, business analyst and mangers to make sure that code is deployed in the production\\r\\nenvironment.\\r\\n\\r\\nproject 1\\r\\nnendrasys technologies pvt ltd.,\\r\\nproject name: sloan global holdings (sloan) (e-commerce)\\r\\ncompany - nendrasys technologies pvt ltd\\r\\ndescription - project description:\\r\\nbbl is development of an e-commerce payment portal system. as such bbl require a system which can support multiple\\r\\nmerchants b2b/b2c e-commerce portal with various payment options via both online and offline. to achieve this bbl had\\r\\nmade an agreement with thai trade, thai trade is one of the leading e-commerce website recognized by thai\\r\\ngovernment. in present thai trade has a good base of users and sellers in several categories .the scope of the project is to design and develop e-commerce product features for bblwtp project. it focuses on the company, the stakeholders and\\r\\napplications, which allow for online sales, distribution and marketing of electronics.\\r\\n\\r\\nresponsibilities:\\r\\no plan and track activities involved for build and deployment.\\r\\no resolving build issues\\r\\no developing scripts for build, deployment, maintenance and related tasks using jenkins.\\r\\no collaboration with development, qa, product managements on build plans & schedules\\r\\no send daily and weekly reports to the team.\\r\\no involved in creating repositories, branches, merging activities, backup and restore activities in subversion\\r\\nservers.\\r\\no maintenance of maven, shell scripts for safe builds and deploys.\",\n          \"area of expertise (profile) around 10 plus years' proven experience with best global brand wipro with below expertise:- \\u00e2\\u0080\\u00a2 pmo \\u00e2\\u0080\\u00a2 itil management \\u00e2\\u0080\\u00a2 process improvements \\u00e2\\u0080\\u00a2 project process audits \\u00e2\\u0080\\u00a2 planning, scheduling, effort/issue/risk tracking \\u00e2\\u0080\\u00a2 risk & issue management \\u00e2\\u0080\\u00a2 sla management \\u00e2\\u0080\\u00a2 workforce (staffing) resource management. \\u00e2\\u0080\\u00a2 transition \\u00e2\\u0080\\u00a2 operations management skills project management tools: ca clarity, visio and office, itil -incident management, recruitment and workforce management technical: sap- hr, mrs, cpro, confluence, microsoft office, word, powerpoint.excellent knowledge & hands on experience in advanced ms excel (knowledge on ms project, sharepoint reporting & ticket tool: xtraction, ca service desk, i-tracker, education details \\r\\n mba hr and finance bengaluru, karnataka rkims college\\r\\nsenior executive pmo \\r\\n\\r\\nsenior executive pmo consultant\\r\\nskill details \\r\\noperations- exprience - 125 months\\r\\nstaffing- exprience - 125 months\\r\\nhr- exprience - 79 months\\r\\npmo- exprience - 84 monthscompany details \\r\\ncompany - ensono llp\\r\\ndescription - roles &responsiblites\\r\\n\\u00e2\\u00a0\\r\\n\\u00e3\\u0098\\u00e2\\u00a0responsible for creation of structured reports and present the same as to senior deliery management as per the business requirements.\\r\\n\\u00e3\\u0098\\u00e2\\u00a0design and draft various reports as per the business requirements.\\r\\n\\u00e3\\u0098\\u00e2\\u00a0responsible for creation of mom, chasing people and getting the sla driven on time by achieving the targets and results on time.\\r\\n\\u00e3\\u0098\\u00e2\\u00a0assist the project managers in creating the rr\\u00e2\\u0080\\u0099s deputation, invoicings, billing activites.\\r\\n\\u00e3\\u0098\\u00e2\\u00a0maintaining clarity and sharepoint data for service delivery management\\r\\n\\u00e3\\u0098\\u00e2\\u00a0perform customer invocing at the direction of the cem and sdm.\\r\\n\\u00e3\\u0098\\u00e2\\u00a0weekly preparation of sla and kpi data based on the manual tracker & sharing with client & senior management.\\r\\n\\u00e3\\u0098\\u00e2\\u00a0project implementation management, invoicing and billing management, and participate in establishing client\\u00e2\\u0080\\u0099s contractual documentation\\r\\n\\u00e3\\u0098\\u00e2\\u00a0experience in various delivery models like managed services, fixed price, t&m, sla based risk and penalty is required.\\r\\n\\u00e3\\u0098\\u00e2\\u00a0manage the sla targets and save penalty towards customers . drive sla calls with 80 plus customers with multiple towers.\\r\\n\\u00e3\\u0098\\u00e2\\u00a0spoc for time on floor analysis (tofa) report & highlighting the employee tailgating data to high level management\\r\\n\\u00e3\\u0098\\u00e2\\u00a0ensure for any compliance related issue and floor maintenance\\r\\n\\u00e3\\u0098\\u00e2\\u00a0ensure asall\\u00e2\\u00a0joining formalities and on boarding activities for new employees.\\r\\n\\u00e3\\u0098\\u00e2\\u00a0identify and drivekey metrics like billing efficiency, resource utilization.\\r\\n\\u00e3\\u0098\\u00e2\\u00a0maintain the project library, filing, recording and reporting systems.\\r\\n\\u00e3\\u0098\\u00e2\\u00a0monitor project progress, risks, roadblocks, and opportunities and manage communications to stakeholders.\\r\\n\\u00e3\\u0098\\u00e2\\u00a0develop flow charts /sop\\u00e2\\u0080\\u0099s ad maintain the process changes database& monitor the severity calls.\\r\\n\\u00e3\\u0098\\u00e2\\u00a0prepare monthly reports operational report, capacity/utilization report, timesheet report, sla compliancereport. quarterly report operational report (quarter trends)\\r\\n internal report allowances, billing reports, repository maintenance of documents.create project/ sub-project plans & monitor progress against schedule, maintain risk & issue logs\\r\\n\\u00e3\\u0098\\u00e2\\u00a0actively participate in the project management communities\\r\\n\\u00e3\\u0098\\u00e2\\u00a0responsible for project cost, schedule, budget, revenue& milestone progress.\\r\\ncompany - wipro technology\\r\\ndescription - roles &responsiblites\\r\\n\\u00e2\\u00a0\\r\\n\\u00e3\\u0098\\u00e2\\u00a0responsible for creation of structured reports and present the same as to senior deliery management as per the business requirements.\\r\\n\\u00e3\\u0098\\u00e2\\u00a0design and draft various reports as per the business requirements.\\r\\n\\u00e3\\u0098\\u00e2\\u00a0responsible for creation of mom, chasing people and getting the sla driven on time by achieving the targets and results on time.\\r\\n\\u00e3\\u0098\\u00e2\\u00a0assist the project managers in creating the rr\\u00e2\\u0080\\u0099s deputation, invoicings, billing activites.\\r\\n\\u00e3\\u0098\\u00e2\\u00a0maintaining clarity and sharepoint data for service delivery management\\r\\n\\u00e3\\u0098\\u00e2\\u00a0perform customer invocing at the direction of the cem and sdm.\\r\\n\\u00e3\\u0098\\u00e2\\u00a0weekly preparation of sla and kpi data based on the manual tracker & sharing with client & senior management.\\r\\n\\u00e3\\u0098\\u00e2\\u00a0project implementation management, invoicing and billing management, and participate in establishing client\\u00e2\\u0080\\u0099s contractual documentation\\r\\n\\u00e3\\u0098\\u00e2\\u00a0experience in various delivery models like managed services, fixed price, t&m, sla based risk and penalty is required.\\r\\n\\u00e3\\u0098\\u00e2\\u00a0manage the sla targets and save penalty towards customers . drive sla calls with 80 plus customers with multiple towers.\\r\\n\\u00e3\\u0098\\u00e2\\u00a0spoc for time on floor analysis (tofa) report & highlighting the employee tailgating data to high level management\\r\\n\\u00e3\\u0098\\u00e2\\u00a0ensure for any compliance related issue and floor maintenance\\r\\n\\u00e3\\u0098\\u00e2\\u00a0ensure asall\\u00e2\\u00a0joining formalities and on boarding activities for new employees.\\r\\n\\u00e3\\u0098\\u00e2\\u00a0identify and drivekey metrics like billing efficiency, resource utilization.\\r\\n\\u00e3\\u0098\\u00e2\\u00a0maintain the project library, filing, recording and reporting systems.\\r\\n\\u00e3\\u0098\\u00e2\\u00a0monitor project progress, risks, roadblocks, and opportunities and manage communications to stakeholders.\\r\\n\\u00e3\\u0098\\u00e2\\u00a0develop flow charts /sop\\u00e2\\u0080\\u0099s ad maintain the process changes database& monitor the severity calls.\\r\\n\\u00e3\\u0098\\u00e2\\u00a0prepare monthly reports operational report, capacity/utilization report, timesheet report, sla compliancereport. quarterly report operational report (quarter trends)\\r\\n internal report allowances, billing reports, repository maintenance of documents.create project/ sub-project plans & monitor progress against schedule, maintain risk & issue logs\\r\\n\\u00e3\\u0098\\u00e2\\u00a0actively participate in the project management communities\\r\\n\\u00e3\\u0098\\u00e2\\u00a0responsible for project cost, schedule, budget, revenue& milestone progress.\\r\\ncompany - wipro infotech\\r\\ndescription - responsibilities\\r\\n\\u00e2\\u0080\\u00a2 monitor and manage the headcount actual vs plan for the region to maintain the headcount ratio with the revenue.\\r\\n\\u00e2\\u0080\\u00a2 maintain and monitor the correct tagging in sap (project tagging, supervisor tagging, org unit and cost center) for the region so that the financials are maintained properly.\\r\\n\\u00e2\\u0080\\u00a2 responsible in providing the exact and accurate headcount report for gm calculation.\\r\\n\\u00e2\\u0080\\u00a2 responsible in managing the bench management and deploy the resource.\\r\\n\\u00e2\\u0080\\u00a2 responsible in managing and driving tenure management for the eligible employee and deploy them according to their aspiration and business need.\\r\\n\\u00e2\\u0080\\u00a2 responsible in hiring and maintaining the rookie ratio for the location and actively track their training and deploy them.\\r\\n\\u00e2\\u0080\\u00a2 analyze past volume and staffing patterns and will implement the actions based on the forecast provided so that the resource crunch can be addressed and the make sure the availability of the resources on time for go live.\\r\\n\\u00e2\\u0080\\u00a2 validate the head count plan for the project and work with stake holders (service delivery managers) in optimizing the resources.\\r\\n\\u00e2\\u0080\\u00a2 ensure all required wfm data is tracked and trended on a continuous basis by the nld team.\\r\\n\\u00e2\\u0080\\u00a2 identify the resource that had completed tenure with the project and plan their training with the help of training team and elevate them to higher roles and back fill the same with the rookie's (trb, te, wims, and sims)\\r\\n\\u00e2\\u0080\\u00a2 interface with service delivery managers/director as needed for escalation on service impacting issues due to resource availability.\\r\\n\\u00e2\\u0080\\u00a2 coordinates with stake holders of operations to interface with client and handle account management issues and add resources as per the requirement.\\r\\n\\u00e2\\u0080\\u00a2 manages the staff schedules and responsibilities of workforce management team for the region/bu.\\r\\n\\u00e2\\u0080\\u00a2 prepare daily/weekly/monthly reports and distribute to the management team.\\r\\n\\u00e2\\u0080\\u00a2 manages staffing ratios and seat utilization/optimization to ensure project goals are met. builds effective working relationships with internal departments.\\r\\n\\u00e2\\u0080\\u00a2 take care of special projects (pwd) and rookie hiring model, training, deployment.\\r\\n\\r\\npersonal detail\\r\\ndob: 21/03/1986\\r\\npan: awvpb7123n\\r\\npassport: j1409038\\r\\nlinguistic ability: english, hindi, marathi, kannada and konkani\\r\\nlocation: pune, india\\r\\nmarital status: married\",\n          \"technical skill set big data ecosystems: hadoop, hdfs, hbase, map reduce, sqoop, hive, pig, spark-core, flume. other language: scala, core-java, sql, plsql, sell scripting etl tools: informatica power center8.x/9.6, talend 5.6 tools: eclipse, intellij idea. platforms: windows family, linux /unix, cloudera. databases: mysql, oracle.10/11geducation details \\r\\n m.c.a  pune, maharashtra, in pune university\\r\\nhodoop developer \\r\\n\\r\\nhodoop developer - prgx india private limited pune\\r\\nskill details \\r\\ncompany details \\r\\ncompany - prgx india private limited pune\\r\\ndescription - team size: 10+\\r\\nenvironment: hive, spark, sqoop, scala and flume.\\r\\n\\r\\nproject description:\\r\\nthe bank wanted to help its customers to avail different products of the bank through analyzing their expenditure behavior. the customers spending ranges from online shopping, medical expenses in hospitals, cash transactions, and debit card usage etc. the behavior allows the bank to create an analytical report and based on which the bank used to display the product offers on the customer portal which was built using java. the portal allows the customers to login and see their transactions which they make on a day to day basis .the analytics also help the customers plan their budgets through the budget watch and my financial forecast applications embedded into the portal. the portal used hadoop framework to analyes the data as per the rules and regulations placed by the regulators from the respective countries. the offers and the interest rates also complied with the regulations and all these processing was done using the hadoop framework as big data analytics system.\\r\\n\\r\\nrole & responsibilities:\\r\\n\\u00e2\\u009d\\u0096 import data from legacy system to hadoop using sqoop, flume.\\r\\n\\u00e2\\u009d\\u0096 implement the business logic to analyses  the data\\r\\n\\u00e2\\u009d\\u0096 per-process data using spark.\\r\\n\\u00e2\\u009d\\u0096 create hive script and loading data into hive.\\r\\n\\u00e2\\u009d\\u0096 sourcing various attributes to the data processing logic to retrieve the correct results.\\r\\n\\r\\nproject 2\\r\\ncompany - prgx india private limited pune\\r\\ndescription - \\r\\ncompany - prgx india private limited pune\\r\\ndescription - team size: 11+\\r\\nenvironment: hadoop, hdfs, hive, sqoop, mysql, map reduce\\r\\n\\r\\nproject description:-\\r\\nthe purpose of this project is to store terabytes of information from the web application and extract meaningful information out of it.the solution was based on the open source s/w hadoop. the data will be stored in hadoop file system and processed using map/reduce jobs. which in trun includes getting the raw html data from the micro websites, process the html to obtain product and user information, extract various reports out of the vistor tracking information and export the information for further processing\\r\\n\\r\\nrole & responsibilities:\\r\\n\\u00e2\\u009d\\u0096 move all crawl data flat files generated from various micro sites to hdfs for further processing.\\r\\n\\u00e2\\u009d\\u0096 sqoop implementation for interaction with database\\r\\n\\u00e2\\u009d\\u0096 write map reduce scripts to process the data file.\\r\\n\\u00e2\\u009d\\u0096 create hive tables to store the processed data in tabular formats.\\r\\n\\u00e2\\u009d\\u0096 reports creation from hive data.\\r\\n\\r\\nproject 3\\r\\ncompany - prgx india private limited pune\\r\\ndescription - team size: 15+\\r\\nenvironment: informatica 9.5, oracle11g, unix\\r\\n\\r\\nproject description:\\r\\npfizer inc. is an american global pharmaceutical corporation headquartered in new york city. the main objective of the project is to build a development data repository for pfizer inc. because all the downstream application are like etrack, tsp database, rts, sadms, gfs, gdo having their own sql request on the oltp system directly due to which the performance of oltp system goes slows down. for this we have created a development data repository to replace the entire sql request directly on the oltp system. ddr process extracts all clinical, pre-clinical, study, product, subject, sites related information from the upstream applications like epecs, cdss, rcm, prc, e-clinical, edh and after applying some business logic put it into ddr core tables. from these snapshot and dimensional layer are created which are used for reporting application.\\r\\n\\r\\nrole & responsibilities:\\r\\n\\u00e2\\u009d\\u0096 to understand & analyze the requirement documents and resolve the queries.\\r\\n\\u00e2\\u009d\\u0096 to design informatica mappings by using various basic transformations like filter, router, source qualifier, lookup etc and advance transformations like aggregators, joiner, sorters and so on.\\r\\n\\u00e2\\u009d\\u0096 perform cross unit and integration testing for mappings developed within the team. reporting bugs and bug fixing.\\r\\n\\u00e2\\u009d\\u0096 create workflow/batches and set the session dependencies.\\r\\n\\u00e2\\u009d\\u0096 implemented change data capture using mapping parameters, scd and sk generation.\\r\\n\\u00e2\\u009d\\u0096 developed mapplet, reusable transformations to populate the data into data warehouse.\\r\\n\\u00e2\\u009d\\u0096 created sessions & worklets using workflow manager to load the data into the target database.\\r\\n\\u00e2\\u009d\\u0096 involved in unit case testing (utc)\\r\\n\\u00e2\\u009d\\u0096 performing unit testing and uat for scd type1/type2, fact load and cdc implementation.\\r\\n\\r\\npersonal scan\\r\\n\\r\\naddress: jijayi heights, flat no 118, narhe, (police chowki) pune- 411041\"\n        ],\n        \"semantic_type\": \"\",\n        \"description\": \"\"\n      }\n    },\n    {\n      \"column\": \"Cleaned_Resume\",\n      \"properties\": {\n        \"dtype\": \"string\",\n        \"num_unique_values\": 97,\n        \"samples\": [\n          \"core competencies  ant  maven  git  bitbucket  jenkins  linux  ansible  shell scripting requirement gathering continuous integration and continuous deployment  software development life cycle  software testing life cycle  documentation  reporting  test reports it skills  primary skills devops methodologies  programming languages c core java  version controls git bitbucket  build tools ant maven  cicd tools jenkins  configuration management ansible  scripting shell script  application servers apache tomcat servereducation details june 2015 to june 2017 masters of science information technology hyderabad telangana jntudevops engineer devops engineer  nendrasys technologies pvt ltdskill details deployment exprience  27 monthsgit exprience  27 monthsdocumentation exprience  26 monthschange management exprience  10 monthsconfiguration management exprience  10 monthscompany details company  nendrasys technologies pvt ltddescription  dateproject descriptionthe scope of the project is to design  develop ecommerce product features for sloan project its a basically b2b project where customer can buy all fixers sinks related product it focuses on the company the stakeholders and applications which allow for online sales distribution and marketing of productresponsibilitieso detailed technical knowledge and handson experience on devops automation build engineering and configura tion managemento creating fully automated ci build and deployment infrastructure and processes for multiple projectso developing scripts for build deployment maintenance and related tasks using jenkinso installing configuring and maintaining continuous integration automation and configuration management toolso developing ant maven and shell scripts to automatically compile package deploy war ear and jar files of mul tiple applications to various platformso creating repositories branches managing the permissions of users and maintaining git bitbucketo deploying and maintaining the code and application respectively and configuring the components which increase the reusabilityo working closely with architecture development test security and it services teamso supporting business analysts in getting used to the newly created jobs and release activitieso communicating daily with onsite teamo analyzing the requirements and identifying gaps  tracking logs issuesproject 2nendrasys technologies pvt ltdproject name bangkok bank limited bbl thaitrade commercial ecommerce  payment portalcompany  nendrasys technologies pvt ltddescription  role devops engineer devops engineer for a team that involved different development teams and multiple simultaneous software re leases participated in weekly release meetings with different teams to identify and mitigate potential risks associated with the releases responsible for creating repositories branches managing the permissions of users and maintaining git creating fully automated ci build and deployment infrastructure and processes for multiple projects analyze and resolve conflicts related to merging of source code for git responsible for creating ant and maven scripts for build automation implemented the setup for master slave architecture to improve the performance of jenkins handled endtoend deployments and code propagations across different environments dev to prod handled the tasks of developing and maintaining the change tasks closely working with developers qa performance uat testers it team created and maintained documentation of build and release processes and application configuration coordinated with developers business analyst and mangers to make sure that code is deployed in the productionenvironmentproject 1nendrasys technologies pvt ltdproject name sloan global holdings sloan ecommercecompany  nendrasys technologies pvt ltddescription  project descriptionbbl is development of an ecommerce payment portal system as such bbl require a system which can support multiplemerchants b2bb2c ecommerce portal with various payment options via both online and offline to achieve this bbl hadmade an agreement with thai trade thai trade is one of the leading ecommerce website recognized by thaigovernment in present thai trade has a good base of users and sellers in several categories the scope of the project is to design and develop ecommerce product features for bblwtp project it focuses on the company the stakeholders andapplications which allow for online sales distribution and marketing of electronicsresponsibilitieso plan and track activities involved for build and deploymento resolving build issueso developing scripts for build deployment maintenance and related tasks using jenkinso collaboration with development qa product managements on build plans  scheduleso send daily and weekly reports to the teamo involved in creating repositories branches merging activities backup and restore activities in subversionserverso maintenance of maven shell scripts for safe builds and deploys\",\n          \"area of expertise profile around 10 plus years proven experience with best global brand wipro with below expertise  pmo  itil management  process improvements  project process audits  planning scheduling effortissuerisk tracking  risk  issue management  sla management  workforce staffing resource management  transition  operations management skills project management tools ca clarity visio and office itil incident management recruitment and workforce management technical sap hr mrs cpro confluence microsoft office word powerpointexcellent knowledge  hands on experience in advanced ms excel knowledge on ms project sharepoint reporting  ticket tool xtraction ca service desk itracker education details  mba hr and finance bengaluru karnataka rkims collegesenior executive pmo senior executive pmo consultantskill details operations exprience  125 monthsstaffing exprience  125 monthshr exprience  79 monthspmo exprience  84 monthscompany details company  ensono llpdescription  roles responsiblitesresponsible for creation of structured reports and present the same as to senior deliery management as per the business requirementsdesign and draft various reports as per the business requirementsresponsible for creation of mom chasing people and getting the sla driven on time by achieving the targets and results on timeassist the project managers in creating the rrs deputation invoicings billing activitesmaintaining clarity and sharepoint data for service delivery managementperform customer invocing at the direction of the cem and sdmweekly preparation of sla and kpi data based on the manual tracker  sharing with client  senior managementproject implementation management invoicing and billing management and participate in establishing clients contractual documentationexperience in various delivery models like managed services fixed price tm sla based risk and penalty is requiredmanage the sla targets and save penalty towards customers  drive sla calls with 80 plus customers with multiple towersspoc for time on floor analysis tofa report  highlighting the employee tailgating data to high level managementensure for any compliance related issue and floor maintenanceensure asalljoining formalities and on boarding activities for new employeesidentify and drivekey metrics like billing efficiency resource utilizationmaintain the project library filing recording and reporting systemsmonitor project progress risks roadblocks and opportunities and manage communications to stakeholdersdevelop flow charts sops ad maintain the process changes database monitor the severity callsprepare monthly reports operational report capacityutilization report timesheet report sla compliancereport quarterly report operational report quarter trends internal report allowances billing reports repository maintenance of documentscreate project subproject plans  monitor progress against schedule maintain risk  issue logsactively participate in the project management communitiesresponsible for project cost schedule budget revenue milestone progresscompany  wipro technologydescription  roles responsiblitesresponsible for creation of structured reports and present the same as to senior deliery management as per the business requirementsdesign and draft various reports as per the business requirementsresponsible for creation of mom chasing people and getting the sla driven on time by achieving the targets and results on timeassist the project managers in creating the rrs deputation invoicings billing activitesmaintaining clarity and sharepoint data for service delivery managementperform customer invocing at the direction of the cem and sdmweekly preparation of sla and kpi data based on the manual tracker  sharing with client  senior managementproject implementation management invoicing and billing management and participate in establishing clients contractual documentationexperience in various delivery models like managed services fixed price tm sla based risk and penalty is requiredmanage the sla targets and save penalty towards customers  drive sla calls with 80 plus customers with multiple towersspoc for time on floor analysis tofa report  highlighting the employee tailgating data to high level managementensure for any compliance related issue and floor maintenanceensure asalljoining formalities and on boarding activities for new employeesidentify and drivekey metrics like billing efficiency resource utilizationmaintain the project library filing recording and reporting systemsmonitor project progress risks roadblocks and opportunities and manage communications to stakeholdersdevelop flow charts sops ad maintain the process changes database monitor the severity callsprepare monthly reports operational report capacityutilization report timesheet report sla compliancereport quarterly report operational report quarter trends internal report allowances billing reports repository maintenance of documentscreate project subproject plans  monitor progress against schedule maintain risk  issue logsactively participate in the project management communitiesresponsible for project cost schedule budget revenue milestone progresscompany  wipro infotechdescription  responsibilities monitor and manage the headcount actual vs plan for the region to maintain the headcount ratio with the revenue maintain and monitor the correct tagging in sap project tagging supervisor tagging org unit and cost center for the region so that the financials are maintained properly responsible in providing the exact and accurate headcount report for gm calculation responsible in managing the bench management and deploy the resource responsible in managing and driving tenure management for the eligible employee and deploy them according to their aspiration and business need responsible in hiring and maintaining the rookie ratio for the location and actively track their training and deploy them analyze past volume and staffing patterns and will implement the actions based on the forecast provided so that the resource crunch can be addressed and the make sure the availability of the resources on time for go live validate the head count plan for the project and work with stake holders service delivery managers in optimizing the resources ensure all required wfm data is tracked and trended on a continuous basis by the nld team identify the resource that had completed tenure with the project and plan their training with the help of training team and elevate them to higher roles and back fill the same with the rookies trb te wims and sims interface with service delivery managersdirector as needed for escalation on service impacting issues due to resource availability coordinates with stake holders of operations to interface with client and handle account management issues and add resources as per the requirement manages the staff schedules and responsibilities of workforce management team for the regionbu prepare dailyweeklymonthly reports and distribute to the management team manages staffing ratios and seat utilizationoptimization to ensure project goals are met builds effective working relationships with internal departments take care of special projects pwd and rookie hiring model training deploymentpersonal detaildob 21031986pan awvpb7123npassport j1409038linguistic ability english hindi marathi kannada and konkanilocation pune indiamarital status married\",\n          \"technical skill set big data ecosystems hadoop hdfs hbase map reduce sqoop hive pig sparkcore flume other language scala corejava sql plsql sell scripting etl tools informatica power center8x96 talend 56 tools eclipse intellij idea platforms windows family linux unix cloudera databases mysql oracle1011geducation details  mca  pune maharashtra in pune universityhodoop developer hodoop developer  prgx india private limited puneskill details company details company  prgx india private limited punedescription  team size 10environment hive spark sqoop scala and flumeproject descriptionthe bank wanted to help its customers to avail different products of the bank through analyzing their expenditure behavior the customers spending ranges from online shopping medical expenses in hospitals cash transactions and debit card usage etc the behavior allows the bank to create an analytical report and based on which the bank used to display the product offers on the customer portal which was built using java the portal allows the customers to login and see their transactions which they make on a day to day basis the analytics also help the customers plan their budgets through the budget watch and my financial forecast applications embedded into the portal the portal used hadoop framework to analyes the data as per the rules and regulations placed by the regulators from the respective countries the offers and the interest rates also complied with the regulations and all these processing was done using the hadoop framework as big data analytics systemrole  responsibilities import data from legacy system to hadoop using sqoop flume implement the business logic to analyses  the data perprocess data using spark create hive script and loading data into hive sourcing various attributes to the data processing logic to retrieve the correct resultsproject 2company  prgx india private limited punedescription  company  prgx india private limited punedescription  team size 11environment hadoop hdfs hive sqoop mysql map reduceproject descriptionthe purpose of this project is to store terabytes of information from the web application and extract meaningful information out of itthe solution was based on the open source sw hadoop the data will be stored in hadoop file system and processed using mapreduce jobs which in trun includes getting the raw html data from the micro websites process the html to obtain product and user information extract various reports out of the vistor tracking information and export the information for further processingrole  responsibilities move all crawl data flat files generated from various micro sites to hdfs for further processing sqoop implementation for interaction with database write map reduce scripts to process the data file create hive tables to store the processed data in tabular formats reports creation from hive dataproject 3company  prgx india private limited punedescription  team size 15environment informatica 95 oracle11g unixproject descriptionpfizer inc is an american global pharmaceutical corporation headquartered in new york city the main objective of the project is to build a development data repository for pfizer inc because all the downstream application are like etrack tsp database rts sadms gfs gdo having their own sql request on the oltp system directly due to which the performance of oltp system goes slows down for this we have created a development data repository to replace the entire sql request directly on the oltp system ddr process extracts all clinical preclinical study product subject sites related information from the upstream applications like epecs cdss rcm prc eclinical edh and after applying some business logic put it into ddr core tables from these snapshot and dimensional layer are created which are used for reporting applicationrole  responsibilities to understand  analyze the requirement documents and resolve the queries to design informatica mappings by using various basic transformations like filter router source qualifier lookup etc and advance transformations like aggregators joiner sorters and so on perform cross unit and integration testing for mappings developed within the team reporting bugs and bug fixing create workflowbatches and set the session dependencies implemented change data capture using mapping parameters scd and sk generation developed mapplet reusable transformations to populate the data into data warehouse created sessions  worklets using workflow manager to load the data into the target database involved in unit case testing utc performing unit testing and uat for scd type1type2 fact load and cdc implementationpersonal scanaddress jijayi heights flat no 118 narhe police chowki pune 411041\"\n        ],\n        \"semantic_type\": \"\",\n        \"description\": \"\"\n      }\n    },\n    {\n      \"column\": \"label\",\n      \"properties\": {\n        \"dtype\": \"number\",\n        \"std\": 7,\n        \"min\": 0,\n        \"max\": 24,\n        \"num_unique_values\": 25,\n        \"samples\": [\n          24,\n          20,\n          17\n        ],\n        \"semantic_type\": \"\",\n        \"description\": \"\"\n      }\n    },\n    {\n      \"column\": \"Count\",\n      \"properties\": {\n        \"dtype\": \"number\",\n        \"std\": 2499,\n        \"min\": 155,\n        \"max\": 12745,\n        \"num_unique_values\": 96,\n        \"samples\": [\n          1453,\n          1894,\n          4304\n        ],\n        \"semantic_type\": \"\",\n        \"description\": \"\"\n      }\n    },\n    {\n      \"column\": \"Cleaned_Resume_Short\",\n      \"properties\": {\n        \"dtype\": \"string\",\n        \"num_unique_values\": 97,\n        \"samples\": [\n          \"core competencies  ant  maven  git  bitbucket  jenkins  linux  ansible  shell scripting requirement gathering continuous integration and continuous deployment  software development life cycle  software testing life cycle  documentation  reporting  test reports it skills  primary skills devops methodologies  programming languages c core java  version controls git bitbucket  build tools ant maven  cicd tools jenkins  configuration management ansible  scripting shell script  application servers apache tomcat \",\n          \"area of expertise profile around 10 plus years proven experience with best global brand wipro with below expertise  pmo  itil management  process improvements  project process audits  planning scheduling effortissuerisk tracking  risk  issue management  sla management  workforce staffing resource management  transition  operations management skills project management tools ca clarity visio and office itil incident management recruitment and workforce management technical sap hr mrs cpro confluence microsof\",\n          \"technical skill set big data ecosystems hadoop hdfs hbase map reduce sqoop hive pig sparkcore flume other language scala corejava sql plsql sell scripting etl tools informatica power center8x96 talend 56 tools eclipse intellij idea platforms windows family linux unix cloudera databases mysql oracle1011geducation details  mca  pune maharashtra in pune universityhodoop developer hodoop developer  prgx india private limited puneskill details company details company  prgx india private limited punedescription \"\n        ],\n        \"semantic_type\": \"\",\n        \"description\": \"\"\n      }\n    },\n    {\n      \"column\": \"label_pred\",\n      \"properties\": {\n        \"dtype\": \"object\",\n        \"semantic_type\": \"\",\n        \"description\": \"\"\n      }\n    },\n    {\n      \"column\": \"label_pred_1\",\n      \"properties\": {\n        \"dtype\": \"number\",\n        \"std\": 0,\n        \"min\": 12,\n        \"max\": 12,\n        \"num_unique_values\": 1,\n        \"samples\": [\n          12\n        ],\n        \"semantic_type\": \"\",\n        \"description\": \"\"\n      }\n    },\n    {\n      \"column\": \"label_pred_2\",\n      \"properties\": {\n        \"dtype\": \"number\",\n        \"std\": 4,\n        \"min\": 1,\n        \"max\": 24,\n        \"num_unique_values\": 13,\n        \"samples\": [\n          8\n        ],\n        \"semantic_type\": \"\",\n        \"description\": \"\"\n      }\n    }\n  ]\n}"
            }
          },
          "metadata": {},
          "execution_count": 85
        }
      ]
    },
    {
      "cell_type": "markdown",
      "source": [],
      "metadata": {
        "id": "VfnTN2FYOQwH"
      }
    },
    {
      "cell_type": "code",
      "source": [
        "val_df['Cleaned_Resume_Short'] = val_df['Cleaned_Resume'].str.slice(0,511)"
      ],
      "metadata": {
        "id": "lCAjJ2jnnKWZ"
      },
      "execution_count": null,
      "outputs": []
    },
    {
      "cell_type": "code",
      "source": [
        "val_df[\"label_pred\"] = val_df.apply(lambda x: make_prediction(x['Cleaned_Resume_Short']), axis=1)"
      ],
      "metadata": {
        "id": "7QUiRZgJnLoi"
      },
      "execution_count": null,
      "outputs": []
    },
    {
      "cell_type": "code",
      "source": [
        "val_df['label_pred'][668][0]['label'][6:]"
      ],
      "metadata": {
        "colab": {
          "base_uri": "https://localhost:8080/",
          "height": 36
        },
        "id": "sWUD71UhOpGk",
        "outputId": "5ee6fc88-cf93-425c-91de-f8b2688c3447"
      },
      "execution_count": null,
      "outputs": [
        {
          "output_type": "execute_result",
          "data": {
            "text/plain": [
              "'15'"
            ],
            "application/vnd.google.colaboratory.intrinsic+json": {
              "type": "string"
            }
          },
          "metadata": {},
          "execution_count": 92
        }
      ]
    },
    {
      "cell_type": "code",
      "source": [
        "val_df['label_pred_2'] = val_df['label_pred'].apply(lambda x: x[0]['label'][6:])"
      ],
      "metadata": {
        "id": "FdsaX_ulPN9n"
      },
      "execution_count": null,
      "outputs": []
    },
    {
      "cell_type": "code",
      "source": [
        "val_df['label_pred_2'].unique()"
      ],
      "metadata": {
        "colab": {
          "base_uri": "https://localhost:8080/"
        },
        "id": "ruO0Ss2XPc98",
        "outputId": "ae65c16c-97ad-407b-f76f-cbdd7fbbe627"
      },
      "execution_count": null,
      "outputs": [
        {
          "output_type": "execute_result",
          "data": {
            "text/plain": [
              "array(['15', '12', '1', '19', '13', '16', '23', '20', '22', '9', '14',\n",
              "       '8', '24'], dtype=object)"
            ]
          },
          "metadata": {},
          "execution_count": 94
        }
      ]
    },
    {
      "cell_type": "code",
      "source": [],
      "metadata": {
        "id": "ScSVzfj-rIjG"
      },
      "execution_count": null,
      "outputs": []
    },
    {
      "cell_type": "code",
      "source": [
        "val_df.info()"
      ],
      "metadata": {
        "colab": {
          "base_uri": "https://localhost:8080/"
        },
        "id": "bOG3pTxOnQfv",
        "outputId": "ed44df95-1b4c-48fc-95a0-b1f2e4305156"
      },
      "execution_count": null,
      "outputs": [
        {
          "output_type": "stream",
          "name": "stdout",
          "text": [
            "<class 'pandas.core.frame.DataFrame'>\n",
            "Index: 145 entries, 668 to 62\n",
            "Data columns (total 9 columns):\n",
            " #   Column                Non-Null Count  Dtype \n",
            "---  ------                --------------  ----- \n",
            " 0   Category              145 non-null    object\n",
            " 1   Resume                145 non-null    object\n",
            " 2   Cleaned_Resume        145 non-null    object\n",
            " 3   label                 145 non-null    int64 \n",
            " 4   Count                 145 non-null    int64 \n",
            " 5   Cleaned_Resume_Short  145 non-null    object\n",
            " 6   label_pred            145 non-null    object\n",
            " 7   label_pred_1          145 non-null    int64 \n",
            " 8   label_pred_2          145 non-null    object\n",
            "dtypes: int64(3), object(6)\n",
            "memory usage: 15.4+ KB\n"
          ]
        }
      ]
    },
    {
      "cell_type": "code",
      "source": [
        "val_df['label_pred_2'] = val_df['label_pred_2'].astype(int)"
      ],
      "metadata": {
        "id": "4mz6teqhrfKK"
      },
      "execution_count": null,
      "outputs": []
    },
    {
      "cell_type": "code",
      "source": [
        "# metric.compute(predictions=val_df[\"label_pred\"], references=val_df['label'])\n",
        "f1_score(y_true=val_df['label'], y_pred=val_df['label_pred_2'],average='weighted')"
      ],
      "metadata": {
        "colab": {
          "base_uri": "https://localhost:8080/"
        },
        "id": "WrW9CnUynSik",
        "outputId": "bfbb5652-393c-45e9-d0d9-033a594458ee"
      },
      "execution_count": null,
      "outputs": [
        {
          "output_type": "execute_result",
          "data": {
            "text/plain": [
              "0.20618934052399343"
            ]
          },
          "metadata": {},
          "execution_count": 97
        }
      ]
    },
    {
      "cell_type": "code",
      "source": [
        "accuracy_score(y_true=val_df['label'], y_pred=val_df['label_pred_2'])"
      ],
      "metadata": {
        "colab": {
          "base_uri": "https://localhost:8080/"
        },
        "id": "h1xKDI_groXX",
        "outputId": "417c81a3-43be-467c-d74d-ed1ec303247f"
      },
      "execution_count": null,
      "outputs": [
        {
          "output_type": "execute_result",
          "data": {
            "text/plain": [
              "0.27586206896551724"
            ]
          },
          "metadata": {},
          "execution_count": 98
        }
      ]
    },
    {
      "cell_type": "code",
      "source": [],
      "metadata": {
        "id": "tOTQdlWjLyjr"
      },
      "execution_count": null,
      "outputs": []
    },
    {
      "cell_type": "markdown",
      "metadata": {
        "id": "mr0xI6QwFN-Q"
      },
      "source": [
        "## **Optional**: Create a Gradio based web interface to test and display the model predictions"
      ]
    },
    {
      "cell_type": "code",
      "execution_count": null,
      "metadata": {
        "id": "wl0ngdnKjKHH",
        "colab": {
          "base_uri": "https://localhost:8080/"
        },
        "outputId": "fd4d8e9a-e5d7-4380-acff-b3c5f9ba5486"
      },
      "outputs": [
        {
          "output_type": "stream",
          "name": "stdout",
          "text": [
            "\u001b[2K     \u001b[90m━━━━━━━━━━━━━━━━━━━━━━━━━━━━━━━━━━━━━━━━\u001b[0m \u001b[32m50.4/50.4 kB\u001b[0m \u001b[31m3.4 MB/s\u001b[0m eta \u001b[36m0:00:00\u001b[0m\n",
            "\u001b[2K   \u001b[90m━━━━━━━━━━━━━━━━━━━━━━━━━━━━━━━━━━━━━━━━\u001b[0m \u001b[32m16.8/16.8 MB\u001b[0m \u001b[31m95.5 MB/s\u001b[0m eta \u001b[36m0:00:00\u001b[0m\n",
            "\u001b[2K   \u001b[90m━━━━━━━━━━━━━━━━━━━━━━━━━━━━━━━━━━━━━━━━\u001b[0m \u001b[32m318.7/318.7 kB\u001b[0m \u001b[31m25.9 MB/s\u001b[0m eta \u001b[36m0:00:00\u001b[0m\n",
            "\u001b[2K   \u001b[90m━━━━━━━━━━━━━━━━━━━━━━━━━━━━━━━━━━━━━━━━\u001b[0m \u001b[32m76.4/76.4 kB\u001b[0m \u001b[31m6.4 MB/s\u001b[0m eta \u001b[36m0:00:00\u001b[0m\n",
            "\u001b[2K   \u001b[90m━━━━━━━━━━━━━━━━━━━━━━━━━━━━━━━━━━━━━━━━\u001b[0m \u001b[32m77.9/77.9 kB\u001b[0m \u001b[31m6.3 MB/s\u001b[0m eta \u001b[36m0:00:00\u001b[0m\n",
            "\u001b[2K   \u001b[90m━━━━━━━━━━━━━━━━━━━━━━━━━━━━━━━━━━━━━━━━\u001b[0m \u001b[32m141.9/141.9 kB\u001b[0m \u001b[31m12.2 MB/s\u001b[0m eta \u001b[36m0:00:00\u001b[0m\n",
            "\u001b[2K   \u001b[90m━━━━━━━━━━━━━━━━━━━━━━━━━━━━━━━━━━━━━━━━\u001b[0m \u001b[32m10.3/10.3 MB\u001b[0m \u001b[31m100.7 MB/s\u001b[0m eta \u001b[36m0:00:00\u001b[0m\n",
            "\u001b[2K   \u001b[90m━━━━━━━━━━━━━━━━━━━━━━━━━━━━━━━━━━━━━━━━\u001b[0m \u001b[32m62.8/62.8 kB\u001b[0m \u001b[31m5.3 MB/s\u001b[0m eta \u001b[36m0:00:00\u001b[0m\n",
            "\u001b[2K   \u001b[90m━━━━━━━━━━━━━━━━━━━━━━━━━━━━━━━━━━━━━━━━\u001b[0m \u001b[32m93.5/93.5 kB\u001b[0m \u001b[31m8.9 MB/s\u001b[0m eta \u001b[36m0:00:00\u001b[0m\n",
            "\u001b[2K   \u001b[90m━━━━━━━━━━━━━━━━━━━━━━━━━━━━━━━━━━━━━━━━\u001b[0m \u001b[32m58.3/58.3 kB\u001b[0m \u001b[31m5.4 MB/s\u001b[0m eta \u001b[36m0:00:00\u001b[0m\n",
            "\u001b[2K   \u001b[90m━━━━━━━━━━━━━━━━━━━━━━━━━━━━━━━━━━━━━━━━\u001b[0m \u001b[32m72.0/72.0 kB\u001b[0m \u001b[31m6.3 MB/s\u001b[0m eta \u001b[36m0:00:00\u001b[0m\n",
            "\u001b[2K   \u001b[90m━━━━━━━━━━━━━━━━━━━━━━━━━━━━━━━━━━━━━━━━\u001b[0m \u001b[32m130.2/130.2 kB\u001b[0m \u001b[31m12.1 MB/s\u001b[0m eta \u001b[36m0:00:00\u001b[0m\n",
            "\u001b[?25h"
          ]
        }
      ],
      "source": [
        "!pip -q install gradio"
      ]
    },
    {
      "cell_type": "code",
      "execution_count": null,
      "metadata": {
        "id": "3XwCJSdDDVVU"
      },
      "outputs": [],
      "source": [
        "import gradio"
      ]
    },
    {
      "cell_type": "code",
      "execution_count": null,
      "metadata": {
        "id": "bpRnUY5w551-",
        "colab": {
          "base_uri": "https://localhost:8080/",
          "height": 593
        },
        "outputId": "0fac995b-17f5-42d2-84ef-c632ec677731"
      },
      "outputs": [
        {
          "output_type": "stream",
          "name": "stdout",
          "text": [
            "Colab notebook detected. To show errors in colab notebook, set debug=True in launch()\n",
            "Running on public URL: https://d66e8b976d41e53399.gradio.live\n",
            "\n",
            "This share link expires in 72 hours. For free permanent hosting and GPU upgrades, run `gradio deploy` from Terminal to deploy to Spaces (https://huggingface.co/spaces)\n"
          ]
        },
        {
          "output_type": "display_data",
          "data": {
            "text/plain": [
              "<IPython.core.display.HTML object>"
            ],
            "text/html": [
              "<div><iframe src=\"https://d66e8b976d41e53399.gradio.live\" width=\"100%\" height=\"500\" allow=\"autoplay; camera; microphone; clipboard-read; clipboard-write;\" frameborder=\"0\" allowfullscreen></iframe></div>"
            ]
          },
          "metadata": {}
        },
        {
          "output_type": "execute_result",
          "data": {
            "text/plain": []
          },
          "metadata": {},
          "execution_count": 80
        }
      ],
      "source": [
        "# Textbox to take Input from user\n",
        "in_text = gradio.Textbox(lines=10, placeholder=None, value=\"Enter resume text here\", label='Resume Text')\n",
        "\n",
        "\n",
        "# Textbox to display Output prediction\n",
        "out_label = gradio.Textbox(type=\"text\", label='Predicted Class Label')\n",
        "\n",
        "\n",
        "# Gradio interface to create UI\n",
        "iface = gradio.Interface(fn = make_prediction,             # fine-tuned model is used inside this function\n",
        "                         inputs = [in_text],\n",
        "                         outputs = [out_label],\n",
        "                         title = \"Resume Classification\",\n",
        "                         description = \"Using fine-tuned Bert model\",\n",
        "                         allow_flagging = 'never')\n",
        "\n",
        "\n",
        "# Launch interface\n",
        "iface.launch(share = True)"
      ]
    },
    {
      "cell_type": "code",
      "source": [],
      "metadata": {
        "id": "mwF0sCLzb3Ec"
      },
      "execution_count": null,
      "outputs": []
    }
  ]
}